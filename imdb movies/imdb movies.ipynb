{
 "cells": [
  {
   "cell_type": "code",
   "execution_count": 1,
   "id": "519af06a",
   "metadata": {
    "ExecuteTime": {
     "end_time": "2023-04-23T17:22:52.771505Z",
     "start_time": "2023-04-23T17:22:45.879300Z"
    }
   },
   "outputs": [],
   "source": [
    "import pandas as pd\n",
    "import matplotlib.pyplot as plt\n",
    "import seaborn as sns"
   ]
  },
  {
   "cell_type": "code",
   "execution_count": 2,
   "id": "3e552955",
   "metadata": {
    "ExecuteTime": {
     "end_time": "2023-04-23T17:22:52.817549Z",
     "start_time": "2023-04-23T17:22:52.771505Z"
    }
   },
   "outputs": [],
   "source": [
    "movies = pd.read_csv(\"IMDB-Movie-Data.csv\")"
   ]
  },
  {
   "cell_type": "markdown",
   "id": "c1d5b445",
   "metadata": {
    "ExecuteTime": {
     "end_time": "2023-04-23T17:22:52.828613Z",
     "start_time": "2023-04-23T17:22:52.817549Z"
    }
   },
   "source": [
    "### Display Top 10 Rows of The Dataset"
   ]
  },
  {
   "cell_type": "code",
   "execution_count": 4,
   "id": "05a441db",
   "metadata": {
    "ExecuteTime": {
     "end_time": "2023-04-23T17:22:52.887433Z",
     "start_time": "2023-04-23T17:22:52.828613Z"
    }
   },
   "outputs": [
    {
     "data": {
      "text/html": [
       "<div>\n",
       "<style scoped>\n",
       "    .dataframe tbody tr th:only-of-type {\n",
       "        vertical-align: middle;\n",
       "    }\n",
       "\n",
       "    .dataframe tbody tr th {\n",
       "        vertical-align: top;\n",
       "    }\n",
       "\n",
       "    .dataframe thead th {\n",
       "        text-align: right;\n",
       "    }\n",
       "</style>\n",
       "<table border=\"1\" class=\"dataframe\">\n",
       "  <thead>\n",
       "    <tr style=\"text-align: right;\">\n",
       "      <th></th>\n",
       "      <th>Rank</th>\n",
       "      <th>Title</th>\n",
       "      <th>Genre</th>\n",
       "      <th>Description</th>\n",
       "      <th>Director</th>\n",
       "      <th>Actors</th>\n",
       "      <th>Year</th>\n",
       "      <th>Runtime (Minutes)</th>\n",
       "      <th>Rating</th>\n",
       "      <th>Votes</th>\n",
       "      <th>Revenue (Millions)</th>\n",
       "      <th>Metascore</th>\n",
       "    </tr>\n",
       "  </thead>\n",
       "  <tbody>\n",
       "    <tr>\n",
       "      <th>0</th>\n",
       "      <td>1</td>\n",
       "      <td>Guardians of the Galaxy</td>\n",
       "      <td>Action,Adventure,Sci-Fi</td>\n",
       "      <td>A group of intergalactic criminals are forced ...</td>\n",
       "      <td>James Gunn</td>\n",
       "      <td>Chris Pratt, Vin Diesel, Bradley Cooper, Zoe S...</td>\n",
       "      <td>2014</td>\n",
       "      <td>121</td>\n",
       "      <td>8.1</td>\n",
       "      <td>757074</td>\n",
       "      <td>333.13</td>\n",
       "      <td>76.0</td>\n",
       "    </tr>\n",
       "    <tr>\n",
       "      <th>1</th>\n",
       "      <td>2</td>\n",
       "      <td>Prometheus</td>\n",
       "      <td>Adventure,Mystery,Sci-Fi</td>\n",
       "      <td>Following clues to the origin of mankind, a te...</td>\n",
       "      <td>Ridley Scott</td>\n",
       "      <td>Noomi Rapace, Logan Marshall-Green, Michael Fa...</td>\n",
       "      <td>2012</td>\n",
       "      <td>124</td>\n",
       "      <td>7.0</td>\n",
       "      <td>485820</td>\n",
       "      <td>126.46</td>\n",
       "      <td>65.0</td>\n",
       "    </tr>\n",
       "    <tr>\n",
       "      <th>2</th>\n",
       "      <td>3</td>\n",
       "      <td>Split</td>\n",
       "      <td>Horror,Thriller</td>\n",
       "      <td>Three girls are kidnapped by a man with a diag...</td>\n",
       "      <td>M. Night Shyamalan</td>\n",
       "      <td>James McAvoy, Anya Taylor-Joy, Haley Lu Richar...</td>\n",
       "      <td>2016</td>\n",
       "      <td>117</td>\n",
       "      <td>7.3</td>\n",
       "      <td>157606</td>\n",
       "      <td>138.12</td>\n",
       "      <td>62.0</td>\n",
       "    </tr>\n",
       "    <tr>\n",
       "      <th>3</th>\n",
       "      <td>4</td>\n",
       "      <td>Sing</td>\n",
       "      <td>Animation,Comedy,Family</td>\n",
       "      <td>In a city of humanoid animals, a hustling thea...</td>\n",
       "      <td>Christophe Lourdelet</td>\n",
       "      <td>Matthew McConaughey,Reese Witherspoon, Seth Ma...</td>\n",
       "      <td>2016</td>\n",
       "      <td>108</td>\n",
       "      <td>7.2</td>\n",
       "      <td>60545</td>\n",
       "      <td>270.32</td>\n",
       "      <td>59.0</td>\n",
       "    </tr>\n",
       "    <tr>\n",
       "      <th>4</th>\n",
       "      <td>5</td>\n",
       "      <td>Suicide Squad</td>\n",
       "      <td>Action,Adventure,Fantasy</td>\n",
       "      <td>A secret government agency recruits some of th...</td>\n",
       "      <td>David Ayer</td>\n",
       "      <td>Will Smith, Jared Leto, Margot Robbie, Viola D...</td>\n",
       "      <td>2016</td>\n",
       "      <td>123</td>\n",
       "      <td>6.2</td>\n",
       "      <td>393727</td>\n",
       "      <td>325.02</td>\n",
       "      <td>40.0</td>\n",
       "    </tr>\n",
       "    <tr>\n",
       "      <th>5</th>\n",
       "      <td>6</td>\n",
       "      <td>The Great Wall</td>\n",
       "      <td>Action,Adventure,Fantasy</td>\n",
       "      <td>European mercenaries searching for black powde...</td>\n",
       "      <td>Yimou Zhang</td>\n",
       "      <td>Matt Damon, Tian Jing, Willem Dafoe, Andy Lau</td>\n",
       "      <td>2016</td>\n",
       "      <td>103</td>\n",
       "      <td>6.1</td>\n",
       "      <td>56036</td>\n",
       "      <td>45.13</td>\n",
       "      <td>42.0</td>\n",
       "    </tr>\n",
       "    <tr>\n",
       "      <th>6</th>\n",
       "      <td>7</td>\n",
       "      <td>La La Land</td>\n",
       "      <td>Comedy,Drama,Music</td>\n",
       "      <td>A jazz pianist falls for an aspiring actress i...</td>\n",
       "      <td>Damien Chazelle</td>\n",
       "      <td>Ryan Gosling, Emma Stone, Rosemarie DeWitt, J....</td>\n",
       "      <td>2016</td>\n",
       "      <td>128</td>\n",
       "      <td>8.3</td>\n",
       "      <td>258682</td>\n",
       "      <td>151.06</td>\n",
       "      <td>93.0</td>\n",
       "    </tr>\n",
       "    <tr>\n",
       "      <th>7</th>\n",
       "      <td>8</td>\n",
       "      <td>Mindhorn</td>\n",
       "      <td>Comedy</td>\n",
       "      <td>A has-been actor best known for playing the ti...</td>\n",
       "      <td>Sean Foley</td>\n",
       "      <td>Essie Davis, Andrea Riseborough, Julian Barrat...</td>\n",
       "      <td>2016</td>\n",
       "      <td>89</td>\n",
       "      <td>6.4</td>\n",
       "      <td>2490</td>\n",
       "      <td>NaN</td>\n",
       "      <td>71.0</td>\n",
       "    </tr>\n",
       "    <tr>\n",
       "      <th>8</th>\n",
       "      <td>9</td>\n",
       "      <td>The Lost City of Z</td>\n",
       "      <td>Action,Adventure,Biography</td>\n",
       "      <td>A true-life drama, centering on British explor...</td>\n",
       "      <td>James Gray</td>\n",
       "      <td>Charlie Hunnam, Robert Pattinson, Sienna Mille...</td>\n",
       "      <td>2016</td>\n",
       "      <td>141</td>\n",
       "      <td>7.1</td>\n",
       "      <td>7188</td>\n",
       "      <td>8.01</td>\n",
       "      <td>78.0</td>\n",
       "    </tr>\n",
       "    <tr>\n",
       "      <th>9</th>\n",
       "      <td>10</td>\n",
       "      <td>Passengers</td>\n",
       "      <td>Adventure,Drama,Romance</td>\n",
       "      <td>A spacecraft traveling to a distant colony pla...</td>\n",
       "      <td>Morten Tyldum</td>\n",
       "      <td>Jennifer Lawrence, Chris Pratt, Michael Sheen,...</td>\n",
       "      <td>2016</td>\n",
       "      <td>116</td>\n",
       "      <td>7.0</td>\n",
       "      <td>192177</td>\n",
       "      <td>100.01</td>\n",
       "      <td>41.0</td>\n",
       "    </tr>\n",
       "  </tbody>\n",
       "</table>\n",
       "</div>"
      ],
      "text/plain": [
       "   Rank                    Title                       Genre  \\\n",
       "0     1  Guardians of the Galaxy     Action,Adventure,Sci-Fi   \n",
       "1     2               Prometheus    Adventure,Mystery,Sci-Fi   \n",
       "2     3                    Split             Horror,Thriller   \n",
       "3     4                     Sing     Animation,Comedy,Family   \n",
       "4     5            Suicide Squad    Action,Adventure,Fantasy   \n",
       "5     6           The Great Wall    Action,Adventure,Fantasy   \n",
       "6     7               La La Land          Comedy,Drama,Music   \n",
       "7     8                 Mindhorn                      Comedy   \n",
       "8     9       The Lost City of Z  Action,Adventure,Biography   \n",
       "9    10               Passengers     Adventure,Drama,Romance   \n",
       "\n",
       "                                         Description              Director  \\\n",
       "0  A group of intergalactic criminals are forced ...            James Gunn   \n",
       "1  Following clues to the origin of mankind, a te...          Ridley Scott   \n",
       "2  Three girls are kidnapped by a man with a diag...    M. Night Shyamalan   \n",
       "3  In a city of humanoid animals, a hustling thea...  Christophe Lourdelet   \n",
       "4  A secret government agency recruits some of th...            David Ayer   \n",
       "5  European mercenaries searching for black powde...           Yimou Zhang   \n",
       "6  A jazz pianist falls for an aspiring actress i...       Damien Chazelle   \n",
       "7  A has-been actor best known for playing the ti...            Sean Foley   \n",
       "8  A true-life drama, centering on British explor...            James Gray   \n",
       "9  A spacecraft traveling to a distant colony pla...         Morten Tyldum   \n",
       "\n",
       "                                              Actors  Year  Runtime (Minutes)  \\\n",
       "0  Chris Pratt, Vin Diesel, Bradley Cooper, Zoe S...  2014                121   \n",
       "1  Noomi Rapace, Logan Marshall-Green, Michael Fa...  2012                124   \n",
       "2  James McAvoy, Anya Taylor-Joy, Haley Lu Richar...  2016                117   \n",
       "3  Matthew McConaughey,Reese Witherspoon, Seth Ma...  2016                108   \n",
       "4  Will Smith, Jared Leto, Margot Robbie, Viola D...  2016                123   \n",
       "5      Matt Damon, Tian Jing, Willem Dafoe, Andy Lau  2016                103   \n",
       "6  Ryan Gosling, Emma Stone, Rosemarie DeWitt, J....  2016                128   \n",
       "7  Essie Davis, Andrea Riseborough, Julian Barrat...  2016                 89   \n",
       "8  Charlie Hunnam, Robert Pattinson, Sienna Mille...  2016                141   \n",
       "9  Jennifer Lawrence, Chris Pratt, Michael Sheen,...  2016                116   \n",
       "\n",
       "   Rating   Votes  Revenue (Millions)  Metascore  \n",
       "0     8.1  757074              333.13       76.0  \n",
       "1     7.0  485820              126.46       65.0  \n",
       "2     7.3  157606              138.12       62.0  \n",
       "3     7.2   60545              270.32       59.0  \n",
       "4     6.2  393727              325.02       40.0  \n",
       "5     6.1   56036               45.13       42.0  \n",
       "6     8.3  258682              151.06       93.0  \n",
       "7     6.4    2490                 NaN       71.0  \n",
       "8     7.1    7188                8.01       78.0  \n",
       "9     7.0  192177              100.01       41.0  "
      ]
     },
     "execution_count": 4,
     "metadata": {},
     "output_type": "execute_result"
    }
   ],
   "source": [
    "movies.head(10)"
   ]
  },
  {
   "cell_type": "markdown",
   "id": "09e10110",
   "metadata": {},
   "source": [
    "### Check Last 10 Rows of The Dataset"
   ]
  },
  {
   "cell_type": "code",
   "execution_count": 5,
   "id": "5375a396",
   "metadata": {
    "ExecuteTime": {
     "end_time": "2023-04-23T17:22:52.919673Z",
     "start_time": "2023-04-23T17:22:52.890214Z"
    }
   },
   "outputs": [
    {
     "data": {
      "text/html": [
       "<div>\n",
       "<style scoped>\n",
       "    .dataframe tbody tr th:only-of-type {\n",
       "        vertical-align: middle;\n",
       "    }\n",
       "\n",
       "    .dataframe tbody tr th {\n",
       "        vertical-align: top;\n",
       "    }\n",
       "\n",
       "    .dataframe thead th {\n",
       "        text-align: right;\n",
       "    }\n",
       "</style>\n",
       "<table border=\"1\" class=\"dataframe\">\n",
       "  <thead>\n",
       "    <tr style=\"text-align: right;\">\n",
       "      <th></th>\n",
       "      <th>Rank</th>\n",
       "      <th>Title</th>\n",
       "      <th>Genre</th>\n",
       "      <th>Description</th>\n",
       "      <th>Director</th>\n",
       "      <th>Actors</th>\n",
       "      <th>Year</th>\n",
       "      <th>Runtime (Minutes)</th>\n",
       "      <th>Rating</th>\n",
       "      <th>Votes</th>\n",
       "      <th>Revenue (Millions)</th>\n",
       "      <th>Metascore</th>\n",
       "    </tr>\n",
       "  </thead>\n",
       "  <tbody>\n",
       "    <tr>\n",
       "      <th>990</th>\n",
       "      <td>991</td>\n",
       "      <td>Underworld: Rise of the Lycans</td>\n",
       "      <td>Action,Adventure,Fantasy</td>\n",
       "      <td>An origins story centered on the centuries-old...</td>\n",
       "      <td>Patrick Tatopoulos</td>\n",
       "      <td>Rhona Mitra, Michael Sheen, Bill Nighy, Steven...</td>\n",
       "      <td>2009</td>\n",
       "      <td>92</td>\n",
       "      <td>6.6</td>\n",
       "      <td>129708</td>\n",
       "      <td>45.80</td>\n",
       "      <td>44.0</td>\n",
       "    </tr>\n",
       "    <tr>\n",
       "      <th>991</th>\n",
       "      <td>992</td>\n",
       "      <td>Taare Zameen Par</td>\n",
       "      <td>Drama,Family,Music</td>\n",
       "      <td>An eight-year-old boy is thought to be a lazy ...</td>\n",
       "      <td>Aamir Khan</td>\n",
       "      <td>Darsheel Safary, Aamir Khan, Tanay Chheda, Sac...</td>\n",
       "      <td>2007</td>\n",
       "      <td>165</td>\n",
       "      <td>8.5</td>\n",
       "      <td>102697</td>\n",
       "      <td>1.20</td>\n",
       "      <td>42.0</td>\n",
       "    </tr>\n",
       "    <tr>\n",
       "      <th>992</th>\n",
       "      <td>993</td>\n",
       "      <td>Take Me Home Tonight</td>\n",
       "      <td>Comedy,Drama,Romance</td>\n",
       "      <td>Four years after graduation, an awkward high s...</td>\n",
       "      <td>Michael Dowse</td>\n",
       "      <td>Topher Grace, Anna Faris, Dan Fogler, Teresa P...</td>\n",
       "      <td>2011</td>\n",
       "      <td>97</td>\n",
       "      <td>6.3</td>\n",
       "      <td>45419</td>\n",
       "      <td>6.92</td>\n",
       "      <td>NaN</td>\n",
       "    </tr>\n",
       "    <tr>\n",
       "      <th>993</th>\n",
       "      <td>994</td>\n",
       "      <td>Resident Evil: Afterlife</td>\n",
       "      <td>Action,Adventure,Horror</td>\n",
       "      <td>While still out to destroy the evil Umbrella C...</td>\n",
       "      <td>Paul W.S. Anderson</td>\n",
       "      <td>Milla Jovovich, Ali Larter, Wentworth Miller,K...</td>\n",
       "      <td>2010</td>\n",
       "      <td>97</td>\n",
       "      <td>5.9</td>\n",
       "      <td>140900</td>\n",
       "      <td>60.13</td>\n",
       "      <td>37.0</td>\n",
       "    </tr>\n",
       "    <tr>\n",
       "      <th>994</th>\n",
       "      <td>995</td>\n",
       "      <td>Project X</td>\n",
       "      <td>Comedy</td>\n",
       "      <td>3 high school seniors throw a birthday party t...</td>\n",
       "      <td>Nima Nourizadeh</td>\n",
       "      <td>Thomas Mann, Oliver Cooper, Jonathan Daniel Br...</td>\n",
       "      <td>2012</td>\n",
       "      <td>88</td>\n",
       "      <td>6.7</td>\n",
       "      <td>164088</td>\n",
       "      <td>54.72</td>\n",
       "      <td>48.0</td>\n",
       "    </tr>\n",
       "    <tr>\n",
       "      <th>995</th>\n",
       "      <td>996</td>\n",
       "      <td>Secret in Their Eyes</td>\n",
       "      <td>Crime,Drama,Mystery</td>\n",
       "      <td>A tight-knit team of rising investigators, alo...</td>\n",
       "      <td>Billy Ray</td>\n",
       "      <td>Chiwetel Ejiofor, Nicole Kidman, Julia Roberts...</td>\n",
       "      <td>2015</td>\n",
       "      <td>111</td>\n",
       "      <td>6.2</td>\n",
       "      <td>27585</td>\n",
       "      <td>NaN</td>\n",
       "      <td>45.0</td>\n",
       "    </tr>\n",
       "    <tr>\n",
       "      <th>996</th>\n",
       "      <td>997</td>\n",
       "      <td>Hostel: Part II</td>\n",
       "      <td>Horror</td>\n",
       "      <td>Three American college students studying abroa...</td>\n",
       "      <td>Eli Roth</td>\n",
       "      <td>Lauren German, Heather Matarazzo, Bijou Philli...</td>\n",
       "      <td>2007</td>\n",
       "      <td>94</td>\n",
       "      <td>5.5</td>\n",
       "      <td>73152</td>\n",
       "      <td>17.54</td>\n",
       "      <td>46.0</td>\n",
       "    </tr>\n",
       "    <tr>\n",
       "      <th>997</th>\n",
       "      <td>998</td>\n",
       "      <td>Step Up 2: The Streets</td>\n",
       "      <td>Drama,Music,Romance</td>\n",
       "      <td>Romantic sparks occur between two dance studen...</td>\n",
       "      <td>Jon M. Chu</td>\n",
       "      <td>Robert Hoffman, Briana Evigan, Cassie Ventura,...</td>\n",
       "      <td>2008</td>\n",
       "      <td>98</td>\n",
       "      <td>6.2</td>\n",
       "      <td>70699</td>\n",
       "      <td>58.01</td>\n",
       "      <td>50.0</td>\n",
       "    </tr>\n",
       "    <tr>\n",
       "      <th>998</th>\n",
       "      <td>999</td>\n",
       "      <td>Search Party</td>\n",
       "      <td>Adventure,Comedy</td>\n",
       "      <td>A pair of friends embark on a mission to reuni...</td>\n",
       "      <td>Scot Armstrong</td>\n",
       "      <td>Adam Pally, T.J. Miller, Thomas Middleditch,Sh...</td>\n",
       "      <td>2014</td>\n",
       "      <td>93</td>\n",
       "      <td>5.6</td>\n",
       "      <td>4881</td>\n",
       "      <td>NaN</td>\n",
       "      <td>22.0</td>\n",
       "    </tr>\n",
       "    <tr>\n",
       "      <th>999</th>\n",
       "      <td>1000</td>\n",
       "      <td>Nine Lives</td>\n",
       "      <td>Comedy,Family,Fantasy</td>\n",
       "      <td>A stuffy businessman finds himself trapped ins...</td>\n",
       "      <td>Barry Sonnenfeld</td>\n",
       "      <td>Kevin Spacey, Jennifer Garner, Robbie Amell,Ch...</td>\n",
       "      <td>2016</td>\n",
       "      <td>87</td>\n",
       "      <td>5.3</td>\n",
       "      <td>12435</td>\n",
       "      <td>19.64</td>\n",
       "      <td>11.0</td>\n",
       "    </tr>\n",
       "  </tbody>\n",
       "</table>\n",
       "</div>"
      ],
      "text/plain": [
       "     Rank                           Title                     Genre  \\\n",
       "990   991  Underworld: Rise of the Lycans  Action,Adventure,Fantasy   \n",
       "991   992                Taare Zameen Par        Drama,Family,Music   \n",
       "992   993            Take Me Home Tonight      Comedy,Drama,Romance   \n",
       "993   994        Resident Evil: Afterlife   Action,Adventure,Horror   \n",
       "994   995                       Project X                    Comedy   \n",
       "995   996            Secret in Their Eyes       Crime,Drama,Mystery   \n",
       "996   997                 Hostel: Part II                    Horror   \n",
       "997   998          Step Up 2: The Streets       Drama,Music,Romance   \n",
       "998   999                    Search Party          Adventure,Comedy   \n",
       "999  1000                      Nine Lives     Comedy,Family,Fantasy   \n",
       "\n",
       "                                           Description            Director  \\\n",
       "990  An origins story centered on the centuries-old...  Patrick Tatopoulos   \n",
       "991  An eight-year-old boy is thought to be a lazy ...          Aamir Khan   \n",
       "992  Four years after graduation, an awkward high s...       Michael Dowse   \n",
       "993  While still out to destroy the evil Umbrella C...  Paul W.S. Anderson   \n",
       "994  3 high school seniors throw a birthday party t...     Nima Nourizadeh   \n",
       "995  A tight-knit team of rising investigators, alo...           Billy Ray   \n",
       "996  Three American college students studying abroa...            Eli Roth   \n",
       "997  Romantic sparks occur between two dance studen...          Jon M. Chu   \n",
       "998  A pair of friends embark on a mission to reuni...      Scot Armstrong   \n",
       "999  A stuffy businessman finds himself trapped ins...    Barry Sonnenfeld   \n",
       "\n",
       "                                                Actors  Year  \\\n",
       "990  Rhona Mitra, Michael Sheen, Bill Nighy, Steven...  2009   \n",
       "991  Darsheel Safary, Aamir Khan, Tanay Chheda, Sac...  2007   \n",
       "992  Topher Grace, Anna Faris, Dan Fogler, Teresa P...  2011   \n",
       "993  Milla Jovovich, Ali Larter, Wentworth Miller,K...  2010   \n",
       "994  Thomas Mann, Oliver Cooper, Jonathan Daniel Br...  2012   \n",
       "995  Chiwetel Ejiofor, Nicole Kidman, Julia Roberts...  2015   \n",
       "996  Lauren German, Heather Matarazzo, Bijou Philli...  2007   \n",
       "997  Robert Hoffman, Briana Evigan, Cassie Ventura,...  2008   \n",
       "998  Adam Pally, T.J. Miller, Thomas Middleditch,Sh...  2014   \n",
       "999  Kevin Spacey, Jennifer Garner, Robbie Amell,Ch...  2016   \n",
       "\n",
       "     Runtime (Minutes)  Rating   Votes  Revenue (Millions)  Metascore  \n",
       "990                 92     6.6  129708               45.80       44.0  \n",
       "991                165     8.5  102697                1.20       42.0  \n",
       "992                 97     6.3   45419                6.92        NaN  \n",
       "993                 97     5.9  140900               60.13       37.0  \n",
       "994                 88     6.7  164088               54.72       48.0  \n",
       "995                111     6.2   27585                 NaN       45.0  \n",
       "996                 94     5.5   73152               17.54       46.0  \n",
       "997                 98     6.2   70699               58.01       50.0  \n",
       "998                 93     5.6    4881                 NaN       22.0  \n",
       "999                 87     5.3   12435               19.64       11.0  "
      ]
     },
     "execution_count": 5,
     "metadata": {},
     "output_type": "execute_result"
    }
   ],
   "source": [
    "movies.tail(10)"
   ]
  },
  {
   "cell_type": "markdown",
   "id": "85472f29",
   "metadata": {
    "ExecuteTime": {
     "end_time": "2023-04-23T17:23:12.528760Z",
     "start_time": "2023-04-23T17:23:12.525495Z"
    }
   },
   "source": [
    "### Find Shape of Our Dataset (Number of Rows And Number of Columns)"
   ]
  },
  {
   "cell_type": "code",
   "execution_count": 7,
   "id": "d622b596",
   "metadata": {
    "ExecuteTime": {
     "end_time": "2023-04-23T17:22:52.952966Z",
     "start_time": "2023-04-23T17:22:52.938156Z"
    }
   },
   "outputs": [
    {
     "data": {
      "text/plain": [
       "(1000, 12)"
      ]
     },
     "execution_count": 7,
     "metadata": {},
     "output_type": "execute_result"
    }
   ],
   "source": [
    "movies.shape"
   ]
  },
  {
   "cell_type": "markdown",
   "id": "f1788511",
   "metadata": {
    "ExecuteTime": {
     "end_time": "2023-04-23T17:22:52.963727Z",
     "start_time": "2023-04-23T17:22:52.959420Z"
    }
   },
   "source": [
    "### Getting Information About Our Dataset Like Total Number Rows, Total Number of Columns, Datatypes of Each Column And Memory Requirement\n"
   ]
  },
  {
   "cell_type": "code",
   "execution_count": 9,
   "id": "c0eec4fa",
   "metadata": {
    "ExecuteTime": {
     "end_time": "2023-04-23T17:22:52.992976Z",
     "start_time": "2023-04-23T17:22:52.968729Z"
    }
   },
   "outputs": [
    {
     "name": "stdout",
     "output_type": "stream",
     "text": [
      "<class 'pandas.core.frame.DataFrame'>\n",
      "RangeIndex: 1000 entries, 0 to 999\n",
      "Data columns (total 12 columns):\n",
      " #   Column              Non-Null Count  Dtype  \n",
      "---  ------              --------------  -----  \n",
      " 0   Rank                1000 non-null   int64  \n",
      " 1   Title               1000 non-null   object \n",
      " 2   Genre               1000 non-null   object \n",
      " 3   Description         1000 non-null   object \n",
      " 4   Director            1000 non-null   object \n",
      " 5   Actors              1000 non-null   object \n",
      " 6   Year                1000 non-null   int64  \n",
      " 7   Runtime (Minutes)   1000 non-null   int64  \n",
      " 8   Rating              1000 non-null   float64\n",
      " 9   Votes               1000 non-null   int64  \n",
      " 10  Revenue (Millions)  872 non-null    float64\n",
      " 11  Metascore           936 non-null    float64\n",
      "dtypes: float64(3), int64(4), object(5)\n",
      "memory usage: 93.9+ KB\n"
     ]
    }
   ],
   "source": [
    "movies.info()"
   ]
  },
  {
   "cell_type": "markdown",
   "id": "f4b366ff",
   "metadata": {
    "ExecuteTime": {
     "end_time": "2023-04-23T17:22:53.015645Z",
     "start_time": "2023-04-23T17:22:53.008171Z"
    }
   },
   "source": [
    "### Check Missing Values In The Dataset"
   ]
  },
  {
   "cell_type": "code",
   "execution_count": 11,
   "id": "e6a93a77",
   "metadata": {
    "ExecuteTime": {
     "end_time": "2023-04-23T17:22:53.038998Z",
     "start_time": "2023-04-23T17:22:53.021647Z"
    }
   },
   "outputs": [
    {
     "data": {
      "text/plain": [
       "Rank                    0\n",
       "Title                   0\n",
       "Genre                   0\n",
       "Description             0\n",
       "Director                0\n",
       "Actors                  0\n",
       "Year                    0\n",
       "Runtime (Minutes)       0\n",
       "Rating                  0\n",
       "Votes                   0\n",
       "Revenue (Millions)    128\n",
       "Metascore              64\n",
       "dtype: int64"
      ]
     },
     "execution_count": 11,
     "metadata": {},
     "output_type": "execute_result"
    }
   ],
   "source": [
    "missing_values = movies.isnull().sum()\n",
    "missing_values"
   ]
  },
  {
   "cell_type": "code",
   "execution_count": 17,
   "id": "1b6b6a7b",
   "metadata": {
    "ExecuteTime": {
     "end_time": "2023-04-23T17:23:45.515151Z",
     "start_time": "2023-04-23T17:23:45.016010Z"
    }
   },
   "outputs": [
    {
     "data": {
      "image/png": "[encoded data removed]",
      "text/plain": [
       "<Figure size 640x480 with 2 Axes>"
      ]
     },
     "metadata": {},
     "output_type": "display_data"
    }
   ],
   "source": [
    "# Add a y-label to indicate the features being plotted\n",
    "sns.heatmap(movies.isnull(), cmap='Reds')\n",
    "plt.title(\"Missing Values Heatmap\")\n",
    "plt.ylabel(\"Features\")\n",
    "plt.show()"
   ]
  },
  {
   "cell_type": "markdown",
   "id": "f69c9eac",
   "metadata": {
    "ExecuteTime": {
     "end_time": "2023-04-23T17:22:53.834144Z",
     "start_time": "2023-04-23T17:22:53.825073Z"
    }
   },
   "source": [
    "### Check For Duplicate Data"
   ]
  },
  {
   "cell_type": "code",
   "execution_count": 14,
   "id": "46f31458",
   "metadata": {
    "ExecuteTime": {
     "end_time": "2023-04-23T17:22:53.855100Z",
     "start_time": "2023-04-23T17:22:53.838147Z"
    }
   },
   "outputs": [
    {
     "data": {
      "text/plain": [
       "0"
      ]
     },
     "execution_count": 14,
     "metadata": {},
     "output_type": "execute_result"
    }
   ],
   "source": [
    "### Check For Duplicate Data\n",
    "duplicate_rows = movies.duplicated().sum()\n",
    "duplicate_rows"
   ]
  },
  {
   "cell_type": "markdown",
   "id": "7d1f1afc",
   "metadata": {
    "ExecuteTime": {
     "end_time": "2023-04-23T17:22:53.867400Z",
     "start_time": "2023-04-23T17:22:53.858979Z"
    }
   },
   "source": [
    "------ finding--------\n",
    "no duplicate value in this dataset"
   ]
  },
  {
   "cell_type": "markdown",
   "id": "67d90cfc",
   "metadata": {
    "ExecuteTime": {
     "end_time": "2023-04-23T17:22:53.879742Z",
     "start_time": "2023-04-23T17:22:53.879742Z"
    }
   },
   "source": [
    "###  Get Overall Statistics About The DataFrame"
   ]
  },
  {
   "cell_type": "code",
   "execution_count": null,
   "id": "4b5de8cb",
   "metadata": {
    "ExecuteTime": {
     "end_time": "2023-04-23T17:22:53.882740Z",
     "start_time": "2023-04-23T17:22:53.882740Z"
    }
   },
   "outputs": [],
   "source": [
    "movies.describe()"
   ]
  },
  {
   "cell_type": "markdown",
   "id": "4b2d5504",
   "metadata": {},
   "source": [
    "### Drop All The Missing Values"
   ]
  },
  {
   "cell_type": "code",
   "execution_count": null,
   "id": "b94c3f90",
   "metadata": {
    "ExecuteTime": {
     "end_time": "2023-04-23T17:22:53.886738Z",
     "start_time": "2023-04-23T17:22:53.886738Z"
    }
   },
   "outputs": [],
   "source": [
    "movies = movies.dropna()"
   ]
  },
  {
   "cell_type": "markdown",
   "id": "fe17bcce",
   "metadata": {
    "ExecuteTime": {
     "end_time": "2023-04-23T17:21:54.150736Z",
     "start_time": "2023-04-23T17:21:54.143846Z"
    }
   },
   "source": [
    "### Display Title of The Movie Having Runtime >= 180 Minutes"
   ]
  },
  {
   "cell_type": "code",
   "execution_count": 29,
   "id": "1e55fa34",
   "metadata": {
    "ExecuteTime": {
     "end_time": "2023-04-23T17:29:48.490583Z",
     "start_time": "2023-04-23T17:29:48.480945Z"
    }
   },
   "outputs": [
    {
     "data": {
      "text/plain": [
       "82     The Wolf of Wall Street\n",
       "88           The Hateful Eight\n",
       "311             La vie d'Adèle\n",
       "828                 Grindhouse\n",
       "965              Inland Empire\n",
       "Name: Title, dtype: object"
      ]
     },
     "execution_count": 29,
     "metadata": {},
     "output_type": "execute_result"
    }
   ],
   "source": [
    "movies['Title'][movies['Runtime (Minutes)']>=180]"
   ]
  },
  {
   "cell_type": "markdown",
   "id": "c06637f7",
   "metadata": {},
   "source": [
    "### In Which Year There Was The Highest Average Voting?"
   ]
  },
  {
   "cell_type": "code",
   "execution_count": 31,
   "id": "b4501774",
   "metadata": {
    "ExecuteTime": {
     "end_time": "2023-04-23T17:30:41.529791Z",
     "start_time": "2023-04-23T17:30:41.522723Z"
    }
   },
   "outputs": [
    {
     "data": {
      "text/plain": [
       "Index(['Rank', 'Title', 'Genre', 'Description', 'Director', 'Actors', 'Year',\n",
       "       'Runtime (Minutes)', 'Rating', 'Votes', 'Revenue (Millions)',\n",
       "       'Metascore'],\n",
       "      dtype='object')"
      ]
     },
     "execution_count": 31,
     "metadata": {},
     "output_type": "execute_result"
    }
   ],
   "source": [
    "movies.columns"
   ]
  },
  {
   "cell_type": "code",
   "execution_count": 44,
   "id": "0d3679a4",
   "metadata": {
    "ExecuteTime": {
     "end_time": "2023-04-23T17:41:11.513608Z",
     "start_time": "2023-04-23T17:41:11.502352Z"
    }
   },
   "outputs": [
    {
     "data": {
      "text/plain": [
       "Year\n",
       "2006    269289.954545\n",
       "2007    244331.037736\n",
       "2008    275505.384615\n",
       "2009    255780.647059\n",
       "2010    252782.316667\n",
       "2011    240790.301587\n",
       "2012    285226.093750\n",
       "2013    219049.648352\n",
       "2014    203930.224490\n",
       "2015    115726.220472\n",
       "2016     48591.754209\n",
       "Name: Votes, dtype: float64"
      ]
     },
     "execution_count": 44,
     "metadata": {},
     "output_type": "execute_result"
    }
   ],
   "source": [
    "avg_votes = movies.groupby(\"Year\")[\"Votes\"].mean()\n",
    "avg_votes"
   ]
  },
  {
   "cell_type": "code",
   "execution_count": 49,
   "id": "d20b5d86",
   "metadata": {
    "ExecuteTime": {
     "end_time": "2023-04-23T17:44:20.706795Z",
     "start_time": "2023-04-23T17:44:20.462511Z"
    }
   },
   "outputs": [
    {
     "data": {
      "text/plain": [
       "<AxesSubplot: xlabel='Year'>"
      ]
     },
     "execution_count": 49,
     "metadata": {},
     "output_type": "execute_result"
    },
    {
     "data": {
      "image/png": "[encoded data removed]",
      "text/plain": [
       "<Figure size 640x480 with 1 Axes>"
      ]
     },
     "metadata": {},
     "output_type": "display_data"
    }
   ],
   "source": [
    "avg_votes.plot.bar()"
   ]
  },
  {
   "cell_type": "markdown",
   "id": "c678c5c8",
   "metadata": {},
   "source": [
    "### In Which Year There Was The Highest Average Revenue?"
   ]
  },
  {
   "cell_type": "code",
   "execution_count": 50,
   "id": "4890eb45",
   "metadata": {
    "ExecuteTime": {
     "end_time": "2023-04-23T17:45:01.947548Z",
     "start_time": "2023-04-23T17:45:01.935648Z"
    }
   },
   "outputs": [
    {
     "data": {
      "text/plain": [
       "Year\n",
       "2006     86.296667\n",
       "2007     87.882245\n",
       "2008     99.082745\n",
       "2009    112.601277\n",
       "2010    105.081579\n",
       "2011     87.612258\n",
       "2012    107.973281\n",
       "2013     87.121818\n",
       "2014     85.078723\n",
       "2015     78.355044\n",
       "2016     54.690976\n",
       "Name: Revenue (Millions), dtype: float64"
      ]
     },
     "execution_count": 50,
     "metadata": {},
     "output_type": "execute_result"
    }
   ],
   "source": [
    "avg_rev = movies.groupby(\"Year\")['Revenue (Millions)'].mean()\n",
    "avg_rev"
   ]
  },
  {
   "cell_type": "code",
   "execution_count": 51,
   "id": "6921ff2c",
   "metadata": {
    "ExecuteTime": {
     "end_time": "2023-04-23T17:45:44.730450Z",
     "start_time": "2023-04-23T17:45:44.476577Z"
    }
   },
   "outputs": [
    {
     "data": {
      "text/plain": [
       "<AxesSubplot: xlabel='Year'>"
      ]
     },
     "execution_count": 51,
     "metadata": {},
     "output_type": "execute_result"
    },
    {
     "data": {
      "image/png": "[encoded data removed]",
      "text/plain": [
       "<Figure size 640x480 with 1 Axes>"
      ]
     },
     "metadata": {},
     "output_type": "display_data"
    }
   ],
   "source": [
    "avg_rev.plot.bar()"
   ]
  },
  {
   "cell_type": "markdown",
   "id": "5d9d68f4",
   "metadata": {},
   "source": [
    "### Find The Average Rating For Each Director"
   ]
  },
  {
   "cell_type": "code",
   "execution_count": 53,
   "id": "5710c98a",
   "metadata": {
    "ExecuteTime": {
     "end_time": "2023-04-23T17:46:51.770675Z",
     "start_time": "2023-04-23T17:46:51.763255Z"
    }
   },
   "outputs": [
    {
     "data": {
      "text/plain": [
       "Index(['Rank', 'Title', 'Genre', 'Description', 'Director', 'Actors', 'Year',\n",
       "       'Runtime (Minutes)', 'Rating', 'Votes', 'Revenue (Millions)',\n",
       "       'Metascore'],\n",
       "      dtype='object')"
      ]
     },
     "execution_count": 53,
     "metadata": {},
     "output_type": "execute_result"
    }
   ],
   "source": [
    "movies.columns  "
   ]
  },
  {
   "cell_type": "code",
   "execution_count": 62,
   "id": "09e11b70",
   "metadata": {
    "ExecuteTime": {
     "end_time": "2023-04-23T17:53:40.058814Z",
     "start_time": "2023-04-23T17:53:40.044793Z"
    }
   },
   "outputs": [
    {
     "data": {
      "text/plain": [
       "Director\n",
       "Aamir Khan             8.50\n",
       "Abdellatif Kechiche    7.80\n",
       "Adam Leon              6.50\n",
       "Adam McKay             7.00\n",
       "Adam Shankman          6.30\n",
       "                       ... \n",
       "Xavier Dolan           7.55\n",
       "Yimou Zhang            6.10\n",
       "Yorgos Lanthimos       7.20\n",
       "Zack Snyder            7.04\n",
       "Zackary Adler          5.10\n",
       "Name: Rating, Length: 644, dtype: float64"
      ]
     },
     "execution_count": 62,
     "metadata": {},
     "output_type": "execute_result"
    }
   ],
   "source": [
    "rat_dir = movies.groupby(\"Director\")[\"Rating\"].mean()\n",
    "rat_dir"
   ]
  },
  {
   "cell_type": "markdown",
   "id": "6c2bb817",
   "metadata": {},
   "source": [
    "### Display Top 10 Lengthy Movies Title and Runtime"
   ]
  },
  {
   "cell_type": "code",
   "execution_count": 70,
   "id": "9ff4cab0",
   "metadata": {
    "ExecuteTime": {
     "end_time": "2023-04-23T18:00:29.308495Z",
     "start_time": "2023-04-23T18:00:29.292049Z"
    }
   },
   "outputs": [
    {
     "data": {
      "text/html": [
       "<div>\n",
       "<style scoped>\n",
       "    .dataframe tbody tr th:only-of-type {\n",
       "        vertical-align: middle;\n",
       "    }\n",
       "\n",
       "    .dataframe tbody tr th {\n",
       "        vertical-align: top;\n",
       "    }\n",
       "\n",
       "    .dataframe thead th {\n",
       "        text-align: right;\n",
       "    }\n",
       "</style>\n",
       "<table border=\"1\" class=\"dataframe\">\n",
       "  <thead>\n",
       "    <tr style=\"text-align: right;\">\n",
       "      <th></th>\n",
       "      <th>Title</th>\n",
       "      <th>Runtime (Minutes)</th>\n",
       "    </tr>\n",
       "  </thead>\n",
       "  <tbody>\n",
       "    <tr>\n",
       "      <th>828</th>\n",
       "      <td>Grindhouse</td>\n",
       "      <td>191</td>\n",
       "    </tr>\n",
       "    <tr>\n",
       "      <th>88</th>\n",
       "      <td>The Hateful Eight</td>\n",
       "      <td>187</td>\n",
       "    </tr>\n",
       "    <tr>\n",
       "      <th>965</th>\n",
       "      <td>Inland Empire</td>\n",
       "      <td>180</td>\n",
       "    </tr>\n",
       "    <tr>\n",
       "      <th>311</th>\n",
       "      <td>La vie d'Adèle</td>\n",
       "      <td>180</td>\n",
       "    </tr>\n",
       "    <tr>\n",
       "      <th>82</th>\n",
       "      <td>The Wolf of Wall Street</td>\n",
       "      <td>180</td>\n",
       "    </tr>\n",
       "    <tr>\n",
       "      <th>267</th>\n",
       "      <td>Cloud Atlas</td>\n",
       "      <td>172</td>\n",
       "    </tr>\n",
       "    <tr>\n",
       "      <th>430</th>\n",
       "      <td>3 Idiots</td>\n",
       "      <td>170</td>\n",
       "    </tr>\n",
       "    <tr>\n",
       "      <th>75</th>\n",
       "      <td>Pirates of the Caribbean: At World's End</td>\n",
       "      <td>169</td>\n",
       "    </tr>\n",
       "    <tr>\n",
       "      <th>271</th>\n",
       "      <td>The Hobbit: An Unexpected Journey</td>\n",
       "      <td>169</td>\n",
       "    </tr>\n",
       "    <tr>\n",
       "      <th>36</th>\n",
       "      <td>Interstellar</td>\n",
       "      <td>169</td>\n",
       "    </tr>\n",
       "  </tbody>\n",
       "</table>\n",
       "</div>"
      ],
      "text/plain": [
       "                                        Title  Runtime (Minutes)\n",
       "828                                Grindhouse                191\n",
       "88                          The Hateful Eight                187\n",
       "965                             Inland Empire                180\n",
       "311                            La vie d'Adèle                180\n",
       "82                    The Wolf of Wall Street                180\n",
       "267                               Cloud Atlas                172\n",
       "430                                  3 Idiots                170\n",
       "75   Pirates of the Caribbean: At World's End                169\n",
       "271         The Hobbit: An Unexpected Journey                169\n",
       "36                               Interstellar                169"
      ]
     },
     "execution_count": 70,
     "metadata": {},
     "output_type": "execute_result"
    }
   ],
   "source": [
    "top_10_lengthy_movies = movies[['Title', 'Runtime (Minutes)']].sort_values('Runtime (Minutes)', ascending=False).head(10)\n",
    "top_10_lengthy_movies"
   ]
  },
  {
   "cell_type": "code",
   "execution_count": 80,
   "id": "38a2ab95",
   "metadata": {
    "ExecuteTime": {
     "end_time": "2023-04-23T18:07:01.260467Z",
     "start_time": "2023-04-23T18:07:00.964240Z"
    }
   },
   "outputs": [
    {
     "data": {
      "text/plain": [
       "<AxesSubplot: xlabel='Runtime (Minutes)', ylabel='Title'>"
      ]
     },
     "execution_count": 80,
     "metadata": {},
     "output_type": "execute_result"
    },
    {
     "data": {
      "image/png": "[encoded data removed]",
      "text/plain": [
       "<Figure size 640x480 with 1 Axes>"
      ]
     },
     "metadata": {},
     "output_type": "display_data"
    }
   ],
   "source": [
    "sns.barplot(x='Runtime (Minutes)', y='Title', data=top_10_lengthy_movies)"
   ]
  },
  {
   "cell_type": "markdown",
   "id": "d898e5e2",
   "metadata": {},
   "source": [
    "### Display Number of Movies Per Year"
   ]
  },
  {
   "cell_type": "code",
   "execution_count": 78,
   "id": "42862dce",
   "metadata": {
    "ExecuteTime": {
     "end_time": "2023-04-23T18:04:19.320492Z",
     "start_time": "2023-04-23T18:04:19.310635Z"
    }
   },
   "outputs": [
    {
     "data": {
      "text/plain": [
       "Year\n",
       "2006     44\n",
       "2007     53\n",
       "2008     52\n",
       "2009     51\n",
       "2010     60\n",
       "2011     63\n",
       "2012     64\n",
       "2013     91\n",
       "2014     98\n",
       "2015    127\n",
       "2016    297\n",
       "Name: Title, dtype: int64"
      ]
     },
     "execution_count": 78,
     "metadata": {},
     "output_type": "execute_result"
    }
   ],
   "source": [
    "movies_per_year = movies.groupby('Year')['Title'].count()\n",
    "movies_per_year"
   ]
  },
  {
   "cell_type": "code",
   "execution_count": 98,
   "id": "5be94d28",
   "metadata": {
    "ExecuteTime": {
     "end_time": "2023-04-23T18:17:39.985160Z",
     "start_time": "2023-04-23T18:17:39.696746Z"
    }
   },
   "outputs": [
    {
     "data": {
      "text/plain": [
       "Text(0.5, 1.0, 'Number of Movies Per Year')"
      ]
     },
     "execution_count": 98,
     "metadata": {},
     "output_type": "execute_result"
    },
    {
     "data": {
      "image/png": "[encoded data removed]",
      "text/plain": [
       "<Figure size 640x480 with 1 Axes>"
      ]
     },
     "metadata": {},
     "output_type": "display_data"
    }
   ],
   "source": [
    "movies_per_year.plot(kind = 'bar')\n",
    "plt.xlabel('Year')\n",
    "plt.ylabel('Number of Movies')\n",
    "plt.title('Number of Movies Per Year')"
   ]
  },
  {
   "cell_type": "markdown",
   "id": "35f67171",
   "metadata": {},
   "source": [
    "###  Find Most Popular Movie Title (Higest Revenue)"
   ]
  },
  {
   "cell_type": "code",
   "execution_count": 95,
   "id": "049612e6",
   "metadata": {
    "ExecuteTime": {
     "end_time": "2023-04-23T18:14:46.004160Z",
     "start_time": "2023-04-23T18:14:45.993689Z"
    }
   },
   "outputs": [
    {
     "data": {
      "text/plain": [
       "50    Star Wars: Episode VII - The Force Awakens\n",
       "Name: Title, dtype: object"
      ]
     },
     "execution_count": 95,
     "metadata": {},
     "output_type": "execute_result"
    }
   ],
   "source": [
    "highest_revenue = movies['Revenue (Millions)'].max()\n",
    "movies['Title'][movies['Revenue (Millions)'] == highest_revenue]"
   ]
  },
  {
   "cell_type": "markdown",
   "id": "c83f2d28",
   "metadata": {},
   "source": [
    "### Display Top 10 Highest Rated Movie Titles And its Directors"
   ]
  },
  {
   "cell_type": "code",
   "execution_count": 99,
   "id": "0e7ebb8d",
   "metadata": {
    "ExecuteTime": {
     "end_time": "2023-04-23T18:20:25.857254Z",
     "start_time": "2023-04-23T18:20:25.837898Z"
    }
   },
   "outputs": [
    {
     "data": {
      "text/html": [
       "<div>\n",
       "<style scoped>\n",
       "    .dataframe tbody tr th:only-of-type {\n",
       "        vertical-align: middle;\n",
       "    }\n",
       "\n",
       "    .dataframe tbody tr th {\n",
       "        vertical-align: top;\n",
       "    }\n",
       "\n",
       "    .dataframe thead th {\n",
       "        text-align: right;\n",
       "    }\n",
       "</style>\n",
       "<table border=\"1\" class=\"dataframe\">\n",
       "  <thead>\n",
       "    <tr style=\"text-align: right;\">\n",
       "      <th></th>\n",
       "      <th>Title</th>\n",
       "      <th>Director</th>\n",
       "      <th>Rating</th>\n",
       "    </tr>\n",
       "  </thead>\n",
       "  <tbody>\n",
       "    <tr>\n",
       "      <th>54</th>\n",
       "      <td>The Dark Knight</td>\n",
       "      <td>Christopher Nolan</td>\n",
       "      <td>9.0</td>\n",
       "    </tr>\n",
       "    <tr>\n",
       "      <th>80</th>\n",
       "      <td>Inception</td>\n",
       "      <td>Christopher Nolan</td>\n",
       "      <td>8.8</td>\n",
       "    </tr>\n",
       "    <tr>\n",
       "      <th>117</th>\n",
       "      <td>Dangal</td>\n",
       "      <td>Nitesh Tiwari</td>\n",
       "      <td>8.8</td>\n",
       "    </tr>\n",
       "    <tr>\n",
       "      <th>36</th>\n",
       "      <td>Interstellar</td>\n",
       "      <td>Christopher Nolan</td>\n",
       "      <td>8.6</td>\n",
       "    </tr>\n",
       "    <tr>\n",
       "      <th>96</th>\n",
       "      <td>Kimi no na wa</td>\n",
       "      <td>Makoto Shinkai</td>\n",
       "      <td>8.6</td>\n",
       "    </tr>\n",
       "    <tr>\n",
       "      <th>249</th>\n",
       "      <td>The Intouchables</td>\n",
       "      <td>Olivier Nakache</td>\n",
       "      <td>8.6</td>\n",
       "    </tr>\n",
       "    <tr>\n",
       "      <th>133</th>\n",
       "      <td>Whiplash</td>\n",
       "      <td>Damien Chazelle</td>\n",
       "      <td>8.5</td>\n",
       "    </tr>\n",
       "    <tr>\n",
       "      <th>64</th>\n",
       "      <td>The Prestige</td>\n",
       "      <td>Christopher Nolan</td>\n",
       "      <td>8.5</td>\n",
       "    </tr>\n",
       "    <tr>\n",
       "      <th>99</th>\n",
       "      <td>The Departed</td>\n",
       "      <td>Martin Scorsese</td>\n",
       "      <td>8.5</td>\n",
       "    </tr>\n",
       "    <tr>\n",
       "      <th>991</th>\n",
       "      <td>Taare Zameen Par</td>\n",
       "      <td>Aamir Khan</td>\n",
       "      <td>8.5</td>\n",
       "    </tr>\n",
       "  </tbody>\n",
       "</table>\n",
       "</div>"
      ],
      "text/plain": [
       "                Title           Director  Rating\n",
       "54    The Dark Knight  Christopher Nolan     9.0\n",
       "80          Inception  Christopher Nolan     8.8\n",
       "117            Dangal      Nitesh Tiwari     8.8\n",
       "36       Interstellar  Christopher Nolan     8.6\n",
       "96      Kimi no na wa     Makoto Shinkai     8.6\n",
       "249  The Intouchables    Olivier Nakache     8.6\n",
       "133          Whiplash    Damien Chazelle     8.5\n",
       "64       The Prestige  Christopher Nolan     8.5\n",
       "99       The Departed    Martin Scorsese     8.5\n",
       "991  Taare Zameen Par         Aamir Khan     8.5"
      ]
     },
     "execution_count": 99,
     "metadata": {},
     "output_type": "execute_result"
    }
   ],
   "source": [
    "top_10_rated = movies[['Title', 'Director', 'Rating']].sort_values('Rating', ascending=False).head(10)\n",
    "top_10_rated\n",
    "\n"
   ]
  },
  {
   "cell_type": "markdown",
   "id": "5e97d85f",
   "metadata": {},
   "source": [
    "### Display Top 10 Highest Revenue Movie Titles"
   ]
  },
  {
   "cell_type": "code",
   "execution_count": 100,
   "id": "ddc530f8",
   "metadata": {
    "ExecuteTime": {
     "end_time": "2023-04-23T18:22:31.289226Z",
     "start_time": "2023-04-23T18:22:31.270847Z"
    }
   },
   "outputs": [
    {
     "data": {
      "text/html": [
       "<div>\n",
       "<style scoped>\n",
       "    .dataframe tbody tr th:only-of-type {\n",
       "        vertical-align: middle;\n",
       "    }\n",
       "\n",
       "    .dataframe tbody tr th {\n",
       "        vertical-align: top;\n",
       "    }\n",
       "\n",
       "    .dataframe thead th {\n",
       "        text-align: right;\n",
       "    }\n",
       "</style>\n",
       "<table border=\"1\" class=\"dataframe\">\n",
       "  <thead>\n",
       "    <tr style=\"text-align: right;\">\n",
       "      <th></th>\n",
       "      <th>Title</th>\n",
       "      <th>Director</th>\n",
       "      <th>Revenue (Millions)</th>\n",
       "    </tr>\n",
       "  </thead>\n",
       "  <tbody>\n",
       "    <tr>\n",
       "      <th>50</th>\n",
       "      <td>Star Wars: Episode VII - The Force Awakens</td>\n",
       "      <td>J.J. Abrams</td>\n",
       "      <td>936.63</td>\n",
       "    </tr>\n",
       "    <tr>\n",
       "      <th>87</th>\n",
       "      <td>Avatar</td>\n",
       "      <td>James Cameron</td>\n",
       "      <td>760.51</td>\n",
       "    </tr>\n",
       "    <tr>\n",
       "      <th>85</th>\n",
       "      <td>Jurassic World</td>\n",
       "      <td>Colin Trevorrow</td>\n",
       "      <td>652.18</td>\n",
       "    </tr>\n",
       "    <tr>\n",
       "      <th>76</th>\n",
       "      <td>The Avengers</td>\n",
       "      <td>Joss Whedon</td>\n",
       "      <td>623.28</td>\n",
       "    </tr>\n",
       "    <tr>\n",
       "      <th>54</th>\n",
       "      <td>The Dark Knight</td>\n",
       "      <td>Christopher Nolan</td>\n",
       "      <td>533.32</td>\n",
       "    </tr>\n",
       "    <tr>\n",
       "      <th>12</th>\n",
       "      <td>Rogue One</td>\n",
       "      <td>Gareth Edwards</td>\n",
       "      <td>532.17</td>\n",
       "    </tr>\n",
       "    <tr>\n",
       "      <th>119</th>\n",
       "      <td>Finding Dory</td>\n",
       "      <td>Andrew Stanton</td>\n",
       "      <td>486.29</td>\n",
       "    </tr>\n",
       "    <tr>\n",
       "      <th>94</th>\n",
       "      <td>Avengers: Age of Ultron</td>\n",
       "      <td>Joss Whedon</td>\n",
       "      <td>458.99</td>\n",
       "    </tr>\n",
       "    <tr>\n",
       "      <th>124</th>\n",
       "      <td>The Dark Knight Rises</td>\n",
       "      <td>Christopher Nolan</td>\n",
       "      <td>448.13</td>\n",
       "    </tr>\n",
       "    <tr>\n",
       "      <th>578</th>\n",
       "      <td>The Hunger Games: Catching Fire</td>\n",
       "      <td>Francis Lawrence</td>\n",
       "      <td>424.65</td>\n",
       "    </tr>\n",
       "  </tbody>\n",
       "</table>\n",
       "</div>"
      ],
      "text/plain": [
       "                                          Title           Director  \\\n",
       "50   Star Wars: Episode VII - The Force Awakens        J.J. Abrams   \n",
       "87                                       Avatar      James Cameron   \n",
       "85                               Jurassic World    Colin Trevorrow   \n",
       "76                                 The Avengers        Joss Whedon   \n",
       "54                              The Dark Knight  Christopher Nolan   \n",
       "12                                    Rogue One     Gareth Edwards   \n",
       "119                                Finding Dory     Andrew Stanton   \n",
       "94                      Avengers: Age of Ultron        Joss Whedon   \n",
       "124                       The Dark Knight Rises  Christopher Nolan   \n",
       "578             The Hunger Games: Catching Fire   Francis Lawrence   \n",
       "\n",
       "     Revenue (Millions)  \n",
       "50               936.63  \n",
       "87               760.51  \n",
       "85               652.18  \n",
       "76               623.28  \n",
       "54               533.32  \n",
       "12               532.17  \n",
       "119              486.29  \n",
       "94               458.99  \n",
       "124              448.13  \n",
       "578              424.65  "
      ]
     },
     "execution_count": 100,
     "metadata": {},
     "output_type": "execute_result"
    }
   ],
   "source": [
    "top_10_rated = movies[['Title', 'Director', 'Revenue (Millions)']].sort_values('Revenue (Millions)', ascending=False).head(10)\n",
    "top_10_rated"
   ]
  },
  {
   "cell_type": "markdown",
   "id": "590938c5",
   "metadata": {},
   "source": [
    "### Find Average Rating of Movies Year Wise"
   ]
  },
  {
   "cell_type": "code",
   "execution_count": 108,
   "id": "cfed8b43",
   "metadata": {
    "ExecuteTime": {
     "end_time": "2023-04-23T18:32:44.901595Z",
     "start_time": "2023-04-23T18:32:44.888644Z"
    }
   },
   "outputs": [
    {
     "data": {
      "text/plain": [
       "Year\n",
       "2006    7.125000\n",
       "2007    7.133962\n",
       "2008    6.784615\n",
       "2009    6.960784\n",
       "2010    6.826667\n",
       "2011    6.838095\n",
       "2012    6.925000\n",
       "2013    6.812088\n",
       "2014    6.837755\n",
       "2015    6.602362\n",
       "2016    6.436700\n",
       "Name: Rating, dtype: float64"
      ]
     },
     "execution_count": 108,
     "metadata": {},
     "output_type": "execute_result"
    }
   ],
   "source": [
    "year_rat = movies.groupby('Year')['Rating'].mean()\n",
    "year_rat"
   ]
  },
  {
   "cell_type": "markdown",
   "id": "1472fe9d",
   "metadata": {},
   "source": [
    "### Does Rating Affect The Revenue?"
   ]
  },
  {
   "cell_type": "code",
   "execution_count": 109,
   "id": "8009c446",
   "metadata": {
    "ExecuteTime": {
     "end_time": "2023-04-23T18:34:42.508082Z",
     "start_time": "2023-04-23T18:34:42.246610Z"
    }
   },
   "outputs": [
    {
     "data": {
      "text/plain": [
       "<AxesSubplot: xlabel='Rating', ylabel='Revenue (Millions)'>"
      ]
     },
     "execution_count": 109,
     "metadata": {},
     "output_type": "execute_result"
    },
    {
     "data": {
      "image/png": "[encoded data removed]",
      "text/plain": [
       "<Figure size 640x480 with 1 Axes>"
      ]
     },
     "metadata": {},
     "output_type": "display_data"
    }
   ],
   "source": [
    "sns.scatterplot(x = \"Rating\" , y = \"Revenue (Millions)\" , data = movies)"
   ]
  },
  {
   "cell_type": "markdown",
   "id": "560db04b",
   "metadata": {},
   "source": [
    "Yes rating affect revanue, as we can see highest Rating movies gained more revanue"
   ]
  },
  {
   "cell_type": "markdown",
   "id": "866b40ae",
   "metadata": {},
   "source": [
    "### Classify Movies Based on Ratings [Excellent, Good and Average]"
   ]
  },
  {
   "cell_type": "code",
   "execution_count": 112,
   "id": "d5589aa0",
   "metadata": {
    "ExecuteTime": {
     "end_time": "2023-04-23T19:13:24.675672Z",
     "start_time": "2023-04-23T19:13:24.670542Z"
    }
   },
   "outputs": [],
   "source": [
    " def rating(rating):\n",
    "        if rating >= 8 :\n",
    "            return \"Exellent\"\n",
    "        elif rating >=6:\n",
    "            return \"Very Good\"\n",
    "        elif rating >=5 :\n",
    "            return \" Good\"\n",
    "        elif rating>=3:\n",
    "            return \"Average\"\n",
    "        else:\n",
    "            return \"Poor\"\n",
    "        \n",
    "        \n",
    "        \n",
    "        "
   ]
  },
  {
   "cell_type": "code",
   "execution_count": 113,
   "id": "e63d4c85",
   "metadata": {
    "ExecuteTime": {
     "end_time": "2023-04-23T19:14:22.427280Z",
     "start_time": "2023-04-23T19:14:22.420659Z"
    }
   },
   "outputs": [],
   "source": [
    "movies[\"rating_cat\"] = movies[\"Rating\"].apply(rating)"
   ]
  },
  {
   "cell_type": "code",
   "execution_count": 114,
   "id": "808a4b83",
   "metadata": {
    "ExecuteTime": {
     "end_time": "2023-04-23T19:14:34.064949Z",
     "start_time": "2023-04-23T19:14:34.040215Z"
    }
   },
   "outputs": [
    {
     "data": {
      "text/html": [
       "<div>\n",
       "<style scoped>\n",
       "    .dataframe tbody tr th:only-of-type {\n",
       "        vertical-align: middle;\n",
       "    }\n",
       "\n",
       "    .dataframe tbody tr th {\n",
       "        vertical-align: top;\n",
       "    }\n",
       "\n",
       "    .dataframe thead th {\n",
       "        text-align: right;\n",
       "    }\n",
       "</style>\n",
       "<table border=\"1\" class=\"dataframe\">\n",
       "  <thead>\n",
       "    <tr style=\"text-align: right;\">\n",
       "      <th></th>\n",
       "      <th>Rank</th>\n",
       "      <th>Title</th>\n",
       "      <th>Genre</th>\n",
       "      <th>Description</th>\n",
       "      <th>Director</th>\n",
       "      <th>Actors</th>\n",
       "      <th>Year</th>\n",
       "      <th>Runtime (Minutes)</th>\n",
       "      <th>Rating</th>\n",
       "      <th>Votes</th>\n",
       "      <th>Revenue (Millions)</th>\n",
       "      <th>Metascore</th>\n",
       "      <th>rating_cat</th>\n",
       "    </tr>\n",
       "  </thead>\n",
       "  <tbody>\n",
       "    <tr>\n",
       "      <th>0</th>\n",
       "      <td>1</td>\n",
       "      <td>Guardians of the Galaxy</td>\n",
       "      <td>Action,Adventure,Sci-Fi</td>\n",
       "      <td>A group of intergalactic criminals are forced ...</td>\n",
       "      <td>James Gunn</td>\n",
       "      <td>Chris Pratt, Vin Diesel, Bradley Cooper, Zoe S...</td>\n",
       "      <td>2014</td>\n",
       "      <td>121</td>\n",
       "      <td>8.1</td>\n",
       "      <td>757074</td>\n",
       "      <td>333.13</td>\n",
       "      <td>76.0</td>\n",
       "      <td>Exellent</td>\n",
       "    </tr>\n",
       "    <tr>\n",
       "      <th>1</th>\n",
       "      <td>2</td>\n",
       "      <td>Prometheus</td>\n",
       "      <td>Adventure,Mystery,Sci-Fi</td>\n",
       "      <td>Following clues to the origin of mankind, a te...</td>\n",
       "      <td>Ridley Scott</td>\n",
       "      <td>Noomi Rapace, Logan Marshall-Green, Michael Fa...</td>\n",
       "      <td>2012</td>\n",
       "      <td>124</td>\n",
       "      <td>7.0</td>\n",
       "      <td>485820</td>\n",
       "      <td>126.46</td>\n",
       "      <td>65.0</td>\n",
       "      <td>Very Good</td>\n",
       "    </tr>\n",
       "    <tr>\n",
       "      <th>2</th>\n",
       "      <td>3</td>\n",
       "      <td>Split</td>\n",
       "      <td>Horror,Thriller</td>\n",
       "      <td>Three girls are kidnapped by a man with a diag...</td>\n",
       "      <td>M. Night Shyamalan</td>\n",
       "      <td>James McAvoy, Anya Taylor-Joy, Haley Lu Richar...</td>\n",
       "      <td>2016</td>\n",
       "      <td>117</td>\n",
       "      <td>7.3</td>\n",
       "      <td>157606</td>\n",
       "      <td>138.12</td>\n",
       "      <td>62.0</td>\n",
       "      <td>Very Good</td>\n",
       "    </tr>\n",
       "    <tr>\n",
       "      <th>3</th>\n",
       "      <td>4</td>\n",
       "      <td>Sing</td>\n",
       "      <td>Animation,Comedy,Family</td>\n",
       "      <td>In a city of humanoid animals, a hustling thea...</td>\n",
       "      <td>Christophe Lourdelet</td>\n",
       "      <td>Matthew McConaughey,Reese Witherspoon, Seth Ma...</td>\n",
       "      <td>2016</td>\n",
       "      <td>108</td>\n",
       "      <td>7.2</td>\n",
       "      <td>60545</td>\n",
       "      <td>270.32</td>\n",
       "      <td>59.0</td>\n",
       "      <td>Very Good</td>\n",
       "    </tr>\n",
       "    <tr>\n",
       "      <th>4</th>\n",
       "      <td>5</td>\n",
       "      <td>Suicide Squad</td>\n",
       "      <td>Action,Adventure,Fantasy</td>\n",
       "      <td>A secret government agency recruits some of th...</td>\n",
       "      <td>David Ayer</td>\n",
       "      <td>Will Smith, Jared Leto, Margot Robbie, Viola D...</td>\n",
       "      <td>2016</td>\n",
       "      <td>123</td>\n",
       "      <td>6.2</td>\n",
       "      <td>393727</td>\n",
       "      <td>325.02</td>\n",
       "      <td>40.0</td>\n",
       "      <td>Very Good</td>\n",
       "    </tr>\n",
       "  </tbody>\n",
       "</table>\n",
       "</div>"
      ],
      "text/plain": [
       "   Rank                    Title                     Genre  \\\n",
       "0     1  Guardians of the Galaxy   Action,Adventure,Sci-Fi   \n",
       "1     2               Prometheus  Adventure,Mystery,Sci-Fi   \n",
       "2     3                    Split           Horror,Thriller   \n",
       "3     4                     Sing   Animation,Comedy,Family   \n",
       "4     5            Suicide Squad  Action,Adventure,Fantasy   \n",
       "\n",
       "                                         Description              Director  \\\n",
       "0  A group of intergalactic criminals are forced ...            James Gunn   \n",
       "1  Following clues to the origin of mankind, a te...          Ridley Scott   \n",
       "2  Three girls are kidnapped by a man with a diag...    M. Night Shyamalan   \n",
       "3  In a city of humanoid animals, a hustling thea...  Christophe Lourdelet   \n",
       "4  A secret government agency recruits some of th...            David Ayer   \n",
       "\n",
       "                                              Actors  Year  Runtime (Minutes)  \\\n",
       "0  Chris Pratt, Vin Diesel, Bradley Cooper, Zoe S...  2014                121   \n",
       "1  Noomi Rapace, Logan Marshall-Green, Michael Fa...  2012                124   \n",
       "2  James McAvoy, Anya Taylor-Joy, Haley Lu Richar...  2016                117   \n",
       "3  Matthew McConaughey,Reese Witherspoon, Seth Ma...  2016                108   \n",
       "4  Will Smith, Jared Leto, Margot Robbie, Viola D...  2016                123   \n",
       "\n",
       "   Rating   Votes  Revenue (Millions)  Metascore rating_cat  \n",
       "0     8.1  757074              333.13       76.0   Exellent  \n",
       "1     7.0  485820              126.46       65.0  Very Good  \n",
       "2     7.3  157606              138.12       62.0  Very Good  \n",
       "3     7.2   60545              270.32       59.0  Very Good  \n",
       "4     6.2  393727              325.02       40.0  Very Good  "
      ]
     },
     "execution_count": 114,
     "metadata": {},
     "output_type": "execute_result"
    }
   ],
   "source": [
    "movies.head(5)"
   ]
  },
  {
   "cell_type": "markdown",
   "id": "dad0b061",
   "metadata": {},
   "source": [
    "### Count Number of Action Movies"
   ]
  },
  {
   "cell_type": "code",
   "execution_count": 115,
   "id": "2ba9a474",
   "metadata": {
    "ExecuteTime": {
     "end_time": "2023-04-23T19:15:41.042609Z",
     "start_time": "2023-04-23T19:15:41.034558Z"
    }
   },
   "outputs": [
    {
     "data": {
      "text/plain": [
       "Index(['Rank', 'Title', 'Genre', 'Description', 'Director', 'Actors', 'Year',\n",
       "       'Runtime (Minutes)', 'Rating', 'Votes', 'Revenue (Millions)',\n",
       "       'Metascore', 'rating_cat'],\n",
       "      dtype='object')"
      ]
     },
     "execution_count": 115,
     "metadata": {},
     "output_type": "execute_result"
    }
   ],
   "source": [
    "movies.columns"
   ]
  },
  {
   "cell_type": "code",
   "execution_count": 140,
   "id": "ec5ed019",
   "metadata": {
    "ExecuteTime": {
     "end_time": "2023-04-23T19:33:12.304073Z",
     "start_time": "2023-04-23T19:33:12.295674Z"
    }
   },
   "outputs": [
    {
     "name": "stdout",
     "output_type": "stream",
     "text": [
      "303\n"
     ]
    }
   ],
   "source": [
    "# Count the number of movies that contain the word \"action\" in their genre.\n",
    "action_count = (movies['Genre'].str.contains(\"action\", case=False)).sum()\n",
    "print(action_count)\n"
   ]
  },
  {
   "cell_type": "markdown",
   "id": "f12a6ace",
   "metadata": {},
   "source": [
    "### Find Unique Values From Genre"
   ]
  },
  {
   "cell_type": "code",
   "execution_count": 153,
   "id": "57011b34",
   "metadata": {
    "ExecuteTime": {
     "end_time": "2023-04-23T19:48:01.879779Z",
     "start_time": "2023-04-23T19:48:01.810354Z"
    }
   },
   "outputs": [
    {
     "data": {
      "text/plain": [
       "[['Action', 'Adventure', 'Sci-Fi'],\n",
       " ['Adventure', 'Mystery', 'Sci-Fi'],\n",
       " ['Horror', 'Thriller'],\n",
       " ['Animation', 'Comedy', 'Family'],\n",
       " ['Action', 'Adventure', 'Fantasy'],\n",
       " ['Action', 'Adventure', 'Fantasy'],\n",
       " ['Comedy', 'Drama', 'Music'],\n",
       " ['Comedy'],\n",
       " ['Action', 'Adventure', 'Biography'],\n",
       " ['Adventure', 'Drama', 'Romance'],\n",
       " ['Adventure', 'Family', 'Fantasy'],\n",
       " ['Biography', 'Drama', 'History'],\n",
       " ['Action', 'Adventure', 'Sci-Fi'],\n",
       " ['Animation', 'Adventure', 'Comedy'],\n",
       " ['Action', 'Comedy', 'Drama'],\n",
       " ['Animation', 'Adventure', 'Comedy'],\n",
       " ['Biography', 'Drama', 'History'],\n",
       " ['Action', 'Thriller'],\n",
       " ['Biography', 'Drama'],\n",
       " ['Drama', 'Mystery', 'Sci-Fi'],\n",
       " ['Adventure', 'Drama', 'Thriller'],\n",
       " ['Drama'],\n",
       " ['Crime', 'Drama', 'Horror'],\n",
       " ['Animation', 'Adventure', 'Comedy'],\n",
       " ['Action', 'Adventure', 'Sci-Fi'],\n",
       " ['Comedy'],\n",
       " ['Action', 'Adventure', 'Drama'],\n",
       " ['Horror', 'Thriller'],\n",
       " ['Comedy'],\n",
       " ['Action', 'Adventure', 'Drama'],\n",
       " ['Comedy'],\n",
       " ['Drama', 'Thriller'],\n",
       " ['Action', 'Adventure', 'Sci-Fi'],\n",
       " ['Action', 'Adventure', 'Comedy'],\n",
       " ['Action', 'Horror', 'Sci-Fi'],\n",
       " ['Action', 'Adventure', 'Sci-Fi'],\n",
       " ['Adventure', 'Drama', 'Sci-Fi'],\n",
       " ['Action', 'Adventure', 'Fantasy'],\n",
       " ['Action', 'Adventure', 'Western'],\n",
       " ['Comedy', 'Drama'],\n",
       " ['Animation', 'Adventure', 'Comedy'],\n",
       " ['Drama'],\n",
       " ['Horror'],\n",
       " ['Biography', 'Drama', 'History'],\n",
       " ['Drama'],\n",
       " ['Action', 'Adventure', 'Fantasy'],\n",
       " ['Drama', 'Thriller'],\n",
       " ['Adventure', 'Drama', 'Fantasy'],\n",
       " ['Action', 'Adventure', 'Sci-Fi'],\n",
       " ['Drama'],\n",
       " ['Action', 'Adventure', 'Fantasy'],\n",
       " ['Action', 'Adventure', 'Fantasy'],\n",
       " ['Comedy', 'Drama'],\n",
       " ['Action', 'Crime', 'Thriller'],\n",
       " ['Action', 'Crime', 'Drama'],\n",
       " ['Adventure', 'Drama', 'History'],\n",
       " ['Crime', 'Horror', 'Thriller'],\n",
       " ['Drama', 'Romance'],\n",
       " ['Comedy', 'Drama', 'Romance'],\n",
       " ['Biography', 'Drama'],\n",
       " ['Action', 'Adventure', 'Sci-Fi'],\n",
       " ['Horror', 'Mystery', 'Thriller'],\n",
       " ['Crime', 'Drama', 'Mystery'],\n",
       " ['Drama', 'Romance', 'Thriller'],\n",
       " ['Drama', 'Mystery', 'Sci-Fi'],\n",
       " ['Action', 'Adventure', 'Comedy'],\n",
       " ['Drama', 'History', 'Thriller'],\n",
       " ['Action', 'Adventure', 'Sci-Fi'],\n",
       " ['Drama'],\n",
       " ['Action', 'Drama', 'Thriller'],\n",
       " ['Drama', 'History'],\n",
       " ['Action', 'Drama', 'Romance'],\n",
       " ['Drama', 'Fantasy'],\n",
       " ['Drama', 'Romance'],\n",
       " ['Animation', 'Adventure', 'Comedy'],\n",
       " ['Action', 'Adventure', 'Fantasy'],\n",
       " ['Action', 'Sci-Fi'],\n",
       " ['Adventure', 'Drama', 'War'],\n",
       " ['Action', 'Adventure', 'Fantasy'],\n",
       " ['Action', 'Comedy', 'Fantasy'],\n",
       " ['Action', 'Adventure', 'Sci-Fi'],\n",
       " ['Comedy', 'Drama'],\n",
       " ['Biography', 'Comedy', 'Crime'],\n",
       " ['Crime', 'Drama', 'Mystery'],\n",
       " ['Action', 'Crime', 'Thriller'],\n",
       " ['Action', 'Adventure', 'Sci-Fi'],\n",
       " ['Crime', 'Drama'],\n",
       " ['Action', 'Adventure', 'Fantasy'],\n",
       " ['Crime', 'Drama', 'Mystery'],\n",
       " ['Action', 'Crime', 'Drama'],\n",
       " ['Crime', 'Drama', 'Mystery'],\n",
       " ['Action', 'Adventure', 'Fantasy'],\n",
       " ['Drama'],\n",
       " ['Comedy', 'Crime', 'Drama'],\n",
       " ['Action', 'Adventure', 'Sci-Fi'],\n",
       " ['Action', 'Comedy', 'Crime'],\n",
       " ['Animation', 'Drama', 'Fantasy'],\n",
       " ['Horror', 'Mystery', 'Sci-Fi'],\n",
       " ['Drama', 'Mystery', 'Thriller'],\n",
       " ['Crime', 'Drama', 'Thriller'],\n",
       " ['Biography', 'Crime', 'Drama'],\n",
       " ['Action', 'Adventure', 'Fantasy'],\n",
       " ['Adventure', 'Drama', 'Sci-Fi'],\n",
       " ['Crime', 'Mystery', 'Thriller'],\n",
       " ['Action', 'Adventure', 'Comedy'],\n",
       " ['Crime', 'Drama', 'Thriller'],\n",
       " ['Comedy'],\n",
       " ['Action', 'Adventure', 'Drama'],\n",
       " ['Drama'],\n",
       " ['Drama', 'Mystery', 'Sci-Fi'],\n",
       " ['Action', 'Horror', 'Thriller'],\n",
       " ['Biography', 'Drama', 'History'],\n",
       " ['Romance', 'Sci-Fi'],\n",
       " ['Action', 'Fantasy', 'War'],\n",
       " ['Adventure', 'Drama', 'Fantasy'],\n",
       " ['Comedy'],\n",
       " ['Horror', 'Thriller'],\n",
       " ['Action', 'Biography', 'Drama'],\n",
       " ['Drama', 'Horror', 'Mystery'],\n",
       " ['Animation', 'Adventure', 'Comedy'],\n",
       " ['Adventure', 'Drama', 'Family'],\n",
       " ['Adventure', 'Mystery', 'Sci-Fi'],\n",
       " ['Adventure', 'Comedy', 'Romance'],\n",
       " ['Action'],\n",
       " ['Action', 'Thriller'],\n",
       " ['Adventure', 'Drama', 'Family'],\n",
       " ['Action', 'Adventure', 'Sci-Fi'],\n",
       " ['Adventure', 'Crime', 'Mystery'],\n",
       " ['Comedy', 'Family', 'Musical'],\n",
       " ['Adventure', 'Drama', 'Thriller'],\n",
       " ['Drama'],\n",
       " ['Adventure', 'Comedy', 'Drama'],\n",
       " ['Drama', 'Horror', 'Thriller'],\n",
       " ['Drama', 'Music'],\n",
       " ['Action', 'Crime', 'Thriller'],\n",
       " ['Crime', 'Drama', 'Thriller'],\n",
       " ['Crime', 'Drama', 'Thriller'],\n",
       " ['Drama', 'Romance'],\n",
       " ['Mystery', 'Thriller'],\n",
       " ['Mystery', 'Thriller', 'Western'],\n",
       " ['Action', 'Adventure', 'Sci-Fi'],\n",
       " ['Comedy', 'Family'],\n",
       " ['Biography', 'Comedy', 'Drama'],\n",
       " ['Drama'],\n",
       " ['Drama', 'Western'],\n",
       " ['Drama', 'Mystery', 'Romance'],\n",
       " ['Comedy', 'Drama'],\n",
       " ['Action', 'Drama', 'Mystery'],\n",
       " ['Comedy'],\n",
       " ['Action', 'Adventure', 'Crime'],\n",
       " ['Adventure', 'Family', 'Fantasy'],\n",
       " ['Adventure', 'Sci-Fi', 'Thriller'],\n",
       " ['Drama'],\n",
       " ['Action', 'Crime', 'Drama'],\n",
       " ['Drama', 'Horror', 'Mystery'],\n",
       " ['Action', 'Horror', 'Sci-Fi'],\n",
       " ['Action', 'Adventure', 'Sci-Fi'],\n",
       " ['Comedy', 'Drama', 'Romance'],\n",
       " ['Action', 'Comedy', 'Fantasy'],\n",
       " ['Action', 'Comedy', 'Mystery'],\n",
       " ['Thriller', 'War'],\n",
       " ['Action', 'Comedy', 'Crime'],\n",
       " ['Action', 'Adventure', 'Sci-Fi'],\n",
       " ['Action', 'Adventure', 'Crime'],\n",
       " ['Action', 'Adventure', 'Thriller'],\n",
       " ['Drama', 'Fantasy', 'Romance'],\n",
       " ['Action', 'Adventure', 'Comedy'],\n",
       " ['Biography', 'Drama', 'History'],\n",
       " ['Action', 'Drama', 'History'],\n",
       " ['Action', 'Adventure', 'Thriller'],\n",
       " ['Crime', 'Drama', 'Thriller'],\n",
       " ['Animation', 'Adventure', 'Family'],\n",
       " ['Adventure', 'Horror'],\n",
       " ['Drama', 'Romance', 'Sci-Fi'],\n",
       " ['Animation', 'Adventure', 'Comedy'],\n",
       " ['Action', 'Adventure', 'Family'],\n",
       " ['Action', 'Adventure', 'Drama'],\n",
       " ['Action', 'Comedy'],\n",
       " ['Horror', 'Mystery', 'Thriller'],\n",
       " ['Action', 'Adventure', 'Comedy'],\n",
       " ['Comedy', 'Romance'],\n",
       " ['Horror', 'Mystery'],\n",
       " ['Drama', 'Family', 'Fantasy'],\n",
       " ['Sci-Fi'],\n",
       " ['Drama', 'Thriller'],\n",
       " ['Drama', 'Romance'],\n",
       " ['Drama', 'War'],\n",
       " ['Drama', 'Fantasy', 'Horror'],\n",
       " ['Crime', 'Drama'],\n",
       " ['Comedy', 'Drama', 'Romance'],\n",
       " ['Drama', 'Romance'],\n",
       " ['Drama'],\n",
       " ['Crime', 'Drama', 'History'],\n",
       " ['Horror', 'Sci-Fi', 'Thriller'],\n",
       " ['Action', 'Drama', 'Sport'],\n",
       " ['Action', 'Adventure', 'Sci-Fi'],\n",
       " ['Crime', 'Drama', 'Thriller'],\n",
       " ['Adventure', 'Biography', 'Drama'],\n",
       " ['Biography', 'Drama', 'Thriller'],\n",
       " ['Action', 'Comedy', 'Crime'],\n",
       " ['Action', 'Adventure', 'Sci-Fi'],\n",
       " ['Drama', 'Fantasy', 'Horror'],\n",
       " ['Biography', 'Drama', 'Thriller'],\n",
       " ['Action', 'Adventure', 'Sci-Fi'],\n",
       " ['Action', 'Adventure', 'Mystery'],\n",
       " ['Action', 'Adventure', 'Sci-Fi'],\n",
       " ['Drama', 'Horror'],\n",
       " ['Comedy', 'Drama', 'Romance'],\n",
       " ['Comedy', 'Romance'],\n",
       " ['Drama', 'Horror', 'Thriller'],\n",
       " ['Action', 'Adventure', 'Drama'],\n",
       " ['Drama'],\n",
       " ['Action', 'Adventure', 'Sci-Fi'],\n",
       " ['Action', 'Drama', 'Mystery'],\n",
       " ['Action', 'Adventure', 'Fantasy'],\n",
       " ['Action', 'Adventure', 'Fantasy'],\n",
       " ['Action', 'Adventure', 'Sci-Fi'],\n",
       " ['Action', 'Adventure', 'Comedy'],\n",
       " ['Drama', 'Horror'],\n",
       " ['Action', 'Comedy'],\n",
       " ['Action', 'Adventure', 'Sci-Fi'],\n",
       " ['Animation', 'Adventure', 'Comedy'],\n",
       " ['Horror', 'Mystery'],\n",
       " ['Crime', 'Drama', 'Mystery'],\n",
       " ['Comedy', 'Crime'],\n",
       " ['Drama'],\n",
       " ['Comedy', 'Drama', 'Romance'],\n",
       " ['Action', 'Adventure', 'Sci-Fi'],\n",
       " ['Action', 'Adventure', 'Family'],\n",
       " ['Horror', 'Sci-Fi', 'Thriller'],\n",
       " ['Drama', 'Fantasy', 'War'],\n",
       " ['Crime', 'Drama', 'Thriller'],\n",
       " ['Action', 'Adventure', 'Drama'],\n",
       " ['Action', 'Adventure', 'Thriller'],\n",
       " ['Action', 'Adventure', 'Drama'],\n",
       " ['Drama', 'Romance'],\n",
       " ['Biography', 'Drama', 'History'],\n",
       " ['Drama', 'Horror', 'Thriller'],\n",
       " ['Adventure', 'Comedy', 'Drama'],\n",
       " ['Action', 'Adventure', 'Romance'],\n",
       " ['Action', 'Drama', 'War'],\n",
       " ['Animation', 'Adventure', 'Comedy'],\n",
       " ['Animation', 'Adventure', 'Comedy'],\n",
       " ['Action', 'Adventure', 'Sci-Fi'],\n",
       " ['Adventure', 'Family', 'Fantasy'],\n",
       " ['Drama', 'Musical', 'Romance'],\n",
       " ['Drama', 'Sci-Fi', 'Thriller'],\n",
       " ['Comedy', 'Drama'],\n",
       " ['Action', 'Comedy', 'Crime'],\n",
       " ['Biography', 'Comedy', 'Drama'],\n",
       " ['Comedy', 'Drama', 'Romance'],\n",
       " ['Drama', 'Thriller'],\n",
       " ['Biography', 'Drama', 'History'],\n",
       " ['Action', 'Adventure', 'Sci-Fi'],\n",
       " ['Horror', 'Mystery', 'Thriller'],\n",
       " ['Comedy'],\n",
       " ['Action', 'Adventure', 'Sci-Fi'],\n",
       " ['Action', 'Drama', 'Sci-Fi'],\n",
       " ['Horror'],\n",
       " ['Drama', 'Thriller'],\n",
       " ['Comedy', 'Drama', 'Romance'],\n",
       " ['Drama', 'Thriller'],\n",
       " ['Comedy', 'Drama'],\n",
       " ['Drama'],\n",
       " ['Action', 'Adventure', 'Comedy'],\n",
       " ['Drama', 'Horror', 'Thriller'],\n",
       " ['Comedy'],\n",
       " ['Drama', 'Sci-Fi'],\n",
       " ['Action', 'Adventure', 'Sci-Fi'],\n",
       " ['Horror'],\n",
       " ['Action', 'Adventure', 'Thriller'],\n",
       " ['Adventure', 'Fantasy'],\n",
       " ['Action', 'Comedy', 'Crime'],\n",
       " ['Comedy', 'Drama', 'Music'],\n",
       " ['Animation', 'Adventure', 'Comedy'],\n",
       " ['Action', 'Adventure', 'Mystery'],\n",
       " ['Action', 'Comedy', 'Crime'],\n",
       " ['Crime', 'Drama', 'History'],\n",
       " ['Comedy'],\n",
       " ['Action', 'Adventure', 'Sci-Fi'],\n",
       " ['Crime', 'Mystery', 'Thriller'],\n",
       " ['Action', 'Adventure', 'Crime'],\n",
       " ['Thriller'],\n",
       " ['Biography', 'Drama', 'Romance'],\n",
       " ['Action', 'Adventure'],\n",
       " ['Action', 'Fantasy'],\n",
       " ['Action', 'Comedy'],\n",
       " ['Action', 'Adventure', 'Sci-Fi'],\n",
       " ['Action', 'Comedy', 'Crime'],\n",
       " ['Thriller'],\n",
       " ['Action', 'Drama', 'Horror'],\n",
       " ['Comedy', 'Music', 'Romance'],\n",
       " ['Comedy'],\n",
       " ['Drama'],\n",
       " ['Action', 'Adventure', 'Fantasy'],\n",
       " ['Drama', 'Romance'],\n",
       " ['Animation', 'Adventure', 'Comedy'],\n",
       " ['Comedy', 'Drama'],\n",
       " ['Biography', 'Crime', 'Drama'],\n",
       " ['Drama', 'History'],\n",
       " ['Action', 'Crime', 'Thriller'],\n",
       " ['Action', 'Biography', 'Drama'],\n",
       " ['Horror'],\n",
       " ['Comedy', 'Romance'],\n",
       " ['Comedy', 'Romance'],\n",
       " ['Comedy', 'Crime', 'Drama'],\n",
       " ['Adventure', 'Family', 'Fantasy'],\n",
       " ['Crime', 'Drama', 'Thriller'],\n",
       " ['Action', 'Crime', 'Thriller'],\n",
       " ['Comedy', 'Romance'],\n",
       " ['Biography', 'Drama', 'Sport'],\n",
       " ['Drama', 'Romance'],\n",
       " ['Drama', 'Horror'],\n",
       " ['Adventure', 'Fantasy'],\n",
       " ['Adventure', 'Family', 'Fantasy'],\n",
       " ['Action', 'Drama', 'Sci-Fi'],\n",
       " ['Action', 'Adventure', 'Sci-Fi'],\n",
       " ['Action', 'Horror'],\n",
       " ['Comedy', 'Horror', 'Thriller'],\n",
       " ['Action', 'Crime', 'Thriller'],\n",
       " ['Crime', 'Drama', 'Music'],\n",
       " ['Drama'],\n",
       " ['Action', 'Crime', 'Thriller'],\n",
       " ['Action', 'Sci-Fi', 'Thriller'],\n",
       " ['Biography', 'Drama'],\n",
       " ['Action', 'Adventure', 'Fantasy'],\n",
       " ['Drama', 'Horror', 'Sci-Fi'],\n",
       " ['Biography', 'Comedy', 'Drama'],\n",
       " ['Crime', 'Horror', 'Thriller'],\n",
       " ['Crime', 'Drama', 'Mystery'],\n",
       " ['Animation', 'Adventure', 'Comedy'],\n",
       " ['Action', 'Biography', 'Drama'],\n",
       " ['Biography', 'Drama'],\n",
       " ['Biography', 'Drama', 'History'],\n",
       " ['Action', 'Biography', 'Drama'],\n",
       " ['Drama', 'Fantasy', 'Horror'],\n",
       " ['Comedy', 'Drama', 'Romance'],\n",
       " ['Drama', 'Sport'],\n",
       " ['Drama', 'Romance'],\n",
       " ['Comedy', 'Romance'],\n",
       " ['Action', 'Crime', 'Thriller'],\n",
       " ['Action', 'Crime', 'Drama'],\n",
       " ['Action', 'Drama', 'Thriller'],\n",
       " ['Adventure', 'Family', 'Fantasy'],\n",
       " ['Action', 'Adventure'],\n",
       " ['Action', 'Adventure', 'Romance'],\n",
       " ['Adventure', 'Family', 'Fantasy'],\n",
       " ['Crime', 'Drama'],\n",
       " ['Comedy', 'Horror'],\n",
       " ['Comedy', 'Fantasy', 'Romance'],\n",
       " ['Drama'],\n",
       " ['Drama'],\n",
       " ['Comedy', 'Drama'],\n",
       " ['Comedy', 'Drama', 'Romance'],\n",
       " ['Adventure', 'Sci-Fi', 'Thriller'],\n",
       " ['Action', 'Adventure', 'Fantasy'],\n",
       " ['Comedy', 'Drama'],\n",
       " ['Biography', 'Drama', 'Romance'],\n",
       " ['Comedy', 'Fantasy'],\n",
       " ['Comedy', 'Drama', 'Fantasy'],\n",
       " ['Comedy'],\n",
       " ['Horror', 'Thriller'],\n",
       " ['Action', 'Adventure', 'Sci-Fi'],\n",
       " ['Adventure', 'Comedy', 'Horror'],\n",
       " ['Comedy', 'Mystery'],\n",
       " ['Drama'],\n",
       " ['Adventure', 'Drama', 'Fantasy'],\n",
       " ['Drama', 'Sport'],\n",
       " ['Action', 'Adventure'],\n",
       " ['Action', 'Adventure', 'Drama'],\n",
       " ['Action', 'Drama', 'Sci-Fi'],\n",
       " ['Action', 'Mystery', 'Sci-Fi'],\n",
       " ['Action', 'Crime', 'Drama'],\n",
       " ['Action', 'Crime', 'Fantasy'],\n",
       " ['Biography', 'Comedy', 'Drama'],\n",
       " ['Action', 'Crime', 'Thriller'],\n",
       " ['Biography', 'Crime', 'Drama'],\n",
       " ['Drama', 'Sport'],\n",
       " ['Adventure', 'Comedy', 'Drama'],\n",
       " ['Action', 'Adventure', 'Thriller'],\n",
       " ['Comedy', 'Fantasy', 'Horror'],\n",
       " ['Drama', 'Sport'],\n",
       " ['Horror', 'Thriller'],\n",
       " ['Drama', 'History', 'Thriller'],\n",
       " ['Animation', 'Action', 'Adventure'],\n",
       " ['Action', 'Adventure', 'Drama'],\n",
       " ['Action', 'Comedy', 'Family'],\n",
       " ['Action', 'Adventure', 'Drama'],\n",
       " ['Action', 'Adventure', 'Sci-Fi'],\n",
       " ['Action', 'Adventure', 'Sci-Fi'],\n",
       " ['Action', 'Comedy'],\n",
       " ['Action', 'Crime', 'Drama'],\n",
       " ['Biography', 'Drama'],\n",
       " ['Comedy', 'Romance'],\n",
       " ['Comedy'],\n",
       " ['Drama', 'Fantasy', 'Romance'],\n",
       " ['Action', 'Adventure', 'Sci-Fi'],\n",
       " ['Comedy'],\n",
       " ['Comedy', 'Sci-Fi'],\n",
       " ['Comedy', 'Drama'],\n",
       " ['Animation', 'Action', 'Adventure'],\n",
       " ['Horror'],\n",
       " ['Action', 'Biography', 'Crime'],\n",
       " ['Animation', 'Adventure', 'Comedy'],\n",
       " ['Drama', 'Romance'],\n",
       " ['Drama', 'Mystery', 'Thriller'],\n",
       " ['Drama', 'History', 'Thriller'],\n",
       " ['Animation', 'Adventure', 'Comedy'],\n",
       " ['Action', 'Adventure', 'Sci-Fi'],\n",
       " ['Adventure', 'Comedy'],\n",
       " ['Action', 'Thriller'],\n",
       " ['Comedy', 'Music'],\n",
       " ['Animation', 'Adventure', 'Comedy'],\n",
       " ['Crime', 'Drama', 'Thriller'],\n",
       " ['Action', 'Adventure', 'Crime'],\n",
       " ['Comedy', 'Drama', 'Horror'],\n",
       " ['Drama'],\n",
       " ['Drama', 'Mystery', 'Romance'],\n",
       " ['Adventure', 'Family', 'Fantasy'],\n",
       " ['Drama'],\n",
       " ['Action', 'Drama', 'Thriller'],\n",
       " ['Drama'],\n",
       " ['Action', 'Horror', 'Romance'],\n",
       " ['Action', 'Drama', 'Fantasy'],\n",
       " ['Action', 'Crime', 'Drama'],\n",
       " ['Drama', 'Fantasy', 'Romance'],\n",
       " ['Action', 'Crime', 'Thriller'],\n",
       " ['Action', 'Mystery', 'Thriller'],\n",
       " ['Horror', 'Mystery', 'Thriller'],\n",
       " ['Action', 'Horror', 'Sci-Fi'],\n",
       " ['Comedy', 'Drama'],\n",
       " ['Comedy'],\n",
       " ['Action', 'Adventure', 'Horror'],\n",
       " ['Action', 'Adventure', 'Thriller'],\n",
       " ['Action', 'Crime', 'Drama'],\n",
       " ['Comedy', 'Crime', 'Drama'],\n",
       " ['Drama', 'Romance'],\n",
       " ['Drama', 'Thriller'],\n",
       " ['Action', 'Comedy', 'Crime'],\n",
       " ['Comedy'],\n",
       " ['Adventure', 'Family', 'Fantasy'],\n",
       " ['Drama', 'Romance'],\n",
       " ['Animation', 'Family', 'Fantasy'],\n",
       " ['Drama', 'Romance'],\n",
       " ['Thriller'],\n",
       " ['Adventure', 'Horror', 'Mystery'],\n",
       " ['Action', 'Sci-Fi'],\n",
       " ['Adventure', 'Comedy', 'Drama'],\n",
       " ['Animation', 'Action', 'Adventure'],\n",
       " ['Drama', 'Horror'],\n",
       " ['Action', 'Adventure', 'Sci-Fi'],\n",
       " ['Comedy', 'Drama'],\n",
       " ['Action', 'Horror', 'Mystery'],\n",
       " ['Action', 'Thriller'],\n",
       " ['Action', 'Adventure', 'Sci-Fi'],\n",
       " ['Drama'],\n",
       " ['Comedy', 'Drama', 'Romance'],\n",
       " ['Comedy', 'Crime'],\n",
       " ['Comedy', 'Romance'],\n",
       " ['Drama', 'Romance'],\n",
       " ['Crime', 'Drama', 'Thriller'],\n",
       " ['Horror', 'Mystery', 'Thriller'],\n",
       " ['Biography', 'Drama'],\n",
       " ['Drama', 'Mystery', 'Sci-Fi'],\n",
       " ['Adventure', 'Comedy', 'Family'],\n",
       " ['Action', 'Adventure', 'Crime'],\n",
       " ['Action', 'Crime', 'Mystery'],\n",
       " ['Mystery', 'Thriller'],\n",
       " ['Action', 'Sci-Fi', 'Thriller'],\n",
       " ['Action', 'Comedy', 'Crime'],\n",
       " ['Biography', 'Crime', 'Drama'],\n",
       " ['Biography', 'Drama', 'History'],\n",
       " ['Action', 'Adventure', 'Sci-Fi'],\n",
       " ['Adventure', 'Family', 'Fantasy'],\n",
       " ['Biography', 'Drama', 'History'],\n",
       " ['Biography', 'Comedy', 'Drama'],\n",
       " ['Drama', 'Thriller'],\n",
       " ['Horror', 'Thriller'],\n",
       " ['Drama'],\n",
       " ['Drama', 'War'],\n",
       " ['Comedy', 'Drama', 'Romance'],\n",
       " ['Drama', 'Romance', 'Sci-Fi'],\n",
       " ['Action', 'Crime', 'Drama'],\n",
       " ['Comedy', 'Drama'],\n",
       " ['Animation', 'Action', 'Adventure'],\n",
       " ['Adventure', 'Comedy', 'Drama'],\n",
       " ['Comedy', 'Drama', 'Family'],\n",
       " ['Drama', 'Romance', 'Thriller'],\n",
       " ['Comedy', 'Crime', 'Drama'],\n",
       " ['Animation', 'Comedy', 'Family'],\n",
       " ['Drama', 'Horror', 'Sci-Fi'],\n",
       " ['Action', 'Adventure', 'Drama'],\n",
       " ['Action', 'Horror', 'Sci-Fi'],\n",
       " ['Action', 'Crime', 'Sport'],\n",
       " ['Drama', 'Horror', 'Sci-Fi'],\n",
       " ['Drama', 'Horror', 'Sci-Fi'],\n",
       " ['Action', 'Adventure', 'Comedy'],\n",
       " ['Mystery', 'Sci-Fi', 'Thriller'],\n",
       " ['Crime', 'Drama', 'Thriller'],\n",
       " ['Animation', 'Adventure', 'Comedy'],\n",
       " ['Action', 'Sci-Fi', 'Thriller'],\n",
       " ['Drama', 'Romance'],\n",
       " ['Crime', 'Drama', 'Thriller'],\n",
       " ['Comedy', 'Drama', 'Music'],\n",
       " ['Drama', 'Fantasy', 'Romance'],\n",
       " ['Crime', 'Drama', 'Thriller'],\n",
       " ['Crime', 'Drama', 'Thriller'],\n",
       " ['Comedy', 'Drama', 'Romance'],\n",
       " ['Comedy', 'Romance'],\n",
       " ['Drama', 'Sci-Fi', 'Thriller'],\n",
       " ['Drama', 'War'],\n",
       " ['Action', 'Crime', 'Drama'],\n",
       " ['Sci-Fi', 'Thriller'],\n",
       " ['Adventure', 'Drama', 'Horror'],\n",
       " ['Comedy', 'Drama', 'Music'],\n",
       " ['Comedy', 'Drama', 'Romance'],\n",
       " ['Action', 'Adventure', 'Drama'],\n",
       " ['Action', 'Crime', 'Drama'],\n",
       " ['Adventure', 'Fantasy'],\n",
       " ['Drama', 'Romance'],\n",
       " ['Biography', 'History', 'Thriller'],\n",
       " ['Crime', 'Drama', 'Thriller'],\n",
       " ['Action', 'Drama', 'History'],\n",
       " ['Biography', 'Comedy', 'Drama'],\n",
       " ['Crime', 'Drama', 'Thriller'],\n",
       " ['Action', 'Biography', 'Drama'],\n",
       " ['Action', 'Drama', 'Sci-Fi'],\n",
       " ['Adventure', 'Horror'],\n",
       " ['Action', 'Adventure', 'Sci-Fi'],\n",
       " ['Action', 'Adventure', 'Mystery'],\n",
       " ['Comedy', 'Drama', 'Romance'],\n",
       " ['Horror', 'Thriller'],\n",
       " ['Action', 'Sci-Fi', 'Thriller'],\n",
       " ['Action', 'Sci-Fi', 'Thriller'],\n",
       " ['Biography', 'Drama'],\n",
       " ['Action', 'Crime', 'Drama'],\n",
       " ['Action', 'Crime', 'Mystery'],\n",
       " ['Action', 'Adventure', 'Comedy'],\n",
       " ['Crime', 'Drama', 'Thriller'],\n",
       " ['Crime', 'Drama'],\n",
       " ['Mystery', 'Thriller'],\n",
       " ['Mystery', 'Sci-Fi', 'Thriller'],\n",
       " ['Action', 'Mystery', 'Sci-Fi'],\n",
       " ['Drama', 'Romance'],\n",
       " ['Drama', 'Thriller'],\n",
       " ['Drama', 'Mystery', 'Sci-Fi'],\n",
       " ['Comedy', 'Drama'],\n",
       " ['Adventure', 'Family', 'Fantasy'],\n",
       " ['Biography', 'Drama', 'Sport'],\n",
       " ['Drama'],\n",
       " ['Comedy', 'Drama', 'Romance'],\n",
       " ['Biography', 'Drama', 'Romance'],\n",
       " ['Action', 'Adventure', 'Sci-Fi'],\n",
       " ['Drama', 'Sci-Fi', 'Thriller'],\n",
       " ['Drama', 'Romance', 'Thriller'],\n",
       " ['Mystery', 'Thriller'],\n",
       " ['Mystery', 'Thriller'],\n",
       " ['Action', 'Drama', 'Fantasy'],\n",
       " ['Action', 'Adventure', 'Biography'],\n",
       " ['Adventure', 'Comedy', 'Sci-Fi'],\n",
       " ['Action', 'Adventure', 'Thriller'],\n",
       " ['Fantasy', 'Horror'],\n",
       " ['Horror', 'Mystery'],\n",
       " ['Animation', 'Adventure', 'Comedy'],\n",
       " ['Action', 'Adventure', 'Drama'],\n",
       " ['Adventure', 'Family', 'Fantasy'],\n",
       " ['Action', 'Adventure', 'Sci-Fi'],\n",
       " ['Comedy', 'Drama'],\n",
       " ['Comedy', 'Drama'],\n",
       " ['Crime', 'Drama', 'Thriller'],\n",
       " ['Comedy', 'Romance'],\n",
       " ['Animation', 'Comedy', 'Family'],\n",
       " ['Comedy', 'Drama'],\n",
       " ['Comedy', 'Drama'],\n",
       " ['Biography', 'Drama', 'Sport'],\n",
       " ['Action', 'Adventure', 'Fantasy'],\n",
       " ['Action', 'Drama', 'History'],\n",
       " ['Action', 'Adventure', 'Sci-Fi'],\n",
       " ['Action', 'Adventure', 'Mystery'],\n",
       " ['Crime', 'Drama', 'Mystery'],\n",
       " ['Action'],\n",
       " ['Action', 'Adventure', 'Family'],\n",
       " ['Comedy', 'Romance'],\n",
       " ['Comedy', 'Drama', 'Romance'],\n",
       " ['Biography', 'Drama', 'Sport'],\n",
       " ['Action', 'Fantasy', 'Thriller'],\n",
       " ['Biography', 'Drama', 'Sport'],\n",
       " ['Action', 'Drama', 'Fantasy'],\n",
       " ['Adventure', 'Sci-Fi', 'Thriller'],\n",
       " ['Animation', 'Adventure', 'Comedy'],\n",
       " ['Drama', 'Mystery', 'Thriller'],\n",
       " ['Drama', 'Romance'],\n",
       " ['Crime', 'Drama', 'Mystery'],\n",
       " ['Comedy', 'Romance', 'Sport'],\n",
       " ['Comedy', 'Family'],\n",
       " ['Drama', 'Horror', 'Mystery'],\n",
       " ['Action', 'Drama', 'Sport'],\n",
       " ['Action', 'Adventure', 'Comedy'],\n",
       " ['Drama', 'Mystery', 'Sci-Fi'],\n",
       " ['Animation', 'Action', 'Comedy'],\n",
       " ['Action', 'Crime', 'Drama'],\n",
       " ['Action', 'Crime', 'Drama'],\n",
       " ['Comedy', 'Drama', 'Romance'],\n",
       " ['Animation', 'Action', 'Adventure'],\n",
       " ['Crime', 'Drama'],\n",
       " ['Drama'],\n",
       " ['Drama'],\n",
       " ['Comedy', 'Crime'],\n",
       " ['Drama'],\n",
       " ['Action', 'Adventure', 'Fantasy'],\n",
       " ['Drama', 'Fantasy', 'Romance'],\n",
       " ['Comedy', 'Drama'],\n",
       " ['Drama', 'Fantasy', 'Thriller'],\n",
       " ['Biography', 'Crime', 'Drama'],\n",
       " ['Comedy', 'Drama', 'Romance'],\n",
       " ['Action', 'Crime', 'Drama'],\n",
       " ['Sci-Fi'],\n",
       " ['Action', 'Biography', 'Drama'],\n",
       " ['Action', 'Comedy', 'Romance'],\n",
       " ['Adventure', 'Comedy', 'Drama'],\n",
       " ['Comedy', 'Crime', 'Drama'],\n",
       " ['Action', 'Fantasy', 'Horror'],\n",
       " ['Drama', 'Horror'],\n",
       " ['Horror'],\n",
       " ['Action', 'Thriller'],\n",
       " ['Action', 'Adventure', 'Mystery'],\n",
       " ['Action', 'Adventure', 'Fantasy'],\n",
       " ['Comedy', 'Drama', 'Romance'],\n",
       " ['Crime', 'Drama', 'Mystery'],\n",
       " ['Adventure', 'Comedy', 'Family'],\n",
       " ['Comedy', 'Drama', 'Romance'],\n",
       " ['Comedy'],\n",
       " ['Comedy', 'Drama', 'Horror'],\n",
       " ['Drama', 'Horror', 'Thriller'],\n",
       " ['Animation', 'Adventure', 'Family'],\n",
       " ['Comedy', 'Romance'],\n",
       " ['Mystery', 'Romance', 'Sci-Fi'],\n",
       " ['Crime', 'Drama'],\n",
       " ['Drama', 'Horror', 'Mystery'],\n",
       " ['Comedy'],\n",
       " ['Biography', 'Drama'],\n",
       " ['Comedy', 'Drama', 'Thriller'],\n",
       " ['Comedy', 'Western'],\n",
       " ['Drama', 'History', 'War'],\n",
       " ['Drama', 'Horror', 'Sci-Fi'],\n",
       " ['Drama'],\n",
       " ['Comedy', 'Drama'],\n",
       " ['Fantasy', 'Horror', 'Thriller'],\n",
       " ['Drama', 'Romance'],\n",
       " ['Action', 'Comedy', 'Fantasy'],\n",
       " ['Drama', 'Horror', 'Musical'],\n",
       " ['Crime', 'Drama', 'Mystery'],\n",
       " ['Horror', 'Mystery', 'Thriller'],\n",
       " ['Comedy', 'Music'],\n",
       " ['Drama'],\n",
       " ['Biography', 'Crime', 'Drama'],\n",
       " ['Drama'],\n",
       " ['Action', 'Adventure', 'Comedy'],\n",
       " ['Crime', 'Drama', 'Mystery'],\n",
       " ['Drama'],\n",
       " ['Action', 'Comedy', 'Crime'],\n",
       " ['Comedy', 'Drama', 'Romance'],\n",
       " ['Crime', 'Drama', 'Mystery'],\n",
       " ['Action', 'Comedy', 'Crime'],\n",
       " ['Drama'],\n",
       " ['Drama', 'Romance'],\n",
       " ['Crime', 'Drama', 'Mystery'],\n",
       " ['Adventure', 'Comedy', 'Romance'],\n",
       " ['Comedy', 'Crime', 'Drama'],\n",
       " ['Adventure', 'Drama', 'Thriller'],\n",
       " ['Biography', 'Crime', 'Drama'],\n",
       " ['Crime', 'Drama', 'Thriller'],\n",
       " ['Drama', 'History', 'Thriller'],\n",
       " ['Action', 'Adventure', 'Sci-Fi'],\n",
       " ['Action', 'Comedy'],\n",
       " ['Horror'],\n",
       " ['Action', 'Crime', 'Mystery'],\n",
       " ['Comedy', 'Romance'],\n",
       " ['Comedy'],\n",
       " ['Action', 'Drama', 'Thriller'],\n",
       " ['Action', 'Adventure', 'Sci-Fi'],\n",
       " ['Drama', 'Mystery', 'Thriller'],\n",
       " ['Comedy', 'Drama', 'Romance'],\n",
       " ['Action', 'Fantasy', 'Horror'],\n",
       " ['Drama', 'Romance'],\n",
       " ['Biography', 'Drama'],\n",
       " ['Biography', 'Drama'],\n",
       " ['Action', 'Adventure', 'Sci-Fi'],\n",
       " ['Animation', 'Adventure', 'Comedy'],\n",
       " ['Drama', 'Mystery', 'Thriller'],\n",
       " ['Action', 'Horror', 'Sci-Fi'],\n",
       " ['Drama', 'Romance'],\n",
       " ['Biography', 'Drama'],\n",
       " ['Action', 'Adventure', 'Drama'],\n",
       " ['Adventure', 'Drama', 'Fantasy'],\n",
       " ['Drama', 'Family'],\n",
       " ['Comedy', 'Drama', 'Romance'],\n",
       " ['Drama', 'Romance', 'Sci-Fi'],\n",
       " ['Action', 'Adventure', 'Thriller'],\n",
       " ['Comedy', 'Romance'],\n",
       " ['Crime', 'Drama', 'Horror'],\n",
       " ['Comedy', 'Fantasy'],\n",
       " ['Action', 'Comedy', 'Crime'],\n",
       " ['Adventure', 'Drama', 'Romance'],\n",
       " ['Action', 'Crime', 'Drama'],\n",
       " ['Crime', 'Horror', 'Thriller'],\n",
       " ['Romance', 'Sci-Fi', 'Thriller'],\n",
       " ['Comedy', 'Drama', 'Romance'],\n",
       " ['Crime', 'Drama'],\n",
       " ['Crime', 'Drama', 'Mystery'],\n",
       " ['Action', 'Adventure', 'Sci-Fi'],\n",
       " ['Animation', 'Fantasy'],\n",
       " ['Animation', 'Adventure', 'Comedy'],\n",
       " ['Drama', 'Mystery', 'War'],\n",
       " ['Comedy', 'Romance'],\n",
       " ['Animation', 'Comedy', 'Family'],\n",
       " ['Comedy'],\n",
       " ['Horror', 'Mystery', 'Thriller'],\n",
       " ['Action', 'Adventure', 'Drama'],\n",
       " ['Comedy'],\n",
       " ['Drama'],\n",
       " ['Adventure', 'Biography', 'Drama'],\n",
       " ['Comedy'],\n",
       " ['Horror', 'Thriller'],\n",
       " ['Action', 'Drama', 'Family'],\n",
       " ['Comedy', 'Fantasy', 'Horror'],\n",
       " ['Comedy', 'Romance'],\n",
       " ['Drama', 'Mystery', 'Romance'],\n",
       " ['Action', 'Adventure', 'Comedy'],\n",
       " ['Thriller'],\n",
       " ['Comedy'],\n",
       " ['Adventure', 'Comedy', 'Sci-Fi'],\n",
       " ['Comedy', 'Drama', 'Fantasy'],\n",
       " ['Mystery', 'Thriller'],\n",
       " ['Comedy', 'Drama'],\n",
       " ['Adventure', 'Drama', 'Family'],\n",
       " ['Horror', 'Thriller'],\n",
       " ['Action', 'Drama', 'Romance'],\n",
       " ['Drama', 'Romance'],\n",
       " ['Action', 'Adventure', 'Fantasy'],\n",
       " ['Comedy'],\n",
       " ['Action', 'Biography', 'Drama'],\n",
       " ['Drama', 'Mystery', 'Romance'],\n",
       " ['Adventure', 'Drama', 'Western'],\n",
       " ['Drama', 'Music', 'Romance'],\n",
       " ['Comedy', 'Romance', 'Western'],\n",
       " ['Thriller'],\n",
       " ['Comedy', 'Drama', 'Romance'],\n",
       " ['Horror', 'Thriller'],\n",
       " ['Adventure', 'Family', 'Fantasy'],\n",
       " ['Crime', 'Drama', 'Mystery'],\n",
       " ['Horror', 'Mystery'],\n",
       " ['Comedy', 'Crime', 'Drama'],\n",
       " ['Action', 'Comedy', 'Romance'],\n",
       " ['Biography', 'Drama', 'History'],\n",
       " ['Adventure', 'Drama'],\n",
       " ['Drama', 'Thriller'],\n",
       " ['Drama'],\n",
       " ['Action', 'Adventure', 'Fantasy'],\n",
       " ['Action', 'Biography', 'Drama'],\n",
       " ['Drama', 'Music'],\n",
       " ['Comedy', 'Drama'],\n",
       " ['Drama', 'Thriller', 'War'],\n",
       " ['Action', 'Mystery', 'Thriller'],\n",
       " ['Horror', 'Sci-Fi', 'Thriller'],\n",
       " ['Comedy', 'Drama', 'Romance'],\n",
       " ['Action', 'Sci-Fi'],\n",
       " ['Action', 'Adventure', 'Fantasy'],\n",
       " ['Drama', 'Mystery', 'Romance'],\n",
       " ['Drama'],\n",
       " ['Action', 'Adventure', 'Thriller'],\n",
       " ['Action', 'Crime', 'Thriller'],\n",
       " ['Animation', 'Action', 'Adventure'],\n",
       " ['Drama', 'Fantasy', 'Mystery'],\n",
       " ['Drama', 'Sci-Fi'],\n",
       " ['Animation', 'Adventure', 'Comedy'],\n",
       " ['Horror', 'Thriller'],\n",
       " ['Action', 'Thriller'],\n",
       " ['Comedy'],\n",
       " ['Biography', 'Drama'],\n",
       " ['Action', 'Mystery', 'Thriller'],\n",
       " ['Action', 'Mystery', 'Sci-Fi'],\n",
       " ['Crime', 'Drama', 'Thriller'],\n",
       " ['Comedy', 'Romance'],\n",
       " ['Comedy', 'Drama', 'Romance'],\n",
       " ['Biography', 'Drama', 'Thriller'],\n",
       " ['Drama'],\n",
       " ['Action', 'Adventure', 'Family'],\n",
       " ['Animation', 'Comedy', 'Family'],\n",
       " ['Action', 'Crime', 'Drama'],\n",
       " ['Comedy'],\n",
       " ['Comedy', 'Crime', 'Thriller'],\n",
       " ['Comedy', 'Romance'],\n",
       " ['Animation', 'Comedy', 'Drama'],\n",
       " ['Action', 'Crime', 'Thriller'],\n",
       " ['Comedy', 'Romance'],\n",
       " ['Adventure', 'Biography', 'Drama'],\n",
       " ['Animation', 'Adventure', 'Comedy'],\n",
       " ['Crime', 'Drama', 'Mystery'],\n",
       " ['Action', 'Comedy', 'Sci-Fi'],\n",
       " ['Comedy', 'Fantasy', 'Horror'],\n",
       " ['Comedy', 'Crime'],\n",
       " ['Animation', 'Action', 'Adventure'],\n",
       " ['Action', 'Drama', 'Thriller'],\n",
       " ['Fantasy', 'Horror'],\n",
       " ['Crime', 'Drama', 'Thriller'],\n",
       " ['Action', 'Adventure', 'Fantasy'],\n",
       " ['Comedy', 'Drama', 'Romance'],\n",
       " ['Biography', 'Drama', 'Romance'],\n",
       " ['Action', 'Drama', 'History'],\n",
       " ['Action', 'Adventure', 'Comedy'],\n",
       " ['Horror', 'Thriller'],\n",
       " ['Horror', 'Mystery', 'Thriller'],\n",
       " ['Comedy', 'Romance'],\n",
       " ['Animation', 'Adventure', 'Comedy'],\n",
       " ['Crime', 'Drama', 'Mystery'],\n",
       " ['Crime', 'Drama', 'Mystery'],\n",
       " ['Adventure', 'Biography', 'Drama'],\n",
       " ['Horror', 'Mystery', 'Thriller'],\n",
       " ['Horror', 'Thriller'],\n",
       " ['Drama', 'Romance', 'War'],\n",
       " ['Adventure', 'Fantasy', 'Mystery'],\n",
       " ['Action', 'Adventure', 'Sci-Fi'],\n",
       " ['Biography', 'Drama'],\n",
       " ['Drama', 'Thriller'],\n",
       " ['Horror', 'Thriller'],\n",
       " ['Drama', 'Horror', 'Thriller'],\n",
       " ['Action', 'Adventure', 'Fantasy'],\n",
       " ['Action', 'Horror', 'Thriller'],\n",
       " ['Comedy'],\n",
       " ['Drama', 'Sport'],\n",
       " ['Comedy', 'Family'],\n",
       " ['Drama', 'Romance'],\n",
       " ['Action', 'Adventure', 'Comedy'],\n",
       " ['Comedy'],\n",
       " ['Mystery', 'Romance', 'Thriller'],\n",
       " ['Crime', 'Drama'],\n",
       " ['Action', 'Comedy'],\n",
       " ['Crime', 'Drama', 'Mystery'],\n",
       " ['Biography', 'Drama', 'Romance'],\n",
       " ['Comedy', 'Crime'],\n",
       " ['Drama', 'Thriller'],\n",
       " ['Drama'],\n",
       " ['Animation', 'Adventure', 'Comedy'],\n",
       " ['Action', 'Thriller'],\n",
       " ['Drama', 'Thriller'],\n",
       " ['Animation', 'Adventure', 'Comedy'],\n",
       " ['Crime', 'Drama', 'Mystery'],\n",
       " ['Thriller'],\n",
       " ['Biography', 'Drama', 'Sport'],\n",
       " ['Crime', 'Drama', 'Thriller'],\n",
       " ['Drama', 'Music'],\n",
       " ['Crime', 'Drama', 'Thriller'],\n",
       " ['Drama', 'Romance'],\n",
       " ['Animation', 'Action', 'Adventure'],\n",
       " ['Comedy', 'Drama'],\n",
       " ['Action', 'Adventure', 'Drama'],\n",
       " ['Biography', 'Crime', 'Drama'],\n",
       " ['Horror'],\n",
       " ['Biography', 'Drama', 'Mystery'],\n",
       " ['Drama', 'Romance'],\n",
       " ['Animation', 'Drama', 'Romance'],\n",
       " ['Comedy', 'Family'],\n",
       " ['Drama'],\n",
       " ['Mystery', 'Thriller'],\n",
       " ['Drama', 'Fantasy', 'Horror'],\n",
       " ['Drama', 'Romance'],\n",
       " ['Biography', 'Drama', 'History'],\n",
       " ['Comedy', 'Family'],\n",
       " ['Action', 'Adventure', 'Thriller'],\n",
       " ['Comedy', 'Drama'],\n",
       " ['Action', 'Adventure', 'Fantasy'],\n",
       " ['Action', 'Thriller'],\n",
       " ['Drama', 'Romance'],\n",
       " ['Comedy', 'Drama', 'Romance'],\n",
       " ['Drama', 'Horror', 'Sci-Fi'],\n",
       " ['Comedy', 'Horror', 'Romance'],\n",
       " ['Drama'],\n",
       " ['Action', 'Adventure', 'Sci-Fi'],\n",
       " ['Action', 'Adventure', 'Fantasy'],\n",
       " ['Action', 'Adventure', 'Drama'],\n",
       " ['Biography', 'Comedy', 'Drama'],\n",
       " ['Drama', 'Mystery', 'Romance'],\n",
       " ['Animation', 'Adventure', 'Comedy'],\n",
       " ['Drama', 'Romance', 'Sci-Fi'],\n",
       " ['Drama'],\n",
       " ['Drama', 'Fantasy'],\n",
       " ['Drama', 'Romance'],\n",
       " ['Comedy', 'Horror', 'Thriller'],\n",
       " ['Comedy', 'Drama', 'Romance'],\n",
       " ['Crime', 'Drama'],\n",
       " ['Comedy', 'Romance'],\n",
       " ['Action', 'Drama', 'Family'],\n",
       " ['Comedy', 'Drama', 'Romance'],\n",
       " ['Action', 'Thriller', 'War'],\n",
       " ['Action', 'Comedy', 'Horror'],\n",
       " ['Biography', 'Drama', 'Sport'],\n",
       " ['Adventure', 'Comedy', 'Drama'],\n",
       " ['Comedy', 'Romance'],\n",
       " ['Comedy', 'Romance'],\n",
       " ['Comedy', 'Drama', 'Romance'],\n",
       " ['Action', 'Adventure', 'Crime'],\n",
       " ['Comedy', 'Romance'],\n",
       " ['Animation', 'Action', 'Adventure'],\n",
       " ['Action', 'Crime', 'Sci-Fi'],\n",
       " ['Drama'],\n",
       " ['Comedy', 'Drama', 'Romance'],\n",
       " ['Crime', 'Thriller'],\n",
       " ['Comedy', 'Horror', 'Sci-Fi'],\n",
       " ['Drama', 'Thriller'],\n",
       " ['Drama', 'Fantasy', 'Horror'],\n",
       " ['Thriller'],\n",
       " ['Adventure', 'Drama', 'Family'],\n",
       " ['Mystery', 'Sci-Fi', 'Thriller'],\n",
       " ['Biography', 'Crime', 'Drama'],\n",
       " ['Drama', 'Fantasy', 'Horror'],\n",
       " ['Action', 'Adventure', 'Thriller'],\n",
       " ['Crime', 'Drama', 'Horror'],\n",
       " ['Crime', 'Drama', 'Fantasy'],\n",
       " ['Adventure', 'Family', 'Fantasy'],\n",
       " ['Action', 'Adventure', 'Drama'],\n",
       " ['Action', 'Comedy', 'Horror'],\n",
       " ['Comedy', 'Drama', 'Family'],\n",
       " ['Action', 'Thriller'],\n",
       " ['Action', 'Adventure', 'Sci-Fi'],\n",
       " ['Adventure', 'Drama', 'Fantasy'],\n",
       " ['Drama'],\n",
       " ['Drama'],\n",
       " ['Comedy'],\n",
       " ['Drama'],\n",
       " ['Comedy', 'Drama', 'Music'],\n",
       " ['Drama', 'Fantasy', 'Music'],\n",
       " ['Drama'],\n",
       " ['Thriller'],\n",
       " ['Comedy', 'Horror'],\n",
       " ['Action', 'Comedy', 'Sport'],\n",
       " ['Horror'],\n",
       " ['Comedy', 'Drama'],\n",
       " ['Action', 'Drama', 'Thriller'],\n",
       " ['Drama', 'Romance'],\n",
       " ['Horror', 'Mystery'],\n",
       " ['Adventure', 'Drama', 'Fantasy'],\n",
       " ['Thriller'],\n",
       " ['Comedy', 'Romance'],\n",
       " ['Action', 'Sci-Fi', 'Thriller'],\n",
       " ['Fantasy', 'Mystery', 'Thriller'],\n",
       " ['Biography', 'Drama'],\n",
       " ['Crime', 'Drama'],\n",
       " ['Action', 'Adventure', 'Sci-Fi'],\n",
       " ['Adventure'],\n",
       " ['Comedy', 'Drama'],\n",
       " ['Comedy', 'Drama'],\n",
       " ['Comedy', 'Drama', 'Romance'],\n",
       " ['Adventure', 'Comedy', 'Drama'],\n",
       " ['Action', 'Sci-Fi', 'Thriller'],\n",
       " ['Comedy', 'Romance'],\n",
       " ['Action', 'Fantasy', 'Horror'],\n",
       " ['Crime', 'Drama', 'Thriller'],\n",
       " ['Action', 'Drama', 'Thriller'],\n",
       " ['Crime', 'Drama', 'Mystery'],\n",
       " ['Crime', 'Drama', 'Mystery'],\n",
       " ['Drama', 'Sci-Fi', 'Thriller'],\n",
       " ['Biography', 'Drama', 'History'],\n",
       " ['Crime', 'Horror', 'Thriller'],\n",
       " ['Drama'],\n",
       " ['Drama', 'Mystery', 'Thriller'],\n",
       " ['Adventure', 'Biography'],\n",
       " ['Adventure', 'Biography', 'Crime'],\n",
       " ['Action', 'Horror', 'Thriller'],\n",
       " ['Action', 'Adventure', 'Western'],\n",
       " ['Horror', 'Thriller'],\n",
       " ['Drama', 'Mystery', 'Thriller'],\n",
       " ['Comedy', 'Drama', 'Musical'],\n",
       " ['Horror', 'Mystery'],\n",
       " ['Biography', 'Drama', 'Sport'],\n",
       " ['Comedy', 'Family', 'Romance'],\n",
       " ['Drama', 'Mystery', 'Thriller'],\n",
       " ['Comedy'],\n",
       " ['Drama'],\n",
       " ['Drama', 'Thriller'],\n",
       " ['Biography', 'Drama', 'Family'],\n",
       " ['Comedy', 'Drama', 'Family'],\n",
       " ['Drama', 'Fantasy', 'Musical'],\n",
       " ['Comedy'],\n",
       " ['Adventure', 'Family'],\n",
       " ['Adventure', 'Comedy', 'Fantasy'],\n",
       " ['Horror', 'Thriller'],\n",
       " ['Drama', 'Romance'],\n",
       " ['Horror'],\n",
       " ['Biography', 'Drama', 'History'],\n",
       " ['Action', 'Adventure', 'Fantasy'],\n",
       " ['Drama', 'Family', 'Music'],\n",
       " ['Comedy', 'Drama', 'Romance'],\n",
       " ['Action', 'Adventure', 'Horror'],\n",
       " ['Comedy'],\n",
       " ['Crime', 'Drama', 'Mystery'],\n",
       " ['Horror'],\n",
       " ['Drama', 'Music', 'Romance'],\n",
       " ['Adventure', 'Comedy'],\n",
       " ['Comedy', 'Family', 'Fantasy']]"
      ]
     },
     "execution_count": 153,
     "metadata": {},
     "output_type": "execute_result"
    }
   ],
   "source": [
    "# Split the values in the \"Genre\" column of the movies dataframe by comma and store them in a list\n",
    "\n",
    "genre_list = []\n",
    "for value in movies[\"Genre\"]:\n",
    "    genre_list.append(value.split(','))\n",
    "\n",
    "# Print the resulting list\n",
    "genre_list\n"
   ]
  },
  {
   "cell_type": "code",
   "execution_count": 157,
   "id": "7b7bf5c3",
   "metadata": {
    "ExecuteTime": {
     "end_time": "2023-04-23T19:48:58.854498Z",
     "start_time": "2023-04-23T19:48:58.849287Z"
    }
   },
   "outputs": [],
   "source": [
    "one_dia = []\n",
    "for item in genre_list:\n",
    "    for item1 in item:\n",
    "        one_dia.append(item1)\n",
    "        \n",
    "        \n"
   ]
  },
  {
   "cell_type": "code",
   "execution_count": 158,
   "id": "86e2c4f9",
   "metadata": {
    "ExecuteTime": {
     "end_time": "2023-04-23T19:49:00.349763Z",
     "start_time": "2023-04-23T19:49:00.343983Z"
    }
   },
   "outputs": [
    {
     "name": "stdout",
     "output_type": "stream",
     "text": [
      "['Action', 'Adventure', 'Sci-Fi', 'Adventure', 'Mystery', 'Sci-Fi', 'Horror', 'Thriller', 'Animation', 'Comedy', 'Family', 'Action', 'Adventure', 'Fantasy', 'Action', 'Adventure', 'Fantasy', 'Comedy', 'Drama', 'Music', 'Comedy', 'Action', 'Adventure', 'Biography', 'Adventure', 'Drama', 'Romance', 'Adventure', 'Family', 'Fantasy', 'Biography', 'Drama', 'History', 'Action', 'Adventure', 'Sci-Fi', 'Animation', 'Adventure', 'Comedy', 'Action', 'Comedy', 'Drama', 'Animation', 'Adventure', 'Comedy', 'Biography', 'Drama', 'History', 'Action', 'Thriller', 'Biography', 'Drama', 'Drama', 'Mystery', 'Sci-Fi', 'Adventure', 'Drama', 'Thriller', 'Drama', 'Crime', 'Drama', 'Horror', 'Animation', 'Adventure', 'Comedy', 'Action', 'Adventure', 'Sci-Fi', 'Comedy', 'Action', 'Adventure', 'Drama', 'Horror', 'Thriller', 'Comedy', 'Action', 'Adventure', 'Drama', 'Comedy', 'Drama', 'Thriller', 'Action', 'Adventure', 'Sci-Fi', 'Action', 'Adventure', 'Comedy', 'Action', 'Horror', 'Sci-Fi', 'Action', 'Adventure', 'Sci-Fi', 'Adventure', 'Drama', 'Sci-Fi', 'Action', 'Adventure', 'Fantasy', 'Action', 'Adventure', 'Western', 'Comedy', 'Drama', 'Animation', 'Adventure', 'Comedy', 'Drama', 'Horror', 'Biography', 'Drama', 'History', 'Drama', 'Action', 'Adventure', 'Fantasy', 'Drama', 'Thriller', 'Adventure', 'Drama', 'Fantasy', 'Action', 'Adventure', 'Sci-Fi', 'Drama', 'Action', 'Adventure', 'Fantasy', 'Action', 'Adventure', 'Fantasy', 'Comedy', 'Drama', 'Action', 'Crime', 'Thriller', 'Action', 'Crime', 'Drama', 'Adventure', 'Drama', 'History', 'Crime', 'Horror', 'Thriller', 'Drama', 'Romance', 'Comedy', 'Drama', 'Romance', 'Biography', 'Drama', 'Action', 'Adventure', 'Sci-Fi', 'Horror', 'Mystery', 'Thriller', 'Crime', 'Drama', 'Mystery', 'Drama', 'Romance', 'Thriller', 'Drama', 'Mystery', 'Sci-Fi', 'Action', 'Adventure', 'Comedy', 'Drama', 'History', 'Thriller', 'Action', 'Adventure', 'Sci-Fi', 'Drama', 'Action', 'Drama', 'Thriller', 'Drama', 'History', 'Action', 'Drama', 'Romance', 'Drama', 'Fantasy', 'Drama', 'Romance', 'Animation', 'Adventure', 'Comedy', 'Action', 'Adventure', 'Fantasy', 'Action', 'Sci-Fi', 'Adventure', 'Drama', 'War', 'Action', 'Adventure', 'Fantasy', 'Action', 'Comedy', 'Fantasy', 'Action', 'Adventure', 'Sci-Fi', 'Comedy', 'Drama', 'Biography', 'Comedy', 'Crime', 'Crime', 'Drama', 'Mystery', 'Action', 'Crime', 'Thriller', 'Action', 'Adventure', 'Sci-Fi', 'Crime', 'Drama', 'Action', 'Adventure', 'Fantasy', 'Crime', 'Drama', 'Mystery', 'Action', 'Crime', 'Drama', 'Crime', 'Drama', 'Mystery', 'Action', 'Adventure', 'Fantasy', 'Drama', 'Comedy', 'Crime', 'Drama', 'Action', 'Adventure', 'Sci-Fi', 'Action', 'Comedy', 'Crime', 'Animation', 'Drama', 'Fantasy', 'Horror', 'Mystery', 'Sci-Fi', 'Drama', 'Mystery', 'Thriller', 'Crime', 'Drama', 'Thriller', 'Biography', 'Crime', 'Drama', 'Action', 'Adventure', 'Fantasy', 'Adventure', 'Drama', 'Sci-Fi', 'Crime', 'Mystery', 'Thriller', 'Action', 'Adventure', 'Comedy', 'Crime', 'Drama', 'Thriller', 'Comedy', 'Action', 'Adventure', 'Drama', 'Drama', 'Drama', 'Mystery', 'Sci-Fi', 'Action', 'Horror', 'Thriller', 'Biography', 'Drama', 'History', 'Romance', 'Sci-Fi', 'Action', 'Fantasy', 'War', 'Adventure', 'Drama', 'Fantasy', 'Comedy', 'Horror', 'Thriller', 'Action', 'Biography', 'Drama', 'Drama', 'Horror', 'Mystery', 'Animation', 'Adventure', 'Comedy', 'Adventure', 'Drama', 'Family', 'Adventure', 'Mystery', 'Sci-Fi', 'Adventure', 'Comedy', 'Romance', 'Action', 'Action', 'Thriller', 'Adventure', 'Drama', 'Family', 'Action', 'Adventure', 'Sci-Fi', 'Adventure', 'Crime', 'Mystery', 'Comedy', 'Family', 'Musical', 'Adventure', 'Drama', 'Thriller', 'Drama', 'Adventure', 'Comedy', 'Drama', 'Drama', 'Horror', 'Thriller', 'Drama', 'Music', 'Action', 'Crime', 'Thriller', 'Crime', 'Drama', 'Thriller', 'Crime', 'Drama', 'Thriller', 'Drama', 'Romance', 'Mystery', 'Thriller', 'Mystery', 'Thriller', 'Western', 'Action', 'Adventure', 'Sci-Fi', 'Comedy', 'Family', 'Biography', 'Comedy', 'Drama', 'Drama', 'Drama', 'Western', 'Drama', 'Mystery', 'Romance', 'Comedy', 'Drama', 'Action', 'Drama', 'Mystery', 'Comedy', 'Action', 'Adventure', 'Crime', 'Adventure', 'Family', 'Fantasy', 'Adventure', 'Sci-Fi', 'Thriller', 'Drama', 'Action', 'Crime', 'Drama', 'Drama', 'Horror', 'Mystery', 'Action', 'Horror', 'Sci-Fi', 'Action', 'Adventure', 'Sci-Fi', 'Comedy', 'Drama', 'Romance', 'Action', 'Comedy', 'Fantasy', 'Action', 'Comedy', 'Mystery', 'Thriller', 'War', 'Action', 'Comedy', 'Crime', 'Action', 'Adventure', 'Sci-Fi', 'Action', 'Adventure', 'Crime', 'Action', 'Adventure', 'Thriller', 'Drama', 'Fantasy', 'Romance', 'Action', 'Adventure', 'Comedy', 'Biography', 'Drama', 'History', 'Action', 'Drama', 'History', 'Action', 'Adventure', 'Thriller', 'Crime', 'Drama', 'Thriller', 'Animation', 'Adventure', 'Family', 'Adventure', 'Horror', 'Drama', 'Romance', 'Sci-Fi', 'Animation', 'Adventure', 'Comedy', 'Action', 'Adventure', 'Family', 'Action', 'Adventure', 'Drama', 'Action', 'Comedy', 'Horror', 'Mystery', 'Thriller', 'Action', 'Adventure', 'Comedy', 'Comedy', 'Romance', 'Horror', 'Mystery', 'Drama', 'Family', 'Fantasy', 'Sci-Fi', 'Drama', 'Thriller', 'Drama', 'Romance', 'Drama', 'War', 'Drama', 'Fantasy', 'Horror', 'Crime', 'Drama', 'Comedy', 'Drama', 'Romance', 'Drama', 'Romance', 'Drama', 'Crime', 'Drama', 'History', 'Horror', 'Sci-Fi', 'Thriller', 'Action', 'Drama', 'Sport', 'Action', 'Adventure', 'Sci-Fi', 'Crime', 'Drama', 'Thriller', 'Adventure', 'Biography', 'Drama', 'Biography', 'Drama', 'Thriller', 'Action', 'Comedy', 'Crime', 'Action', 'Adventure', 'Sci-Fi', 'Drama', 'Fantasy', 'Horror', 'Biography', 'Drama', 'Thriller', 'Action', 'Adventure', 'Sci-Fi', 'Action', 'Adventure', 'Mystery', 'Action', 'Adventure', 'Sci-Fi', 'Drama', 'Horror', 'Comedy', 'Drama', 'Romance', 'Comedy', 'Romance', 'Drama', 'Horror', 'Thriller', 'Action', 'Adventure', 'Drama', 'Drama', 'Action', 'Adventure', 'Sci-Fi', 'Action', 'Drama', 'Mystery', 'Action', 'Adventure', 'Fantasy', 'Action', 'Adventure', 'Fantasy', 'Action', 'Adventure', 'Sci-Fi', 'Action', 'Adventure', 'Comedy', 'Drama', 'Horror', 'Action', 'Comedy', 'Action', 'Adventure', 'Sci-Fi', 'Animation', 'Adventure', 'Comedy', 'Horror', 'Mystery', 'Crime', 'Drama', 'Mystery', 'Comedy', 'Crime', 'Drama', 'Comedy', 'Drama', 'Romance', 'Action', 'Adventure', 'Sci-Fi', 'Action', 'Adventure', 'Family', 'Horror', 'Sci-Fi', 'Thriller', 'Drama', 'Fantasy', 'War', 'Crime', 'Drama', 'Thriller', 'Action', 'Adventure', 'Drama', 'Action', 'Adventure', 'Thriller', 'Action', 'Adventure', 'Drama', 'Drama', 'Romance', 'Biography', 'Drama', 'History', 'Drama', 'Horror', 'Thriller', 'Adventure', 'Comedy', 'Drama', 'Action', 'Adventure', 'Romance', 'Action', 'Drama', 'War', 'Animation', 'Adventure', 'Comedy', 'Animation', 'Adventure', 'Comedy', 'Action', 'Adventure', 'Sci-Fi', 'Adventure', 'Family', 'Fantasy', 'Drama', 'Musical', 'Romance', 'Drama', 'Sci-Fi', 'Thriller', 'Comedy', 'Drama', 'Action', 'Comedy', 'Crime', 'Biography', 'Comedy', 'Drama', 'Comedy', 'Drama', 'Romance', 'Drama', 'Thriller', 'Biography', 'Drama', 'History', 'Action', 'Adventure', 'Sci-Fi', 'Horror', 'Mystery', 'Thriller', 'Comedy', 'Action', 'Adventure', 'Sci-Fi', 'Action', 'Drama', 'Sci-Fi', 'Horror', 'Drama', 'Thriller', 'Comedy', 'Drama', 'Romance', 'Drama', 'Thriller', 'Comedy', 'Drama', 'Drama', 'Action', 'Adventure', 'Comedy', 'Drama', 'Horror', 'Thriller', 'Comedy', 'Drama', 'Sci-Fi', 'Action', 'Adventure', 'Sci-Fi', 'Horror', 'Action', 'Adventure', 'Thriller', 'Adventure', 'Fantasy', 'Action', 'Comedy', 'Crime', 'Comedy', 'Drama', 'Music', 'Animation', 'Adventure', 'Comedy', 'Action', 'Adventure', 'Mystery', 'Action', 'Comedy', 'Crime', 'Crime', 'Drama', 'History', 'Comedy', 'Action', 'Adventure', 'Sci-Fi', 'Crime', 'Mystery', 'Thriller', 'Action', 'Adventure', 'Crime', 'Thriller', 'Biography', 'Drama', 'Romance', 'Action', 'Adventure', 'Action', 'Fantasy', 'Action', 'Comedy', 'Action', 'Adventure', 'Sci-Fi', 'Action', 'Comedy', 'Crime', 'Thriller', 'Action', 'Drama', 'Horror', 'Comedy', 'Music', 'Romance', 'Comedy', 'Drama', 'Action', 'Adventure', 'Fantasy', 'Drama', 'Romance', 'Animation', 'Adventure', 'Comedy', 'Comedy', 'Drama', 'Biography', 'Crime', 'Drama', 'Drama', 'History', 'Action', 'Crime', 'Thriller', 'Action', 'Biography', 'Drama', 'Horror', 'Comedy', 'Romance', 'Comedy', 'Romance', 'Comedy', 'Crime', 'Drama', 'Adventure', 'Family', 'Fantasy', 'Crime', 'Drama', 'Thriller', 'Action', 'Crime', 'Thriller', 'Comedy', 'Romance', 'Biography', 'Drama', 'Sport', 'Drama', 'Romance', 'Drama', 'Horror', 'Adventure', 'Fantasy', 'Adventure', 'Family', 'Fantasy', 'Action', 'Drama', 'Sci-Fi', 'Action', 'Adventure', 'Sci-Fi', 'Action', 'Horror', 'Comedy', 'Horror', 'Thriller', 'Action', 'Crime', 'Thriller', 'Crime', 'Drama', 'Music', 'Drama', 'Action', 'Crime', 'Thriller', 'Action', 'Sci-Fi', 'Thriller', 'Biography', 'Drama', 'Action', 'Adventure', 'Fantasy', 'Drama', 'Horror', 'Sci-Fi', 'Biography', 'Comedy', 'Drama', 'Crime', 'Horror', 'Thriller', 'Crime', 'Drama', 'Mystery', 'Animation', 'Adventure', 'Comedy', 'Action', 'Biography', 'Drama', 'Biography', 'Drama', 'Biography', 'Drama', 'History', 'Action', 'Biography', 'Drama', 'Drama', 'Fantasy', 'Horror', 'Comedy', 'Drama', 'Romance', 'Drama', 'Sport', 'Drama', 'Romance', 'Comedy', 'Romance', 'Action', 'Crime', 'Thriller', 'Action', 'Crime', 'Drama', 'Action', 'Drama', 'Thriller', 'Adventure', 'Family', 'Fantasy', 'Action', 'Adventure', 'Action', 'Adventure', 'Romance', 'Adventure', 'Family', 'Fantasy', 'Crime', 'Drama', 'Comedy', 'Horror', 'Comedy', 'Fantasy', 'Romance', 'Drama', 'Drama', 'Comedy', 'Drama', 'Comedy', 'Drama', 'Romance', 'Adventure', 'Sci-Fi', 'Thriller', 'Action', 'Adventure', 'Fantasy', 'Comedy', 'Drama', 'Biography', 'Drama', 'Romance', 'Comedy', 'Fantasy', 'Comedy', 'Drama', 'Fantasy', 'Comedy', 'Horror', 'Thriller', 'Action', 'Adventure', 'Sci-Fi', 'Adventure', 'Comedy', 'Horror', 'Comedy', 'Mystery', 'Drama', 'Adventure', 'Drama', 'Fantasy', 'Drama', 'Sport', 'Action', 'Adventure', 'Action', 'Adventure', 'Drama', 'Action', 'Drama', 'Sci-Fi', 'Action', 'Mystery', 'Sci-Fi', 'Action', 'Crime', 'Drama', 'Action', 'Crime', 'Fantasy', 'Biography', 'Comedy', 'Drama', 'Action', 'Crime', 'Thriller', 'Biography', 'Crime', 'Drama', 'Drama', 'Sport', 'Adventure', 'Comedy', 'Drama', 'Action', 'Adventure', 'Thriller', 'Comedy', 'Fantasy', 'Horror', 'Drama', 'Sport', 'Horror', 'Thriller', 'Drama', 'History', 'Thriller', 'Animation', 'Action', 'Adventure', 'Action', 'Adventure', 'Drama', 'Action', 'Comedy', 'Family', 'Action', 'Adventure', 'Drama', 'Action', 'Adventure', 'Sci-Fi', 'Action', 'Adventure', 'Sci-Fi', 'Action', 'Comedy', 'Action', 'Crime', 'Drama', 'Biography', 'Drama', 'Comedy', 'Romance', 'Comedy', 'Drama', 'Fantasy', 'Romance', 'Action', 'Adventure', 'Sci-Fi', 'Comedy', 'Comedy', 'Sci-Fi', 'Comedy', 'Drama', 'Animation', 'Action', 'Adventure', 'Horror', 'Action', 'Biography', 'Crime', 'Animation', 'Adventure', 'Comedy', 'Drama', 'Romance', 'Drama', 'Mystery', 'Thriller', 'Drama', 'History', 'Thriller', 'Animation', 'Adventure', 'Comedy', 'Action', 'Adventure', 'Sci-Fi', 'Adventure', 'Comedy', 'Action', 'Thriller', 'Comedy', 'Music', 'Animation', 'Adventure', 'Comedy', 'Crime', 'Drama', 'Thriller', 'Action', 'Adventure', 'Crime', 'Comedy', 'Drama', 'Horror', 'Drama', 'Drama', 'Mystery', 'Romance', 'Adventure', 'Family', 'Fantasy', 'Drama', 'Action', 'Drama', 'Thriller', 'Drama', 'Action', 'Horror', 'Romance', 'Action', 'Drama', 'Fantasy', 'Action', 'Crime', 'Drama', 'Drama', 'Fantasy', 'Romance', 'Action', 'Crime', 'Thriller', 'Action', 'Mystery', 'Thriller', 'Horror', 'Mystery', 'Thriller', 'Action', 'Horror', 'Sci-Fi', 'Comedy', 'Drama', 'Comedy', 'Action', 'Adventure', 'Horror', 'Action', 'Adventure', 'Thriller', 'Action', 'Crime', 'Drama', 'Comedy', 'Crime', 'Drama', 'Drama', 'Romance', 'Drama', 'Thriller', 'Action', 'Comedy', 'Crime', 'Comedy', 'Adventure', 'Family', 'Fantasy', 'Drama', 'Romance', 'Animation', 'Family', 'Fantasy', 'Drama', 'Romance', 'Thriller', 'Adventure', 'Horror', 'Mystery', 'Action', 'Sci-Fi', 'Adventure', 'Comedy', 'Drama', 'Animation', 'Action', 'Adventure', 'Drama', 'Horror', 'Action', 'Adventure', 'Sci-Fi', 'Comedy', 'Drama', 'Action', 'Horror', 'Mystery', 'Action', 'Thriller', 'Action', 'Adventure', 'Sci-Fi', 'Drama', 'Comedy', 'Drama', 'Romance', 'Comedy', 'Crime', 'Comedy', 'Romance', 'Drama', 'Romance', 'Crime', 'Drama', 'Thriller', 'Horror', 'Mystery', 'Thriller', 'Biography', 'Drama', 'Drama', 'Mystery', 'Sci-Fi', 'Adventure', 'Comedy', 'Family', 'Action', 'Adventure', 'Crime', 'Action', 'Crime', 'Mystery', 'Mystery', 'Thriller', 'Action', 'Sci-Fi', 'Thriller', 'Action', 'Comedy', 'Crime', 'Biography', 'Crime', 'Drama', 'Biography', 'Drama', 'History', 'Action', 'Adventure', 'Sci-Fi', 'Adventure', 'Family', 'Fantasy', 'Biography', 'Drama', 'History', 'Biography', 'Comedy', 'Drama', 'Drama', 'Thriller', 'Horror', 'Thriller', 'Drama', 'Drama', 'War', 'Comedy', 'Drama', 'Romance', 'Drama', 'Romance', 'Sci-Fi', 'Action', 'Crime', 'Drama', 'Comedy', 'Drama', 'Animation', 'Action', 'Adventure', 'Adventure', 'Comedy', 'Drama', 'Comedy', 'Drama', 'Family', 'Drama', 'Romance', 'Thriller', 'Comedy', 'Crime', 'Drama', 'Animation', 'Comedy', 'Family', 'Drama', 'Horror', 'Sci-Fi', 'Action', 'Adventure', 'Drama', 'Action', 'Horror', 'Sci-Fi', 'Action', 'Crime', 'Sport', 'Drama', 'Horror', 'Sci-Fi', 'Drama', 'Horror', 'Sci-Fi', 'Action', 'Adventure', 'Comedy', 'Mystery', 'Sci-Fi', 'Thriller', 'Crime', 'Drama', 'Thriller', 'Animation', 'Adventure', 'Comedy', 'Action', 'Sci-Fi', 'Thriller', 'Drama', 'Romance', 'Crime', 'Drama', 'Thriller', 'Comedy', 'Drama', 'Music', 'Drama', 'Fantasy', 'Romance', 'Crime', 'Drama', 'Thriller', 'Crime', 'Drama', 'Thriller', 'Comedy', 'Drama', 'Romance', 'Comedy', 'Romance', 'Drama', 'Sci-Fi', 'Thriller', 'Drama', 'War', 'Action', 'Crime', 'Drama', 'Sci-Fi', 'Thriller', 'Adventure', 'Drama', 'Horror', 'Comedy', 'Drama', 'Music', 'Comedy', 'Drama', 'Romance', 'Action', 'Adventure', 'Drama', 'Action', 'Crime', 'Drama', 'Adventure', 'Fantasy', 'Drama', 'Romance', 'Biography', 'History', 'Thriller', 'Crime', 'Drama', 'Thriller', 'Action', 'Drama', 'History', 'Biography', 'Comedy', 'Drama', 'Crime', 'Drama', 'Thriller', 'Action', 'Biography', 'Drama', 'Action', 'Drama', 'Sci-Fi', 'Adventure', 'Horror', 'Action', 'Adventure', 'Sci-Fi', 'Action', 'Adventure', 'Mystery', 'Comedy', 'Drama', 'Romance', 'Horror', 'Thriller', 'Action', 'Sci-Fi', 'Thriller', 'Action', 'Sci-Fi', 'Thriller', 'Biography', 'Drama', 'Action', 'Crime', 'Drama', 'Action', 'Crime', 'Mystery', 'Action', 'Adventure', 'Comedy', 'Crime', 'Drama', 'Thriller', 'Crime', 'Drama', 'Mystery', 'Thriller', 'Mystery', 'Sci-Fi', 'Thriller', 'Action', 'Mystery', 'Sci-Fi', 'Drama', 'Romance', 'Drama', 'Thriller', 'Drama', 'Mystery', 'Sci-Fi', 'Comedy', 'Drama', 'Adventure', 'Family', 'Fantasy', 'Biography', 'Drama', 'Sport', 'Drama', 'Comedy', 'Drama', 'Romance', 'Biography', 'Drama', 'Romance', 'Action', 'Adventure', 'Sci-Fi', 'Drama', 'Sci-Fi', 'Thriller', 'Drama', 'Romance', 'Thriller', 'Mystery', 'Thriller', 'Mystery', 'Thriller', 'Action', 'Drama', 'Fantasy', 'Action', 'Adventure', 'Biography', 'Adventure', 'Comedy', 'Sci-Fi', 'Action', 'Adventure', 'Thriller', 'Fantasy', 'Horror', 'Horror', 'Mystery', 'Animation', 'Adventure', 'Comedy', 'Action', 'Adventure', 'Drama', 'Adventure', 'Family', 'Fantasy', 'Action', 'Adventure', 'Sci-Fi', 'Comedy', 'Drama', 'Comedy', 'Drama', 'Crime', 'Drama', 'Thriller', 'Comedy', 'Romance', 'Animation', 'Comedy', 'Family', 'Comedy', 'Drama', 'Comedy', 'Drama', 'Biography', 'Drama', 'Sport', 'Action', 'Adventure', 'Fantasy', 'Action', 'Drama', 'History', 'Action', 'Adventure', 'Sci-Fi', 'Action', 'Adventure', 'Mystery', 'Crime', 'Drama', 'Mystery', 'Action', 'Action', 'Adventure', 'Family', 'Comedy', 'Romance', 'Comedy', 'Drama', 'Romance', 'Biography', 'Drama', 'Sport', 'Action', 'Fantasy', 'Thriller', 'Biography', 'Drama', 'Sport', 'Action', 'Drama', 'Fantasy', 'Adventure', 'Sci-Fi', 'Thriller', 'Animation', 'Adventure', 'Comedy', 'Drama', 'Mystery', 'Thriller', 'Drama', 'Romance', 'Crime', 'Drama', 'Mystery', 'Comedy', 'Romance', 'Sport', 'Comedy', 'Family', 'Drama', 'Horror', 'Mystery', 'Action', 'Drama', 'Sport', 'Action', 'Adventure', 'Comedy', 'Drama', 'Mystery', 'Sci-Fi', 'Animation', 'Action', 'Comedy', 'Action', 'Crime', 'Drama', 'Action', 'Crime', 'Drama', 'Comedy', 'Drama', 'Romance', 'Animation', 'Action', 'Adventure', 'Crime', 'Drama', 'Drama', 'Drama', 'Comedy', 'Crime', 'Drama', 'Action', 'Adventure', 'Fantasy', 'Drama', 'Fantasy', 'Romance', 'Comedy', 'Drama', 'Drama', 'Fantasy', 'Thriller', 'Biography', 'Crime', 'Drama', 'Comedy', 'Drama', 'Romance', 'Action', 'Crime', 'Drama', 'Sci-Fi', 'Action', 'Biography', 'Drama', 'Action', 'Comedy', 'Romance', 'Adventure', 'Comedy', 'Drama', 'Comedy', 'Crime', 'Drama', 'Action', 'Fantasy', 'Horror', 'Drama', 'Horror', 'Horror', 'Action', 'Thriller', 'Action', 'Adventure', 'Mystery', 'Action', 'Adventure', 'Fantasy', 'Comedy', 'Drama', 'Romance', 'Crime', 'Drama', 'Mystery', 'Adventure', 'Comedy', 'Family', 'Comedy', 'Drama', 'Romance', 'Comedy', 'Comedy', 'Drama', 'Horror', 'Drama', 'Horror', 'Thriller', 'Animation', 'Adventure', 'Family', 'Comedy', 'Romance', 'Mystery', 'Romance', 'Sci-Fi', 'Crime', 'Drama', 'Drama', 'Horror', 'Mystery', 'Comedy', 'Biography', 'Drama', 'Comedy', 'Drama', 'Thriller', 'Comedy', 'Western', 'Drama', 'History', 'War', 'Drama', 'Horror', 'Sci-Fi', 'Drama', 'Comedy', 'Drama', 'Fantasy', 'Horror', 'Thriller', 'Drama', 'Romance', 'Action', 'Comedy', 'Fantasy', 'Drama', 'Horror', 'Musical', 'Crime', 'Drama', 'Mystery', 'Horror', 'Mystery', 'Thriller', 'Comedy', 'Music', 'Drama', 'Biography', 'Crime', 'Drama', 'Drama', 'Action', 'Adventure', 'Comedy', 'Crime', 'Drama', 'Mystery', 'Drama', 'Action', 'Comedy', 'Crime', 'Comedy', 'Drama', 'Romance', 'Crime', 'Drama', 'Mystery', 'Action', 'Comedy', 'Crime', 'Drama', 'Drama', 'Romance', 'Crime', 'Drama', 'Mystery', 'Adventure', 'Comedy', 'Romance', 'Comedy', 'Crime', 'Drama', 'Adventure', 'Drama', 'Thriller', 'Biography', 'Crime', 'Drama', 'Crime', 'Drama', 'Thriller', 'Drama', 'History', 'Thriller', 'Action', 'Adventure', 'Sci-Fi', 'Action', 'Comedy', 'Horror', 'Action', 'Crime', 'Mystery', 'Comedy', 'Romance', 'Comedy', 'Action', 'Drama', 'Thriller', 'Action', 'Adventure', 'Sci-Fi', 'Drama', 'Mystery', 'Thriller', 'Comedy', 'Drama', 'Romance', 'Action', 'Fantasy', 'Horror', 'Drama', 'Romance', 'Biography', 'Drama', 'Biography', 'Drama', 'Action', 'Adventure', 'Sci-Fi', 'Animation', 'Adventure', 'Comedy', 'Drama', 'Mystery', 'Thriller', 'Action', 'Horror', 'Sci-Fi', 'Drama', 'Romance', 'Biography', 'Drama', 'Action', 'Adventure', 'Drama', 'Adventure', 'Drama', 'Fantasy', 'Drama', 'Family', 'Comedy', 'Drama', 'Romance', 'Drama', 'Romance', 'Sci-Fi', 'Action', 'Adventure', 'Thriller', 'Comedy', 'Romance', 'Crime', 'Drama', 'Horror', 'Comedy', 'Fantasy', 'Action', 'Comedy', 'Crime', 'Adventure', 'Drama', 'Romance', 'Action', 'Crime', 'Drama', 'Crime', 'Horror', 'Thriller', 'Romance', 'Sci-Fi', 'Thriller', 'Comedy', 'Drama', 'Romance', 'Crime', 'Drama', 'Crime', 'Drama', 'Mystery', 'Action', 'Adventure', 'Sci-Fi', 'Animation', 'Fantasy', 'Animation', 'Adventure', 'Comedy', 'Drama', 'Mystery', 'War', 'Comedy', 'Romance', 'Animation', 'Comedy', 'Family', 'Comedy', 'Horror', 'Mystery', 'Thriller', 'Action', 'Adventure', 'Drama', 'Comedy', 'Drama', 'Adventure', 'Biography', 'Drama', 'Comedy', 'Horror', 'Thriller', 'Action', 'Drama', 'Family', 'Comedy', 'Fantasy', 'Horror', 'Comedy', 'Romance', 'Drama', 'Mystery', 'Romance', 'Action', 'Adventure', 'Comedy', 'Thriller', 'Comedy', 'Adventure', 'Comedy', 'Sci-Fi', 'Comedy', 'Drama', 'Fantasy', 'Mystery', 'Thriller', 'Comedy', 'Drama', 'Adventure', 'Drama', 'Family', 'Horror', 'Thriller', 'Action', 'Drama', 'Romance', 'Drama', 'Romance', 'Action', 'Adventure', 'Fantasy', 'Comedy', 'Action', 'Biography', 'Drama', 'Drama', 'Mystery', 'Romance', 'Adventure', 'Drama', 'Western', 'Drama', 'Music', 'Romance', 'Comedy', 'Romance', 'Western', 'Thriller', 'Comedy', 'Drama', 'Romance', 'Horror', 'Thriller', 'Adventure', 'Family', 'Fantasy', 'Crime', 'Drama', 'Mystery', 'Horror', 'Mystery', 'Comedy', 'Crime', 'Drama', 'Action', 'Comedy', 'Romance', 'Biography', 'Drama', 'History', 'Adventure', 'Drama', 'Drama', 'Thriller', 'Drama', 'Action', 'Adventure', 'Fantasy', 'Action', 'Biography', 'Drama', 'Drama', 'Music', 'Comedy', 'Drama', 'Drama', 'Thriller', 'War', 'Action', 'Mystery', 'Thriller', 'Horror', 'Sci-Fi', 'Thriller', 'Comedy', 'Drama', 'Romance', 'Action', 'Sci-Fi', 'Action', 'Adventure', 'Fantasy', 'Drama', 'Mystery', 'Romance', 'Drama', 'Action', 'Adventure', 'Thriller', 'Action', 'Crime', 'Thriller', 'Animation', 'Action', 'Adventure', 'Drama', 'Fantasy', 'Mystery', 'Drama', 'Sci-Fi', 'Animation', 'Adventure', 'Comedy', 'Horror', 'Thriller', 'Action', 'Thriller', 'Comedy', 'Biography', 'Drama', 'Action', 'Mystery', 'Thriller', 'Action', 'Mystery', 'Sci-Fi', 'Crime', 'Drama', 'Thriller', 'Comedy', 'Romance', 'Comedy', 'Drama', 'Romance', 'Biography', 'Drama', 'Thriller', 'Drama', 'Action', 'Adventure', 'Family', 'Animation', 'Comedy', 'Family', 'Action', 'Crime', 'Drama', 'Comedy', 'Comedy', 'Crime', 'Thriller', 'Comedy', 'Romance', 'Animation', 'Comedy', 'Drama', 'Action', 'Crime', 'Thriller', 'Comedy', 'Romance', 'Adventure', 'Biography', 'Drama', 'Animation', 'Adventure', 'Comedy', 'Crime', 'Drama', 'Mystery', 'Action', 'Comedy', 'Sci-Fi', 'Comedy', 'Fantasy', 'Horror', 'Comedy', 'Crime', 'Animation', 'Action', 'Adventure', 'Action', 'Drama', 'Thriller', 'Fantasy', 'Horror', 'Crime', 'Drama', 'Thriller', 'Action', 'Adventure', 'Fantasy', 'Comedy', 'Drama', 'Romance', 'Biography', 'Drama', 'Romance', 'Action', 'Drama', 'History', 'Action', 'Adventure', 'Comedy', 'Horror', 'Thriller', 'Horror', 'Mystery', 'Thriller', 'Comedy', 'Romance', 'Animation', 'Adventure', 'Comedy', 'Crime', 'Drama', 'Mystery', 'Crime', 'Drama', 'Mystery', 'Adventure', 'Biography', 'Drama', 'Horror', 'Mystery', 'Thriller', 'Horror', 'Thriller', 'Drama', 'Romance', 'War', 'Adventure', 'Fantasy', 'Mystery', 'Action', 'Adventure', 'Sci-Fi', 'Biography', 'Drama', 'Drama', 'Thriller', 'Horror', 'Thriller', 'Drama', 'Horror', 'Thriller', 'Action', 'Adventure', 'Fantasy', 'Action', 'Horror', 'Thriller', 'Comedy', 'Drama', 'Sport', 'Comedy', 'Family', 'Drama', 'Romance', 'Action', 'Adventure', 'Comedy', 'Comedy', 'Mystery', 'Romance', 'Thriller', 'Crime', 'Drama', 'Action', 'Comedy', 'Crime', 'Drama', 'Mystery', 'Biography', 'Drama', 'Romance', 'Comedy', 'Crime', 'Drama', 'Thriller', 'Drama', 'Animation', 'Adventure', 'Comedy', 'Action', 'Thriller', 'Drama', 'Thriller', 'Animation', 'Adventure', 'Comedy', 'Crime', 'Drama', 'Mystery', 'Thriller', 'Biography', 'Drama', 'Sport', 'Crime', 'Drama', 'Thriller', 'Drama', 'Music', 'Crime', 'Drama', 'Thriller', 'Drama', 'Romance', 'Animation', 'Action', 'Adventure', 'Comedy', 'Drama', 'Action', 'Adventure', 'Drama', 'Biography', 'Crime', 'Drama', 'Horror', 'Biography', 'Drama', 'Mystery', 'Drama', 'Romance', 'Animation', 'Drama', 'Romance', 'Comedy', 'Family', 'Drama', 'Mystery', 'Thriller', 'Drama', 'Fantasy', 'Horror', 'Drama', 'Romance', 'Biography', 'Drama', 'History', 'Comedy', 'Family', 'Action', 'Adventure', 'Thriller', 'Comedy', 'Drama', 'Action', 'Adventure', 'Fantasy', 'Action', 'Thriller', 'Drama', 'Romance', 'Comedy', 'Drama', 'Romance', 'Drama', 'Horror', 'Sci-Fi', 'Comedy', 'Horror', 'Romance', 'Drama', 'Action', 'Adventure', 'Sci-Fi', 'Action', 'Adventure', 'Fantasy', 'Action', 'Adventure', 'Drama', 'Biography', 'Comedy', 'Drama', 'Drama', 'Mystery', 'Romance', 'Animation', 'Adventure', 'Comedy', 'Drama', 'Romance', 'Sci-Fi', 'Drama', 'Drama', 'Fantasy', 'Drama', 'Romance', 'Comedy', 'Horror', 'Thriller', 'Comedy', 'Drama', 'Romance', 'Crime', 'Drama', 'Comedy', 'Romance', 'Action', 'Drama', 'Family', 'Comedy', 'Drama', 'Romance', 'Action', 'Thriller', 'War', 'Action', 'Comedy', 'Horror', 'Biography', 'Drama', 'Sport', 'Adventure', 'Comedy', 'Drama', 'Comedy', 'Romance', 'Comedy', 'Romance', 'Comedy', 'Drama', 'Romance', 'Action', 'Adventure', 'Crime', 'Comedy', 'Romance', 'Animation', 'Action', 'Adventure', 'Action', 'Crime', 'Sci-Fi', 'Drama', 'Comedy', 'Drama', 'Romance', 'Crime', 'Thriller', 'Comedy', 'Horror', 'Sci-Fi', 'Drama', 'Thriller', 'Drama', 'Fantasy', 'Horror', 'Thriller', 'Adventure', 'Drama', 'Family', 'Mystery', 'Sci-Fi', 'Thriller', 'Biography', 'Crime', 'Drama', 'Drama', 'Fantasy', 'Horror', 'Action', 'Adventure', 'Thriller', 'Crime', 'Drama', 'Horror', 'Crime', 'Drama', 'Fantasy', 'Adventure', 'Family', 'Fantasy', 'Action', 'Adventure', 'Drama', 'Action', 'Comedy', 'Horror', 'Comedy', 'Drama', 'Family', 'Action', 'Thriller', 'Action', 'Adventure', 'Sci-Fi', 'Adventure', 'Drama', 'Fantasy', 'Drama', 'Drama', 'Comedy', 'Drama', 'Comedy', 'Drama', 'Music', 'Drama', 'Fantasy', 'Music', 'Drama', 'Thriller', 'Comedy', 'Horror', 'Action', 'Comedy', 'Sport', 'Horror', 'Comedy', 'Drama', 'Action', 'Drama', 'Thriller', 'Drama', 'Romance', 'Horror', 'Mystery', 'Adventure', 'Drama', 'Fantasy', 'Thriller', 'Comedy', 'Romance', 'Action', 'Sci-Fi', 'Thriller', 'Fantasy', 'Mystery', 'Thriller', 'Biography', 'Drama', 'Crime', 'Drama', 'Action', 'Adventure', 'Sci-Fi', 'Adventure', 'Comedy', 'Drama', 'Comedy', 'Drama', 'Comedy', 'Drama', 'Romance', 'Adventure', 'Comedy', 'Drama', 'Action', 'Sci-Fi', 'Thriller', 'Comedy', 'Romance', 'Action', 'Fantasy', 'Horror', 'Crime', 'Drama', 'Thriller', 'Action', 'Drama', 'Thriller', 'Crime', 'Drama', 'Mystery', 'Crime', 'Drama', 'Mystery', 'Drama', 'Sci-Fi', 'Thriller', 'Biography', 'Drama', 'History', 'Crime', 'Horror', 'Thriller', 'Drama', 'Drama', 'Mystery', 'Thriller', 'Adventure', 'Biography', 'Adventure', 'Biography', 'Crime', 'Action', 'Horror', 'Thriller', 'Action', 'Adventure', 'Western', 'Horror', 'Thriller', 'Drama', 'Mystery', 'Thriller', 'Comedy', 'Drama', 'Musical', 'Horror', 'Mystery', 'Biography', 'Drama', 'Sport', 'Comedy', 'Family', 'Romance', 'Drama', 'Mystery', 'Thriller', 'Comedy', 'Drama', 'Drama', 'Thriller', 'Biography', 'Drama', 'Family', 'Comedy', 'Drama', 'Family', 'Drama', 'Fantasy', 'Musical', 'Comedy', 'Adventure', 'Family', 'Adventure', 'Comedy', 'Fantasy', 'Horror', 'Thriller', 'Drama', 'Romance', 'Horror', 'Biography', 'Drama', 'History', 'Action', 'Adventure', 'Fantasy', 'Drama', 'Family', 'Music', 'Comedy', 'Drama', 'Romance', 'Action', 'Adventure', 'Horror', 'Comedy', 'Crime', 'Drama', 'Mystery', 'Horror', 'Drama', 'Music', 'Romance', 'Adventure', 'Comedy', 'Comedy', 'Family', 'Fantasy']\n"
     ]
    }
   ],
   "source": [
    "print(one_dia)"
   ]
  },
  {
   "cell_type": "code",
   "execution_count": 159,
   "id": "62637348",
   "metadata": {
    "ExecuteTime": {
     "end_time": "2023-04-23T19:49:01.789569Z",
     "start_time": "2023-04-23T19:49:01.781415Z"
    }
   },
   "outputs": [
    {
     "name": "stdout",
     "output_type": "stream",
     "text": [
      "['Action', 'Adventure', 'Sci-Fi', 'Mystery', 'Horror', 'Thriller', 'Animation', 'Comedy', 'Family', 'Fantasy', 'Drama', 'Music', 'Biography', 'Romance', 'History', 'Crime', 'Western', 'War', 'Musical', 'Sport']\n"
     ]
    }
   ],
   "source": [
    "# Create a list of unique elements from one_dia\n",
    "unique_list = []\n",
    "\n",
    "for item in one_dia:\n",
    "    if item not in unique_list:\n",
    "        unique_list.append(item)\n",
    "print(uni_list)"
   ]
  },
  {
   "cell_type": "markdown",
   "id": "9f80bb98",
   "metadata": {
    "ExecuteTime": {
     "end_time": "2023-04-23T19:32:36.616888Z",
     "start_time": "2023-04-23T19:32:36.612204Z"
    }
   },
   "source": [
    "### How Many Films of Each Genre Were Made?"
   ]
  },
  {
   "cell_type": "code",
   "execution_count": 161,
   "id": "867d2352",
   "metadata": {
    "ExecuteTime": {
     "end_time": "2023-04-23T19:49:43.200830Z",
     "start_time": "2023-04-23T19:49:43.179863Z"
    }
   },
   "outputs": [
    {
     "data": {
      "text/plain": [
       "[Action, Adventure, Sci-Fi]    50\n",
       "[Drama]                        48\n",
       "[Comedy, Drama, Romance]       35\n",
       "[Comedy]                       32\n",
       "[Drama, Romance]               31\n",
       "                               ..\n",
       "[Action, Comedy, Family]        1\n",
       "[Action, Crime, Fantasy]        1\n",
       "[Comedy, Mystery]               1\n",
       "[Adventure, Comedy, Horror]     1\n",
       "[Comedy, Family, Fantasy]       1\n",
       "Name: Genre1, Length: 207, dtype: int64"
      ]
     },
     "execution_count": 161,
     "metadata": {},
     "output_type": "execute_result"
    }
   ],
   "source": [
    "movies[\"Genre1\"].value_counts()"
   ]
  },
  {
   "cell_type": "code",
   "execution_count": 165,
   "id": "d749012b",
   "metadata": {
    "ExecuteTime": {
     "end_time": "2023-04-23T19:52:00.410674Z",
     "start_time": "2023-04-23T19:52:00.406289Z"
    }
   },
   "outputs": [],
   "source": [
    "from collections import Counter"
   ]
  },
  {
   "cell_type": "code",
   "execution_count": 167,
   "id": "b5723bab",
   "metadata": {
    "ExecuteTime": {
     "end_time": "2023-04-23T19:52:28.536051Z",
     "start_time": "2023-04-23T19:52:28.526624Z"
    }
   },
   "outputs": [
    {
     "data": {
      "text/plain": [
       "Counter({'Action': 303,\n",
       "         'Adventure': 259,\n",
       "         'Sci-Fi': 120,\n",
       "         'Mystery': 106,\n",
       "         'Horror': 119,\n",
       "         'Thriller': 195,\n",
       "         'Animation': 49,\n",
       "         'Comedy': 279,\n",
       "         'Family': 51,\n",
       "         'Fantasy': 101,\n",
       "         'Drama': 513,\n",
       "         'Music': 16,\n",
       "         'Biography': 81,\n",
       "         'Romance': 141,\n",
       "         'History': 29,\n",
       "         'Crime': 150,\n",
       "         'Western': 7,\n",
       "         'War': 13,\n",
       "         'Musical': 5,\n",
       "         'Sport': 18})"
      ]
     },
     "execution_count": 167,
     "metadata": {},
     "output_type": "execute_result"
    }
   ],
   "source": [
    "Counter(one_dia)"
   ]
  },
  {
   "cell_type": "code",
   "execution_count": null,
   "id": "7ef2d90a",
   "metadata": {},
   "outputs": [],
   "source": []
  }
 ],
 "metadata": {
  "hide_input": false,
  "kernelspec": {
   "display_name": "Python 3 (ipykernel)",
   "language": "python",
   "name": "python3"
  },
  "language_info": {
   "codemirror_mode": {
    "name": "ipython",
    "version": 3
   },
   "file_extension": ".py",
   "mimetype": "text/x-python",
   "name": "python",
   "nbconvert_exporter": "python",
   "pygments_lexer": "ipython3",
   "version": "3.11.1"
  },
  "toc": {
   "base_numbering": 1,
   "nav_menu": {},
   "number_sections": true,
   "sideBar": true,
   "skip_h1_title": false,
   "title_cell": "Table of Contents",
   "title_sidebar": "Contents",
   "toc_cell": false,
   "toc_position": {},
   "toc_section_display": true,
   "toc_window_display": false
  },
  "varInspector": {
   "cols": {
    "lenName": 16,
    "lenType": 16,
    "lenVar": 40
   },
   "kernels_config": {
    "python": {
     "delete_cmd_postfix": "",
     "delete_cmd_prefix": "del ",
     "library": "var_list.py",
     "varRefreshCmd": "print(var_dic_list())"
    },
    "r": {
     "delete_cmd_postfix": ") ",
     "delete_cmd_prefix": "rm(",
     "library": "var_list.r",
     "varRefreshCmd": "cat(var_dic_list()) "
    }
   },
   "types_to_exclude": [
    "module",
    "function",
    "builtin_function_or_method",
    "instance",
    "_Feature"
   ],
   "window_display": false
  }
 },
 "nbformat": 4,
 "nbformat_minor": 5
}
