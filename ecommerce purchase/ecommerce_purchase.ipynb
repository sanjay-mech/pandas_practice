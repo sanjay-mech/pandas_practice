{
  "nbformat": 4,
  "nbformat_minor": 0,
  "metadata": {
    "colab": {
      "provenance": []
    },
    "kernelspec": {
      "name": "python3",
      "display_name": "Python 3"
    },
    "language_info": {
      "name": "python"
    }
  },
  "cells": [
    {
      "cell_type": "code",
      "execution_count": 1,
      "metadata": {
        "id": "AzQgtE0m7czE"
      },
      "outputs": [],
      "source": [
        "import pandas as pd\n",
        "df = pd.read_csv(\"/content/Ecommerce Purchases\")"
      ]
    },
    {
      "cell_type": "code",
      "source": [
        "df.head()"
      ],
      "metadata": {
        "colab": {
          "base_uri": "https://localhost:8080/",
          "height": 511
        },
        "id": "ItoJjwIh8KRe",
        "outputId": "52a15eb5-33e3-44cb-d40b-db64129766ae"
      },
      "execution_count": 2,
      "outputs": [
        {
          "output_type": "execute_result",
          "data": {
            "text/plain": [
              "                                             Address    Lot AM or PM  \\\n",
              "0  16629 Pace Camp Apt. 448\\nAlexisborough, NE 77...  46 in       PM   \n",
              "1  9374 Jasmine Spurs Suite 508\\nSouth John, TN 8...  28 rn       PM   \n",
              "2                   Unit 0065 Box 5052\\nDPO AP 27450  94 vE       PM   \n",
              "3              7780 Julia Fords\\nNew Stacy, WA 45798  36 vm       PM   \n",
              "4  23012 Munoz Drive Suite 337\\nNew Cynthia, TX 5...  20 IE       AM   \n",
              "\n",
              "                                        Browser Info  \\\n",
              "0  Opera/9.56.(X11; Linux x86_64; sl-SI) Presto/2...   \n",
              "1  Opera/8.93.(Windows 98; Win 9x 4.90; en-US) Pr...   \n",
              "2  Mozilla/5.0 (compatible; MSIE 9.0; Windows NT ...   \n",
              "3  Mozilla/5.0 (Macintosh; Intel Mac OS X 10_8_0 ...   \n",
              "4  Opera/9.58.(X11; Linux x86_64; it-IT) Presto/2...   \n",
              "\n",
              "                           Company       Credit Card CC Exp Date  \\\n",
              "0                  Martinez-Herman  6011929061123406       02/20   \n",
              "1  Fletcher, Richards and Whitaker  3337758169645356       11/18   \n",
              "2       Simpson, Williams and Pham      675957666125       08/19   \n",
              "3  Williams, Marshall and Buchanan  6011578504430710       02/24   \n",
              "4        Brown, Watson and Andrews  6011456623207998       10/25   \n",
              "\n",
              "   CC Security Code                  CC Provider  \\\n",
              "0               900                 JCB 16 digit   \n",
              "1               561                   Mastercard   \n",
              "2               699                 JCB 16 digit   \n",
              "3               384                     Discover   \n",
              "4               678  Diners Club / Carte Blanche   \n",
              "\n",
              "                            Email                                     Job  \\\n",
              "0               pdunlap@yahoo.com  Scientist, product/process development   \n",
              "1              anthony41@reed.com                       Drilling engineer   \n",
              "2  amymiller@morales-harrison.com                Customer service manager   \n",
              "3     brent16@olson-robinson.info                       Drilling engineer   \n",
              "4     christopherwright@gmail.com                             Fine artist   \n",
              "\n",
              "        IP Address Language  Purchase Price  \n",
              "0  149.146.147.205       el           98.14  \n",
              "1     15.160.41.51       fr           70.73  \n",
              "2   132.207.160.22       de            0.95  \n",
              "3     30.250.74.19       es           78.04  \n",
              "4     24.140.33.94       es           77.82  "
            ],
            "text/html": [
              "\n",
              "  <div id=\"df-8dbb3428-63cc-4802-982c-f17bd20843c9\">\n",
              "    <div class=\"colab-df-container\">\n",
              "      <div>\n",
              "<style scoped>\n",
              "    .dataframe tbody tr th:only-of-type {\n",
              "        vertical-align: middle;\n",
              "    }\n",
              "\n",
              "    .dataframe tbody tr th {\n",
              "        vertical-align: top;\n",
              "    }\n",
              "\n",
              "    .dataframe thead th {\n",
              "        text-align: right;\n",
              "    }\n",
              "</style>\n",
              "<table border=\"1\" class=\"dataframe\">\n",
              "  <thead>\n",
              "    <tr style=\"text-align: right;\">\n",
              "      <th></th>\n",
              "      <th>Address</th>\n",
              "      <th>Lot</th>\n",
              "      <th>AM or PM</th>\n",
              "      <th>Browser Info</th>\n",
              "      <th>Company</th>\n",
              "      <th>Credit Card</th>\n",
              "      <th>CC Exp Date</th>\n",
              "      <th>CC Security Code</th>\n",
              "      <th>CC Provider</th>\n",
              "      <th>Email</th>\n",
              "      <th>Job</th>\n",
              "      <th>IP Address</th>\n",
              "      <th>Language</th>\n",
              "      <th>Purchase Price</th>\n",
              "    </tr>\n",
              "  </thead>\n",
              "  <tbody>\n",
              "    <tr>\n",
              "      <th>0</th>\n",
              "      <td>16629 Pace Camp Apt. 448\\nAlexisborough, NE 77...</td>\n",
              "      <td>46 in</td>\n",
              "      <td>PM</td>\n",
              "      <td>Opera/9.56.(X11; Linux x86_64; sl-SI) Presto/2...</td>\n",
              "      <td>Martinez-Herman</td>\n",
              "      <td>6011929061123406</td>\n",
              "      <td>02/20</td>\n",
              "      <td>900</td>\n",
              "      <td>JCB 16 digit</td>\n",
              "      <td>pdunlap@yahoo.com</td>\n",
              "      <td>Scientist, product/process development</td>\n",
              "      <td>149.146.147.205</td>\n",
              "      <td>el</td>\n",
              "      <td>98.14</td>\n",
              "    </tr>\n",
              "    <tr>\n",
              "      <th>1</th>\n",
              "      <td>9374 Jasmine Spurs Suite 508\\nSouth John, TN 8...</td>\n",
              "      <td>28 rn</td>\n",
              "      <td>PM</td>\n",
              "      <td>Opera/8.93.(Windows 98; Win 9x 4.90; en-US) Pr...</td>\n",
              "      <td>Fletcher, Richards and Whitaker</td>\n",
              "      <td>3337758169645356</td>\n",
              "      <td>11/18</td>\n",
              "      <td>561</td>\n",
              "      <td>Mastercard</td>\n",
              "      <td>anthony41@reed.com</td>\n",
              "      <td>Drilling engineer</td>\n",
              "      <td>15.160.41.51</td>\n",
              "      <td>fr</td>\n",
              "      <td>70.73</td>\n",
              "    </tr>\n",
              "    <tr>\n",
              "      <th>2</th>\n",
              "      <td>Unit 0065 Box 5052\\nDPO AP 27450</td>\n",
              "      <td>94 vE</td>\n",
              "      <td>PM</td>\n",
              "      <td>Mozilla/5.0 (compatible; MSIE 9.0; Windows NT ...</td>\n",
              "      <td>Simpson, Williams and Pham</td>\n",
              "      <td>675957666125</td>\n",
              "      <td>08/19</td>\n",
              "      <td>699</td>\n",
              "      <td>JCB 16 digit</td>\n",
              "      <td>amymiller@morales-harrison.com</td>\n",
              "      <td>Customer service manager</td>\n",
              "      <td>132.207.160.22</td>\n",
              "      <td>de</td>\n",
              "      <td>0.95</td>\n",
              "    </tr>\n",
              "    <tr>\n",
              "      <th>3</th>\n",
              "      <td>7780 Julia Fords\\nNew Stacy, WA 45798</td>\n",
              "      <td>36 vm</td>\n",
              "      <td>PM</td>\n",
              "      <td>Mozilla/5.0 (Macintosh; Intel Mac OS X 10_8_0 ...</td>\n",
              "      <td>Williams, Marshall and Buchanan</td>\n",
              "      <td>6011578504430710</td>\n",
              "      <td>02/24</td>\n",
              "      <td>384</td>\n",
              "      <td>Discover</td>\n",
              "      <td>brent16@olson-robinson.info</td>\n",
              "      <td>Drilling engineer</td>\n",
              "      <td>30.250.74.19</td>\n",
              "      <td>es</td>\n",
              "      <td>78.04</td>\n",
              "    </tr>\n",
              "    <tr>\n",
              "      <th>4</th>\n",
              "      <td>23012 Munoz Drive Suite 337\\nNew Cynthia, TX 5...</td>\n",
              "      <td>20 IE</td>\n",
              "      <td>AM</td>\n",
              "      <td>Opera/9.58.(X11; Linux x86_64; it-IT) Presto/2...</td>\n",
              "      <td>Brown, Watson and Andrews</td>\n",
              "      <td>6011456623207998</td>\n",
              "      <td>10/25</td>\n",
              "      <td>678</td>\n",
              "      <td>Diners Club / Carte Blanche</td>\n",
              "      <td>christopherwright@gmail.com</td>\n",
              "      <td>Fine artist</td>\n",
              "      <td>24.140.33.94</td>\n",
              "      <td>es</td>\n",
              "      <td>77.82</td>\n",
              "    </tr>\n",
              "  </tbody>\n",
              "</table>\n",
              "</div>\n",
              "      <button class=\"colab-df-convert\" onclick=\"convertToInteractive('df-8dbb3428-63cc-4802-982c-f17bd20843c9')\"\n",
              "              title=\"Convert this dataframe to an interactive table.\"\n",
              "              style=\"display:none;\">\n",
              "        \n",
              "  <svg xmlns=\"http://www.w3.org/2000/svg\" height=\"24px\"viewBox=\"0 0 24 24\"\n",
              "       width=\"24px\">\n",
              "    <path d=\"M0 0h24v24H0V0z\" fill=\"none\"/>\n",
              "    <path d=\"M18.56 5.44l.94 2.06.94-2.06 2.06-.94-2.06-.94-.94-2.06-.94 2.06-2.06.94zm-11 1L8.5 8.5l.94-2.06 2.06-.94-2.06-.94L8.5 2.5l-.94 2.06-2.06.94zm10 10l.94 2.06.94-2.06 2.06-.94-2.06-.94-.94-2.06-.94 2.06-2.06.94z\"/><path d=\"M17.41 7.96l-1.37-1.37c-.4-.4-.92-.59-1.43-.59-.52 0-1.04.2-1.43.59L10.3 9.45l-7.72 7.72c-.78.78-.78 2.05 0 2.83L4 21.41c.39.39.9.59 1.41.59.51 0 1.02-.2 1.41-.59l7.78-7.78 2.81-2.81c.8-.78.8-2.07 0-2.86zM5.41 20L4 18.59l7.72-7.72 1.47 1.35L5.41 20z\"/>\n",
              "  </svg>\n",
              "      </button>\n",
              "      \n",
              "  <style>\n",
              "    .colab-df-container {\n",
              "      display:flex;\n",
              "      flex-wrap:wrap;\n",
              "      gap: 12px;\n",
              "    }\n",
              "\n",
              "    .colab-df-convert {\n",
              "      background-color: #E8F0FE;\n",
              "      border: none;\n",
              "      border-radius: 50%;\n",
              "      cursor: pointer;\n",
              "      display: none;\n",
              "      fill: #1967D2;\n",
              "      height: 32px;\n",
              "      padding: 0 0 0 0;\n",
              "      width: 32px;\n",
              "    }\n",
              "\n",
              "    .colab-df-convert:hover {\n",
              "      background-color: #E2EBFA;\n",
              "      box-shadow: 0px 1px 2px rgba(60, 64, 67, 0.3), 0px 1px 3px 1px rgba(60, 64, 67, 0.15);\n",
              "      fill: #174EA6;\n",
              "    }\n",
              "\n",
              "    [theme=dark] .colab-df-convert {\n",
              "      background-color: #3B4455;\n",
              "      fill: #D2E3FC;\n",
              "    }\n",
              "\n",
              "    [theme=dark] .colab-df-convert:hover {\n",
              "      background-color: #434B5C;\n",
              "      box-shadow: 0px 1px 3px 1px rgba(0, 0, 0, 0.15);\n",
              "      filter: drop-shadow(0px 1px 2px rgba(0, 0, 0, 0.3));\n",
              "      fill: #FFFFFF;\n",
              "    }\n",
              "  </style>\n",
              "\n",
              "      <script>\n",
              "        const buttonEl =\n",
              "          document.querySelector('#df-8dbb3428-63cc-4802-982c-f17bd20843c9 button.colab-df-convert');\n",
              "        buttonEl.style.display =\n",
              "          google.colab.kernel.accessAllowed ? 'block' : 'none';\n",
              "\n",
              "        async function convertToInteractive(key) {\n",
              "          const element = document.querySelector('#df-8dbb3428-63cc-4802-982c-f17bd20843c9');\n",
              "          const dataTable =\n",
              "            await google.colab.kernel.invokeFunction('convertToInteractive',\n",
              "                                                     [key], {});\n",
              "          if (!dataTable) return;\n",
              "\n",
              "          const docLinkHtml = 'Like what you see? Visit the ' +\n",
              "            '<a target=\"_blank\" href=https://colab.research.google.com/notebooks/data_table.ipynb>data table notebook</a>'\n",
              "            + ' to learn more about interactive tables.';\n",
              "          element.innerHTML = '';\n",
              "          dataTable['output_type'] = 'display_data';\n",
              "          await google.colab.output.renderOutput(dataTable, element);\n",
              "          const docLink = document.createElement('div');\n",
              "          docLink.innerHTML = docLinkHtml;\n",
              "          element.appendChild(docLink);\n",
              "        }\n",
              "      </script>\n",
              "    </div>\n",
              "  </div>\n",
              "  "
            ]
          },
          "metadata": {},
          "execution_count": 2
        }
      ]
    },
    {
      "cell_type": "code",
      "source": [
        "df.columns"
      ],
      "metadata": {
        "colab": {
          "base_uri": "https://localhost:8080/"
        },
        "id": "nTWxNdBW8Nsa",
        "outputId": "89ce1865-e715-42e7-f550-6c53df8c039e"
      },
      "execution_count": 3,
      "outputs": [
        {
          "output_type": "execute_result",
          "data": {
            "text/plain": [
              "Index(['Address', 'Lot', 'AM or PM', 'Browser Info', 'Company', 'Credit Card',\n",
              "       'CC Exp Date', 'CC Security Code', 'CC Provider', 'Email', 'Job',\n",
              "       'IP Address', 'Language', 'Purchase Price'],\n",
              "      dtype='object')"
            ]
          },
          "metadata": {},
          "execution_count": 3
        }
      ]
    },
    {
      "cell_type": "markdown",
      "source": [
        "1 . Display the First 10 rows of the Dataset"
      ],
      "metadata": {
        "id": "5RI0Hp_183zk"
      }
    },
    {
      "cell_type": "code",
      "source": [
        "df.head(10)"
      ],
      "metadata": {
        "colab": {
          "base_uri": "https://localhost:8080/",
          "height": 858
        },
        "id": "xoO4stvb8TS2",
        "outputId": "133bc20f-3deb-4854-e038-82d47bbff2f2"
      },
      "execution_count": 4,
      "outputs": [
        {
          "output_type": "execute_result",
          "data": {
            "text/plain": [
              "                                             Address    Lot AM or PM  \\\n",
              "0  16629 Pace Camp Apt. 448\\nAlexisborough, NE 77...  46 in       PM   \n",
              "1  9374 Jasmine Spurs Suite 508\\nSouth John, TN 8...  28 rn       PM   \n",
              "2                   Unit 0065 Box 5052\\nDPO AP 27450  94 vE       PM   \n",
              "3              7780 Julia Fords\\nNew Stacy, WA 45798  36 vm       PM   \n",
              "4  23012 Munoz Drive Suite 337\\nNew Cynthia, TX 5...  20 IE       AM   \n",
              "5  7502 Powell Mission Apt. 768\\nTravisland, VA 3...  21 XT       PM   \n",
              "6     93971 Conway Causeway\\nAndersonburgh, AZ 75107  96 Xt       AM   \n",
              "7  260 Rachel Plains Suite 366\\nCastroberg, WV 24...  96 pG       PM   \n",
              "8            2129 Dylan Burg\\nNew Michelle, ME 28650  45 JN       PM   \n",
              "9    3795 Dawson Extensions\\nLake Tinafort, ID 88739  15 Ug       AM   \n",
              "\n",
              "                                        Browser Info  \\\n",
              "0  Opera/9.56.(X11; Linux x86_64; sl-SI) Presto/2...   \n",
              "1  Opera/8.93.(Windows 98; Win 9x 4.90; en-US) Pr...   \n",
              "2  Mozilla/5.0 (compatible; MSIE 9.0; Windows NT ...   \n",
              "3  Mozilla/5.0 (Macintosh; Intel Mac OS X 10_8_0 ...   \n",
              "4  Opera/9.58.(X11; Linux x86_64; it-IT) Presto/2...   \n",
              "5  Mozilla/5.0 (Macintosh; U; PPC Mac OS X 10_8_5...   \n",
              "6  Mozilla/5.0 (compatible; MSIE 7.0; Windows NT ...   \n",
              "7  Mozilla/5.0 (X11; Linux i686) AppleWebKit/5350...   \n",
              "8  Mozilla/5.0 (Macintosh; U; Intel Mac OS X 10_7...   \n",
              "9  Mozilla/5.0 (X11; Linux i686; rv:1.9.7.20) Gec...   \n",
              "\n",
              "                           Company       Credit Card CC Exp Date  \\\n",
              "0                  Martinez-Herman  6011929061123406       02/20   \n",
              "1  Fletcher, Richards and Whitaker  3337758169645356       11/18   \n",
              "2       Simpson, Williams and Pham      675957666125       08/19   \n",
              "3  Williams, Marshall and Buchanan  6011578504430710       02/24   \n",
              "4        Brown, Watson and Andrews  6011456623207998       10/25   \n",
              "5                   Silva-Anderson    30246185196287       07/25   \n",
              "6                  Gibson and Sons  6011398782655569       07/24   \n",
              "7                 Marshall-Collins      561252141909       06/25   \n",
              "8                Galloway and Sons   180041795790001       04/24   \n",
              "9     Rivera, Buchanan and Ramirez     4396283918371       01/17   \n",
              "\n",
              "   CC Security Code                  CC Provider  \\\n",
              "0               900                 JCB 16 digit   \n",
              "1               561                   Mastercard   \n",
              "2               699                 JCB 16 digit   \n",
              "3               384                     Discover   \n",
              "4               678  Diners Club / Carte Blanche   \n",
              "5              7169                     Discover   \n",
              "6               714                VISA 16 digit   \n",
              "7               256                VISA 13 digit   \n",
              "8               899                 JCB 16 digit   \n",
              "9               931             American Express   \n",
              "\n",
              "                            Email                                     Job  \\\n",
              "0               pdunlap@yahoo.com  Scientist, product/process development   \n",
              "1              anthony41@reed.com                       Drilling engineer   \n",
              "2  amymiller@morales-harrison.com                Customer service manager   \n",
              "3     brent16@olson-robinson.info                       Drilling engineer   \n",
              "4     christopherwright@gmail.com                             Fine artist   \n",
              "5               ynguyen@gmail.com                       Fish farm manager   \n",
              "6              olivia04@yahoo.com                                  Dancer   \n",
              "7            phillip48@parks.info                         Event organiser   \n",
              "8            kdavis@rasmussen.com                       Financial manager   \n",
              "9        qcoleman@hunt-huerta.com                      Forensic scientist   \n",
              "\n",
              "        IP Address Language  Purchase Price  \n",
              "0  149.146.147.205       el           98.14  \n",
              "1     15.160.41.51       fr           70.73  \n",
              "2   132.207.160.22       de            0.95  \n",
              "3     30.250.74.19       es           78.04  \n",
              "4     24.140.33.94       es           77.82  \n",
              "5    55.96.152.147       ru           25.15  \n",
              "6   127.252.144.18       de           88.56  \n",
              "7   224.247.97.150       pt           44.25  \n",
              "8  146.234.201.229       ru           59.54  \n",
              "9    236.198.199.8       zh           95.63  "
            ],
            "text/html": [
              "\n",
              "  <div id=\"df-59e8bfc6-9755-4b4d-97cf-ce221a51214e\">\n",
              "    <div class=\"colab-df-container\">\n",
              "      <div>\n",
              "<style scoped>\n",
              "    .dataframe tbody tr th:only-of-type {\n",
              "        vertical-align: middle;\n",
              "    }\n",
              "\n",
              "    .dataframe tbody tr th {\n",
              "        vertical-align: top;\n",
              "    }\n",
              "\n",
              "    .dataframe thead th {\n",
              "        text-align: right;\n",
              "    }\n",
              "</style>\n",
              "<table border=\"1\" class=\"dataframe\">\n",
              "  <thead>\n",
              "    <tr style=\"text-align: right;\">\n",
              "      <th></th>\n",
              "      <th>Address</th>\n",
              "      <th>Lot</th>\n",
              "      <th>AM or PM</th>\n",
              "      <th>Browser Info</th>\n",
              "      <th>Company</th>\n",
              "      <th>Credit Card</th>\n",
              "      <th>CC Exp Date</th>\n",
              "      <th>CC Security Code</th>\n",
              "      <th>CC Provider</th>\n",
              "      <th>Email</th>\n",
              "      <th>Job</th>\n",
              "      <th>IP Address</th>\n",
              "      <th>Language</th>\n",
              "      <th>Purchase Price</th>\n",
              "    </tr>\n",
              "  </thead>\n",
              "  <tbody>\n",
              "    <tr>\n",
              "      <th>0</th>\n",
              "      <td>16629 Pace Camp Apt. 448\\nAlexisborough, NE 77...</td>\n",
              "      <td>46 in</td>\n",
              "      <td>PM</td>\n",
              "      <td>Opera/9.56.(X11; Linux x86_64; sl-SI) Presto/2...</td>\n",
              "      <td>Martinez-Herman</td>\n",
              "      <td>6011929061123406</td>\n",
              "      <td>02/20</td>\n",
              "      <td>900</td>\n",
              "      <td>JCB 16 digit</td>\n",
              "      <td>pdunlap@yahoo.com</td>\n",
              "      <td>Scientist, product/process development</td>\n",
              "      <td>149.146.147.205</td>\n",
              "      <td>el</td>\n",
              "      <td>98.14</td>\n",
              "    </tr>\n",
              "    <tr>\n",
              "      <th>1</th>\n",
              "      <td>9374 Jasmine Spurs Suite 508\\nSouth John, TN 8...</td>\n",
              "      <td>28 rn</td>\n",
              "      <td>PM</td>\n",
              "      <td>Opera/8.93.(Windows 98; Win 9x 4.90; en-US) Pr...</td>\n",
              "      <td>Fletcher, Richards and Whitaker</td>\n",
              "      <td>3337758169645356</td>\n",
              "      <td>11/18</td>\n",
              "      <td>561</td>\n",
              "      <td>Mastercard</td>\n",
              "      <td>anthony41@reed.com</td>\n",
              "      <td>Drilling engineer</td>\n",
              "      <td>15.160.41.51</td>\n",
              "      <td>fr</td>\n",
              "      <td>70.73</td>\n",
              "    </tr>\n",
              "    <tr>\n",
              "      <th>2</th>\n",
              "      <td>Unit 0065 Box 5052\\nDPO AP 27450</td>\n",
              "      <td>94 vE</td>\n",
              "      <td>PM</td>\n",
              "      <td>Mozilla/5.0 (compatible; MSIE 9.0; Windows NT ...</td>\n",
              "      <td>Simpson, Williams and Pham</td>\n",
              "      <td>675957666125</td>\n",
              "      <td>08/19</td>\n",
              "      <td>699</td>\n",
              "      <td>JCB 16 digit</td>\n",
              "      <td>amymiller@morales-harrison.com</td>\n",
              "      <td>Customer service manager</td>\n",
              "      <td>132.207.160.22</td>\n",
              "      <td>de</td>\n",
              "      <td>0.95</td>\n",
              "    </tr>\n",
              "    <tr>\n",
              "      <th>3</th>\n",
              "      <td>7780 Julia Fords\\nNew Stacy, WA 45798</td>\n",
              "      <td>36 vm</td>\n",
              "      <td>PM</td>\n",
              "      <td>Mozilla/5.0 (Macintosh; Intel Mac OS X 10_8_0 ...</td>\n",
              "      <td>Williams, Marshall and Buchanan</td>\n",
              "      <td>6011578504430710</td>\n",
              "      <td>02/24</td>\n",
              "      <td>384</td>\n",
              "      <td>Discover</td>\n",
              "      <td>brent16@olson-robinson.info</td>\n",
              "      <td>Drilling engineer</td>\n",
              "      <td>30.250.74.19</td>\n",
              "      <td>es</td>\n",
              "      <td>78.04</td>\n",
              "    </tr>\n",
              "    <tr>\n",
              "      <th>4</th>\n",
              "      <td>23012 Munoz Drive Suite 337\\nNew Cynthia, TX 5...</td>\n",
              "      <td>20 IE</td>\n",
              "      <td>AM</td>\n",
              "      <td>Opera/9.58.(X11; Linux x86_64; it-IT) Presto/2...</td>\n",
              "      <td>Brown, Watson and Andrews</td>\n",
              "      <td>6011456623207998</td>\n",
              "      <td>10/25</td>\n",
              "      <td>678</td>\n",
              "      <td>Diners Club / Carte Blanche</td>\n",
              "      <td>christopherwright@gmail.com</td>\n",
              "      <td>Fine artist</td>\n",
              "      <td>24.140.33.94</td>\n",
              "      <td>es</td>\n",
              "      <td>77.82</td>\n",
              "    </tr>\n",
              "    <tr>\n",
              "      <th>5</th>\n",
              "      <td>7502 Powell Mission Apt. 768\\nTravisland, VA 3...</td>\n",
              "      <td>21 XT</td>\n",
              "      <td>PM</td>\n",
              "      <td>Mozilla/5.0 (Macintosh; U; PPC Mac OS X 10_8_5...</td>\n",
              "      <td>Silva-Anderson</td>\n",
              "      <td>30246185196287</td>\n",
              "      <td>07/25</td>\n",
              "      <td>7169</td>\n",
              "      <td>Discover</td>\n",
              "      <td>ynguyen@gmail.com</td>\n",
              "      <td>Fish farm manager</td>\n",
              "      <td>55.96.152.147</td>\n",
              "      <td>ru</td>\n",
              "      <td>25.15</td>\n",
              "    </tr>\n",
              "    <tr>\n",
              "      <th>6</th>\n",
              "      <td>93971 Conway Causeway\\nAndersonburgh, AZ 75107</td>\n",
              "      <td>96 Xt</td>\n",
              "      <td>AM</td>\n",
              "      <td>Mozilla/5.0 (compatible; MSIE 7.0; Windows NT ...</td>\n",
              "      <td>Gibson and Sons</td>\n",
              "      <td>6011398782655569</td>\n",
              "      <td>07/24</td>\n",
              "      <td>714</td>\n",
              "      <td>VISA 16 digit</td>\n",
              "      <td>olivia04@yahoo.com</td>\n",
              "      <td>Dancer</td>\n",
              "      <td>127.252.144.18</td>\n",
              "      <td>de</td>\n",
              "      <td>88.56</td>\n",
              "    </tr>\n",
              "    <tr>\n",
              "      <th>7</th>\n",
              "      <td>260 Rachel Plains Suite 366\\nCastroberg, WV 24...</td>\n",
              "      <td>96 pG</td>\n",
              "      <td>PM</td>\n",
              "      <td>Mozilla/5.0 (X11; Linux i686) AppleWebKit/5350...</td>\n",
              "      <td>Marshall-Collins</td>\n",
              "      <td>561252141909</td>\n",
              "      <td>06/25</td>\n",
              "      <td>256</td>\n",
              "      <td>VISA 13 digit</td>\n",
              "      <td>phillip48@parks.info</td>\n",
              "      <td>Event organiser</td>\n",
              "      <td>224.247.97.150</td>\n",
              "      <td>pt</td>\n",
              "      <td>44.25</td>\n",
              "    </tr>\n",
              "    <tr>\n",
              "      <th>8</th>\n",
              "      <td>2129 Dylan Burg\\nNew Michelle, ME 28650</td>\n",
              "      <td>45 JN</td>\n",
              "      <td>PM</td>\n",
              "      <td>Mozilla/5.0 (Macintosh; U; Intel Mac OS X 10_7...</td>\n",
              "      <td>Galloway and Sons</td>\n",
              "      <td>180041795790001</td>\n",
              "      <td>04/24</td>\n",
              "      <td>899</td>\n",
              "      <td>JCB 16 digit</td>\n",
              "      <td>kdavis@rasmussen.com</td>\n",
              "      <td>Financial manager</td>\n",
              "      <td>146.234.201.229</td>\n",
              "      <td>ru</td>\n",
              "      <td>59.54</td>\n",
              "    </tr>\n",
              "    <tr>\n",
              "      <th>9</th>\n",
              "      <td>3795 Dawson Extensions\\nLake Tinafort, ID 88739</td>\n",
              "      <td>15 Ug</td>\n",
              "      <td>AM</td>\n",
              "      <td>Mozilla/5.0 (X11; Linux i686; rv:1.9.7.20) Gec...</td>\n",
              "      <td>Rivera, Buchanan and Ramirez</td>\n",
              "      <td>4396283918371</td>\n",
              "      <td>01/17</td>\n",
              "      <td>931</td>\n",
              "      <td>American Express</td>\n",
              "      <td>qcoleman@hunt-huerta.com</td>\n",
              "      <td>Forensic scientist</td>\n",
              "      <td>236.198.199.8</td>\n",
              "      <td>zh</td>\n",
              "      <td>95.63</td>\n",
              "    </tr>\n",
              "  </tbody>\n",
              "</table>\n",
              "</div>\n",
              "      <button class=\"colab-df-convert\" onclick=\"convertToInteractive('df-59e8bfc6-9755-4b4d-97cf-ce221a51214e')\"\n",
              "              title=\"Convert this dataframe to an interactive table.\"\n",
              "              style=\"display:none;\">\n",
              "        \n",
              "  <svg xmlns=\"http://www.w3.org/2000/svg\" height=\"24px\"viewBox=\"0 0 24 24\"\n",
              "       width=\"24px\">\n",
              "    <path d=\"M0 0h24v24H0V0z\" fill=\"none\"/>\n",
              "    <path d=\"M18.56 5.44l.94 2.06.94-2.06 2.06-.94-2.06-.94-.94-2.06-.94 2.06-2.06.94zm-11 1L8.5 8.5l.94-2.06 2.06-.94-2.06-.94L8.5 2.5l-.94 2.06-2.06.94zm10 10l.94 2.06.94-2.06 2.06-.94-2.06-.94-.94-2.06-.94 2.06-2.06.94z\"/><path d=\"M17.41 7.96l-1.37-1.37c-.4-.4-.92-.59-1.43-.59-.52 0-1.04.2-1.43.59L10.3 9.45l-7.72 7.72c-.78.78-.78 2.05 0 2.83L4 21.41c.39.39.9.59 1.41.59.51 0 1.02-.2 1.41-.59l7.78-7.78 2.81-2.81c.8-.78.8-2.07 0-2.86zM5.41 20L4 18.59l7.72-7.72 1.47 1.35L5.41 20z\"/>\n",
              "  </svg>\n",
              "      </button>\n",
              "      \n",
              "  <style>\n",
              "    .colab-df-container {\n",
              "      display:flex;\n",
              "      flex-wrap:wrap;\n",
              "      gap: 12px;\n",
              "    }\n",
              "\n",
              "    .colab-df-convert {\n",
              "      background-color: #E8F0FE;\n",
              "      border: none;\n",
              "      border-radius: 50%;\n",
              "      cursor: pointer;\n",
              "      display: none;\n",
              "      fill: #1967D2;\n",
              "      height: 32px;\n",
              "      padding: 0 0 0 0;\n",
              "      width: 32px;\n",
              "    }\n",
              "\n",
              "    .colab-df-convert:hover {\n",
              "      background-color: #E2EBFA;\n",
              "      box-shadow: 0px 1px 2px rgba(60, 64, 67, 0.3), 0px 1px 3px 1px rgba(60, 64, 67, 0.15);\n",
              "      fill: #174EA6;\n",
              "    }\n",
              "\n",
              "    [theme=dark] .colab-df-convert {\n",
              "      background-color: #3B4455;\n",
              "      fill: #D2E3FC;\n",
              "    }\n",
              "\n",
              "    [theme=dark] .colab-df-convert:hover {\n",
              "      background-color: #434B5C;\n",
              "      box-shadow: 0px 1px 3px 1px rgba(0, 0, 0, 0.15);\n",
              "      filter: drop-shadow(0px 1px 2px rgba(0, 0, 0, 0.3));\n",
              "      fill: #FFFFFF;\n",
              "    }\n",
              "  </style>\n",
              "\n",
              "      <script>\n",
              "        const buttonEl =\n",
              "          document.querySelector('#df-59e8bfc6-9755-4b4d-97cf-ce221a51214e button.colab-df-convert');\n",
              "        buttonEl.style.display =\n",
              "          google.colab.kernel.accessAllowed ? 'block' : 'none';\n",
              "\n",
              "        async function convertToInteractive(key) {\n",
              "          const element = document.querySelector('#df-59e8bfc6-9755-4b4d-97cf-ce221a51214e');\n",
              "          const dataTable =\n",
              "            await google.colab.kernel.invokeFunction('convertToInteractive',\n",
              "                                                     [key], {});\n",
              "          if (!dataTable) return;\n",
              "\n",
              "          const docLinkHtml = 'Like what you see? Visit the ' +\n",
              "            '<a target=\"_blank\" href=https://colab.research.google.com/notebooks/data_table.ipynb>data table notebook</a>'\n",
              "            + ' to learn more about interactive tables.';\n",
              "          element.innerHTML = '';\n",
              "          dataTable['output_type'] = 'display_data';\n",
              "          await google.colab.output.renderOutput(dataTable, element);\n",
              "          const docLink = document.createElement('div');\n",
              "          docLink.innerHTML = docLinkHtml;\n",
              "          element.appendChild(docLink);\n",
              "        }\n",
              "      </script>\n",
              "    </div>\n",
              "  </div>\n",
              "  "
            ]
          },
          "metadata": {},
          "execution_count": 4
        }
      ]
    },
    {
      "cell_type": "markdown",
      "source": [
        "2. Display the last 10 rows of thw dataset\n"
      ],
      "metadata": {
        "id": "JcZckL2c9Es9"
      }
    },
    {
      "cell_type": "code",
      "source": [
        "df.tail(10)"
      ],
      "metadata": {
        "colab": {
          "base_uri": "https://localhost:8080/",
          "height": 824
        },
        "id": "2pT-XTHt8_X-",
        "outputId": "e7c14839-c048-4d3d-a25d-a4b79133bb5f"
      },
      "execution_count": 5,
      "outputs": [
        {
          "output_type": "execute_result",
          "data": {
            "text/plain": [
              "                                                Address    Lot AM or PM  \\\n",
              "9990  75731 Molly Springs\\nWest Danielle, VT 96934-5102  93 ty       PM   \n",
              "9991              PSC 8165, Box 8498\\nAPO AP 60327-0346  50 dA       AM   \n",
              "9992  885 Allen Mountains Apt. 230\\nWallhaven, LA 16995  40 vH       PM   \n",
              "9993  7555 Larson Locks Suite 229\\nEllisburgh, MA 34...  72 jg       PM   \n",
              "9994       6276 Rojas Hollow\\nLake Louis, WY 56410-7837  93 Ex       PM   \n",
              "9995      966 Castaneda Locks\\nWest Juliafurt, CO 96415  92 XI       PM   \n",
              "9996  832 Curtis Dam Suite 785\\nNorth Edwardburgh, T...  41 JY       AM   \n",
              "9997              Unit 4434 Box 6343\\nDPO AE 28026-0283  74 Zh       AM   \n",
              "9998               0096 English Rest\\nRoystad, IA 12457  74 cL       PM   \n",
              "9999     40674 Barrett Stravenue\\nGrimesville, WI 79682  64 Hr       AM   \n",
              "\n",
              "                                           Browser Info  \\\n",
              "9990  Mozilla/5.0 (Macintosh; Intel Mac OS X 10_7_4;...   \n",
              "9991  Mozilla/5.0 (compatible; MSIE 8.0; Windows NT ...   \n",
              "9992  Mozilla/5.0 (Macintosh; PPC Mac OS X 10_6_5) A...   \n",
              "9993  Mozilla/5.0 (Macintosh; U; Intel Mac OS X 10_8...   \n",
              "9994  Opera/9.68.(X11; Linux x86_64; sl-SI) Presto/2...   \n",
              "9995  Mozilla/5.0 (Windows NT 5.1) AppleWebKit/5352 ...   \n",
              "9996  Mozilla/5.0 (compatible; MSIE 9.0; Windows NT ...   \n",
              "9997  Mozilla/5.0 (Macintosh; U; Intel Mac OS X 10_7...   \n",
              "9998  Mozilla/5.0 (Macintosh; Intel Mac OS X 10_8_8;...   \n",
              "9999  Mozilla/5.0 (X11; Linux i686; rv:1.9.5.20) Gec...   \n",
              "\n",
              "                         Company       Credit Card CC Exp Date  \\\n",
              "9990  Pace, Vazquez and Richards   869968197049750       04/24   \n",
              "9991                  Snyder Inc  4221582137197481       02/24   \n",
              "9992                   Wells Ltd  4664825258997302       10/20   \n",
              "9993              Colon and Sons    30025560104631       10/25   \n",
              "9994                Ritter-Smith  3112186784121077       01/25   \n",
              "9995               Randall-Sloan   342945015358701       03/22   \n",
              "9996    Hale, Collins and Wilson   210033169205009       07/25   \n",
              "9997                Anderson Ltd  6011539787356311       05/21   \n",
              "9998                    Cook Inc   180003348082930       11/17   \n",
              "9999                  Greene Inc  4139972901927273       02/19   \n",
              "\n",
              "      CC Security Code       CC Provider                        Email  \\\n",
              "9990               877      JCB 15 digit  andersonmichael@sherman.biz   \n",
              "9991               969           Voyager           kking@wise-liu.com   \n",
              "9992               431          Discover            bberry@wright.net   \n",
              "9993               629           Maestro    chelseawilliams@lopez.biz   \n",
              "9994              1823           Maestro           iroberts@gmail.com   \n",
              "9995               838      JCB 15 digit       iscott@wade-garner.com   \n",
              "9996               207      JCB 16 digit           mary85@hotmail.com   \n",
              "9997                 1     VISA 16 digit            tyler16@gmail.com   \n",
              "9998               987  American Express      elizabethmoore@reid.net   \n",
              "9999               302      JCB 15 digit        rachelford@vaughn.com   \n",
              "\n",
              "                               Job       IP Address Language  Purchase Price  \n",
              "9990           Early years teacher     54.170.3.185       ru           18.35  \n",
              "9991         IT sales professional    254.25.31.156       el           25.93  \n",
              "9992                  Set designer    174.173.51.32       de           67.96  \n",
              "9993  Designer, exhibition/display    177.46.82.128       el           65.61  \n",
              "9994     Education officer, museum    242.44.112.18       zh           31.85  \n",
              "9995                    Printmaker    29.73.197.114       it           82.21  \n",
              "9996               Energy engineer   121.133.168.51       pt           25.63  \n",
              "9997            Veterinary surgeon    156.210.0.254       el           83.98  \n",
              "9998      Local government officer     55.78.26.143       es           38.84  \n",
              "9999        Embryologist, clinical  176.119.198.199       el           67.59  "
            ],
            "text/html": [
              "\n",
              "  <div id=\"df-031f6d32-3fc8-420c-b0df-f3f554580c55\">\n",
              "    <div class=\"colab-df-container\">\n",
              "      <div>\n",
              "<style scoped>\n",
              "    .dataframe tbody tr th:only-of-type {\n",
              "        vertical-align: middle;\n",
              "    }\n",
              "\n",
              "    .dataframe tbody tr th {\n",
              "        vertical-align: top;\n",
              "    }\n",
              "\n",
              "    .dataframe thead th {\n",
              "        text-align: right;\n",
              "    }\n",
              "</style>\n",
              "<table border=\"1\" class=\"dataframe\">\n",
              "  <thead>\n",
              "    <tr style=\"text-align: right;\">\n",
              "      <th></th>\n",
              "      <th>Address</th>\n",
              "      <th>Lot</th>\n",
              "      <th>AM or PM</th>\n",
              "      <th>Browser Info</th>\n",
              "      <th>Company</th>\n",
              "      <th>Credit Card</th>\n",
              "      <th>CC Exp Date</th>\n",
              "      <th>CC Security Code</th>\n",
              "      <th>CC Provider</th>\n",
              "      <th>Email</th>\n",
              "      <th>Job</th>\n",
              "      <th>IP Address</th>\n",
              "      <th>Language</th>\n",
              "      <th>Purchase Price</th>\n",
              "    </tr>\n",
              "  </thead>\n",
              "  <tbody>\n",
              "    <tr>\n",
              "      <th>9990</th>\n",
              "      <td>75731 Molly Springs\\nWest Danielle, VT 96934-5102</td>\n",
              "      <td>93 ty</td>\n",
              "      <td>PM</td>\n",
              "      <td>Mozilla/5.0 (Macintosh; Intel Mac OS X 10_7_4;...</td>\n",
              "      <td>Pace, Vazquez and Richards</td>\n",
              "      <td>869968197049750</td>\n",
              "      <td>04/24</td>\n",
              "      <td>877</td>\n",
              "      <td>JCB 15 digit</td>\n",
              "      <td>andersonmichael@sherman.biz</td>\n",
              "      <td>Early years teacher</td>\n",
              "      <td>54.170.3.185</td>\n",
              "      <td>ru</td>\n",
              "      <td>18.35</td>\n",
              "    </tr>\n",
              "    <tr>\n",
              "      <th>9991</th>\n",
              "      <td>PSC 8165, Box 8498\\nAPO AP 60327-0346</td>\n",
              "      <td>50 dA</td>\n",
              "      <td>AM</td>\n",
              "      <td>Mozilla/5.0 (compatible; MSIE 8.0; Windows NT ...</td>\n",
              "      <td>Snyder Inc</td>\n",
              "      <td>4221582137197481</td>\n",
              "      <td>02/24</td>\n",
              "      <td>969</td>\n",
              "      <td>Voyager</td>\n",
              "      <td>kking@wise-liu.com</td>\n",
              "      <td>IT sales professional</td>\n",
              "      <td>254.25.31.156</td>\n",
              "      <td>el</td>\n",
              "      <td>25.93</td>\n",
              "    </tr>\n",
              "    <tr>\n",
              "      <th>9992</th>\n",
              "      <td>885 Allen Mountains Apt. 230\\nWallhaven, LA 16995</td>\n",
              "      <td>40 vH</td>\n",
              "      <td>PM</td>\n",
              "      <td>Mozilla/5.0 (Macintosh; PPC Mac OS X 10_6_5) A...</td>\n",
              "      <td>Wells Ltd</td>\n",
              "      <td>4664825258997302</td>\n",
              "      <td>10/20</td>\n",
              "      <td>431</td>\n",
              "      <td>Discover</td>\n",
              "      <td>bberry@wright.net</td>\n",
              "      <td>Set designer</td>\n",
              "      <td>174.173.51.32</td>\n",
              "      <td>de</td>\n",
              "      <td>67.96</td>\n",
              "    </tr>\n",
              "    <tr>\n",
              "      <th>9993</th>\n",
              "      <td>7555 Larson Locks Suite 229\\nEllisburgh, MA 34...</td>\n",
              "      <td>72 jg</td>\n",
              "      <td>PM</td>\n",
              "      <td>Mozilla/5.0 (Macintosh; U; Intel Mac OS X 10_8...</td>\n",
              "      <td>Colon and Sons</td>\n",
              "      <td>30025560104631</td>\n",
              "      <td>10/25</td>\n",
              "      <td>629</td>\n",
              "      <td>Maestro</td>\n",
              "      <td>chelseawilliams@lopez.biz</td>\n",
              "      <td>Designer, exhibition/display</td>\n",
              "      <td>177.46.82.128</td>\n",
              "      <td>el</td>\n",
              "      <td>65.61</td>\n",
              "    </tr>\n",
              "    <tr>\n",
              "      <th>9994</th>\n",
              "      <td>6276 Rojas Hollow\\nLake Louis, WY 56410-7837</td>\n",
              "      <td>93 Ex</td>\n",
              "      <td>PM</td>\n",
              "      <td>Opera/9.68.(X11; Linux x86_64; sl-SI) Presto/2...</td>\n",
              "      <td>Ritter-Smith</td>\n",
              "      <td>3112186784121077</td>\n",
              "      <td>01/25</td>\n",
              "      <td>1823</td>\n",
              "      <td>Maestro</td>\n",
              "      <td>iroberts@gmail.com</td>\n",
              "      <td>Education officer, museum</td>\n",
              "      <td>242.44.112.18</td>\n",
              "      <td>zh</td>\n",
              "      <td>31.85</td>\n",
              "    </tr>\n",
              "    <tr>\n",
              "      <th>9995</th>\n",
              "      <td>966 Castaneda Locks\\nWest Juliafurt, CO 96415</td>\n",
              "      <td>92 XI</td>\n",
              "      <td>PM</td>\n",
              "      <td>Mozilla/5.0 (Windows NT 5.1) AppleWebKit/5352 ...</td>\n",
              "      <td>Randall-Sloan</td>\n",
              "      <td>342945015358701</td>\n",
              "      <td>03/22</td>\n",
              "      <td>838</td>\n",
              "      <td>JCB 15 digit</td>\n",
              "      <td>iscott@wade-garner.com</td>\n",
              "      <td>Printmaker</td>\n",
              "      <td>29.73.197.114</td>\n",
              "      <td>it</td>\n",
              "      <td>82.21</td>\n",
              "    </tr>\n",
              "    <tr>\n",
              "      <th>9996</th>\n",
              "      <td>832 Curtis Dam Suite 785\\nNorth Edwardburgh, T...</td>\n",
              "      <td>41 JY</td>\n",
              "      <td>AM</td>\n",
              "      <td>Mozilla/5.0 (compatible; MSIE 9.0; Windows NT ...</td>\n",
              "      <td>Hale, Collins and Wilson</td>\n",
              "      <td>210033169205009</td>\n",
              "      <td>07/25</td>\n",
              "      <td>207</td>\n",
              "      <td>JCB 16 digit</td>\n",
              "      <td>mary85@hotmail.com</td>\n",
              "      <td>Energy engineer</td>\n",
              "      <td>121.133.168.51</td>\n",
              "      <td>pt</td>\n",
              "      <td>25.63</td>\n",
              "    </tr>\n",
              "    <tr>\n",
              "      <th>9997</th>\n",
              "      <td>Unit 4434 Box 6343\\nDPO AE 28026-0283</td>\n",
              "      <td>74 Zh</td>\n",
              "      <td>AM</td>\n",
              "      <td>Mozilla/5.0 (Macintosh; U; Intel Mac OS X 10_7...</td>\n",
              "      <td>Anderson Ltd</td>\n",
              "      <td>6011539787356311</td>\n",
              "      <td>05/21</td>\n",
              "      <td>1</td>\n",
              "      <td>VISA 16 digit</td>\n",
              "      <td>tyler16@gmail.com</td>\n",
              "      <td>Veterinary surgeon</td>\n",
              "      <td>156.210.0.254</td>\n",
              "      <td>el</td>\n",
              "      <td>83.98</td>\n",
              "    </tr>\n",
              "    <tr>\n",
              "      <th>9998</th>\n",
              "      <td>0096 English Rest\\nRoystad, IA 12457</td>\n",
              "      <td>74 cL</td>\n",
              "      <td>PM</td>\n",
              "      <td>Mozilla/5.0 (Macintosh; Intel Mac OS X 10_8_8;...</td>\n",
              "      <td>Cook Inc</td>\n",
              "      <td>180003348082930</td>\n",
              "      <td>11/17</td>\n",
              "      <td>987</td>\n",
              "      <td>American Express</td>\n",
              "      <td>elizabethmoore@reid.net</td>\n",
              "      <td>Local government officer</td>\n",
              "      <td>55.78.26.143</td>\n",
              "      <td>es</td>\n",
              "      <td>38.84</td>\n",
              "    </tr>\n",
              "    <tr>\n",
              "      <th>9999</th>\n",
              "      <td>40674 Barrett Stravenue\\nGrimesville, WI 79682</td>\n",
              "      <td>64 Hr</td>\n",
              "      <td>AM</td>\n",
              "      <td>Mozilla/5.0 (X11; Linux i686; rv:1.9.5.20) Gec...</td>\n",
              "      <td>Greene Inc</td>\n",
              "      <td>4139972901927273</td>\n",
              "      <td>02/19</td>\n",
              "      <td>302</td>\n",
              "      <td>JCB 15 digit</td>\n",
              "      <td>rachelford@vaughn.com</td>\n",
              "      <td>Embryologist, clinical</td>\n",
              "      <td>176.119.198.199</td>\n",
              "      <td>el</td>\n",
              "      <td>67.59</td>\n",
              "    </tr>\n",
              "  </tbody>\n",
              "</table>\n",
              "</div>\n",
              "      <button class=\"colab-df-convert\" onclick=\"convertToInteractive('df-031f6d32-3fc8-420c-b0df-f3f554580c55')\"\n",
              "              title=\"Convert this dataframe to an interactive table.\"\n",
              "              style=\"display:none;\">\n",
              "        \n",
              "  <svg xmlns=\"http://www.w3.org/2000/svg\" height=\"24px\"viewBox=\"0 0 24 24\"\n",
              "       width=\"24px\">\n",
              "    <path d=\"M0 0h24v24H0V0z\" fill=\"none\"/>\n",
              "    <path d=\"M18.56 5.44l.94 2.06.94-2.06 2.06-.94-2.06-.94-.94-2.06-.94 2.06-2.06.94zm-11 1L8.5 8.5l.94-2.06 2.06-.94-2.06-.94L8.5 2.5l-.94 2.06-2.06.94zm10 10l.94 2.06.94-2.06 2.06-.94-2.06-.94-.94-2.06-.94 2.06-2.06.94z\"/><path d=\"M17.41 7.96l-1.37-1.37c-.4-.4-.92-.59-1.43-.59-.52 0-1.04.2-1.43.59L10.3 9.45l-7.72 7.72c-.78.78-.78 2.05 0 2.83L4 21.41c.39.39.9.59 1.41.59.51 0 1.02-.2 1.41-.59l7.78-7.78 2.81-2.81c.8-.78.8-2.07 0-2.86zM5.41 20L4 18.59l7.72-7.72 1.47 1.35L5.41 20z\"/>\n",
              "  </svg>\n",
              "      </button>\n",
              "      \n",
              "  <style>\n",
              "    .colab-df-container {\n",
              "      display:flex;\n",
              "      flex-wrap:wrap;\n",
              "      gap: 12px;\n",
              "    }\n",
              "\n",
              "    .colab-df-convert {\n",
              "      background-color: #E8F0FE;\n",
              "      border: none;\n",
              "      border-radius: 50%;\n",
              "      cursor: pointer;\n",
              "      display: none;\n",
              "      fill: #1967D2;\n",
              "      height: 32px;\n",
              "      padding: 0 0 0 0;\n",
              "      width: 32px;\n",
              "    }\n",
              "\n",
              "    .colab-df-convert:hover {\n",
              "      background-color: #E2EBFA;\n",
              "      box-shadow: 0px 1px 2px rgba(60, 64, 67, 0.3), 0px 1px 3px 1px rgba(60, 64, 67, 0.15);\n",
              "      fill: #174EA6;\n",
              "    }\n",
              "\n",
              "    [theme=dark] .colab-df-convert {\n",
              "      background-color: #3B4455;\n",
              "      fill: #D2E3FC;\n",
              "    }\n",
              "\n",
              "    [theme=dark] .colab-df-convert:hover {\n",
              "      background-color: #434B5C;\n",
              "      box-shadow: 0px 1px 3px 1px rgba(0, 0, 0, 0.15);\n",
              "      filter: drop-shadow(0px 1px 2px rgba(0, 0, 0, 0.3));\n",
              "      fill: #FFFFFF;\n",
              "    }\n",
              "  </style>\n",
              "\n",
              "      <script>\n",
              "        const buttonEl =\n",
              "          document.querySelector('#df-031f6d32-3fc8-420c-b0df-f3f554580c55 button.colab-df-convert');\n",
              "        buttonEl.style.display =\n",
              "          google.colab.kernel.accessAllowed ? 'block' : 'none';\n",
              "\n",
              "        async function convertToInteractive(key) {\n",
              "          const element = document.querySelector('#df-031f6d32-3fc8-420c-b0df-f3f554580c55');\n",
              "          const dataTable =\n",
              "            await google.colab.kernel.invokeFunction('convertToInteractive',\n",
              "                                                     [key], {});\n",
              "          if (!dataTable) return;\n",
              "\n",
              "          const docLinkHtml = 'Like what you see? Visit the ' +\n",
              "            '<a target=\"_blank\" href=https://colab.research.google.com/notebooks/data_table.ipynb>data table notebook</a>'\n",
              "            + ' to learn more about interactive tables.';\n",
              "          element.innerHTML = '';\n",
              "          dataTable['output_type'] = 'display_data';\n",
              "          await google.colab.output.renderOutput(dataTable, element);\n",
              "          const docLink = document.createElement('div');\n",
              "          docLink.innerHTML = docLinkHtml;\n",
              "          element.appendChild(docLink);\n",
              "        }\n",
              "      </script>\n",
              "    </div>\n",
              "  </div>\n",
              "  "
            ]
          },
          "metadata": {},
          "execution_count": 5
        }
      ]
    },
    {
      "cell_type": "markdown",
      "source": [
        "3. check data Type of each columns"
      ],
      "metadata": {
        "id": "FuK_DuhC9VUr"
      }
    },
    {
      "cell_type": "code",
      "source": [
        "df.info()"
      ],
      "metadata": {
        "colab": {
          "base_uri": "https://localhost:8080/"
        },
        "id": "H70LsB429UfD",
        "outputId": "3b93655d-9be1-43b7-d4b1-09a0579f7c0d"
      },
      "execution_count": 6,
      "outputs": [
        {
          "output_type": "stream",
          "name": "stdout",
          "text": [
            "<class 'pandas.core.frame.DataFrame'>\n",
            "RangeIndex: 10000 entries, 0 to 9999\n",
            "Data columns (total 14 columns):\n",
            " #   Column            Non-Null Count  Dtype  \n",
            "---  ------            --------------  -----  \n",
            " 0   Address           10000 non-null  object \n",
            " 1   Lot               10000 non-null  object \n",
            " 2   AM or PM          10000 non-null  object \n",
            " 3   Browser Info      10000 non-null  object \n",
            " 4   Company           10000 non-null  object \n",
            " 5   Credit Card       10000 non-null  int64  \n",
            " 6   CC Exp Date       10000 non-null  object \n",
            " 7   CC Security Code  10000 non-null  int64  \n",
            " 8   CC Provider       10000 non-null  object \n",
            " 9   Email             10000 non-null  object \n",
            " 10  Job               10000 non-null  object \n",
            " 11  IP Address        10000 non-null  object \n",
            " 12  Language          10000 non-null  object \n",
            " 13  Purchase Price    10000 non-null  float64\n",
            "dtypes: float64(1), int64(2), object(11)\n",
            "memory usage: 1.1+ MB\n"
          ]
        }
      ]
    },
    {
      "cell_type": "code",
      "source": [
        "df.dtypes"
      ],
      "metadata": {
        "colab": {
          "base_uri": "https://localhost:8080/"
        },
        "id": "HM1fndS-9fOs",
        "outputId": "c6511736-a2fc-4845-e07d-cece7a3a3d02"
      },
      "execution_count": 7,
      "outputs": [
        {
          "output_type": "execute_result",
          "data": {
            "text/plain": [
              "Address              object\n",
              "Lot                  object\n",
              "AM or PM             object\n",
              "Browser Info         object\n",
              "Company              object\n",
              "Credit Card           int64\n",
              "CC Exp Date          object\n",
              "CC Security Code      int64\n",
              "CC Provider          object\n",
              "Email                object\n",
              "Job                  object\n",
              "IP Address           object\n",
              "Language             object\n",
              "Purchase Price      float64\n",
              "dtype: object"
            ]
          },
          "metadata": {},
          "execution_count": 7
        }
      ]
    },
    {
      "cell_type": "markdown",
      "source": [
        "4. check the null values in dataset"
      ],
      "metadata": {
        "id": "vMBYDGjE-EjZ"
      }
    },
    {
      "cell_type": "code",
      "source": [
        "df.isnull().sum()"
      ],
      "metadata": {
        "colab": {
          "base_uri": "https://localhost:8080/"
        },
        "id": "EdasZPbY9ngI",
        "outputId": "819c8aa5-1d3e-4991-f88e-0d541cfbada6"
      },
      "execution_count": 8,
      "outputs": [
        {
          "output_type": "execute_result",
          "data": {
            "text/plain": [
              "Address             0\n",
              "Lot                 0\n",
              "AM or PM            0\n",
              "Browser Info        0\n",
              "Company             0\n",
              "Credit Card         0\n",
              "CC Exp Date         0\n",
              "CC Security Code    0\n",
              "CC Provider         0\n",
              "Email               0\n",
              "Job                 0\n",
              "IP Address          0\n",
              "Language            0\n",
              "Purchase Price      0\n",
              "dtype: int64"
            ]
          },
          "metadata": {},
          "execution_count": 8
        }
      ]
    },
    {
      "cell_type": "markdown",
      "source": [
        "`Findings` - no null values in given dataset"
      ],
      "metadata": {
        "id": "j6ZLxvEC-SZ6"
      }
    },
    {
      "cell_type": "markdown",
      "source": [
        "5. how many rows and columns in the given dataset"
      ],
      "metadata": {
        "id": "RbTCjC5M-0a3"
      }
    },
    {
      "cell_type": "code",
      "source": [
        "df.shape\n",
        "print(\"Total number of rows in given dataset is = \" , df.shape[0])\n",
        "print(\"Total number of columns in given dataset is = \" , df.shape[1])"
      ],
      "metadata": {
        "colab": {
          "base_uri": "https://localhost:8080/"
        },
        "id": "o6E7qB7t-OUL",
        "outputId": "fb728741-bf31-4fd8-b7ac-bcb3e54b174c"
      },
      "execution_count": 9,
      "outputs": [
        {
          "output_type": "stream",
          "name": "stdout",
          "text": [
            "Total number of rows in given dataset is =  10000\n",
            "Total number of columns in given dataset is =  14\n"
          ]
        }
      ]
    },
    {
      "cell_type": "markdown",
      "source": [
        "6. highest and lowest purchase price"
      ],
      "metadata": {
        "id": "NUxe8SN8_TYx"
      }
    },
    {
      "cell_type": "code",
      "source": [
        "df.columns"
      ],
      "metadata": {
        "colab": {
          "base_uri": "https://localhost:8080/"
        },
        "id": "bco80fOR-jcM",
        "outputId": "c9f091c2-3958-41c3-f0d5-ce4c6f3950fe"
      },
      "execution_count": 10,
      "outputs": [
        {
          "output_type": "execute_result",
          "data": {
            "text/plain": [
              "Index(['Address', 'Lot', 'AM or PM', 'Browser Info', 'Company', 'Credit Card',\n",
              "       'CC Exp Date', 'CC Security Code', 'CC Provider', 'Email', 'Job',\n",
              "       'IP Address', 'Language', 'Purchase Price'],\n",
              "      dtype='object')"
            ]
          },
          "metadata": {},
          "execution_count": 10
        }
      ]
    },
    {
      "cell_type": "code",
      "source": [
        "print(\"Highest purchase price is : \",df['Purchase Price'].max())\n",
        "print(\"Lowest purchase price is : \",df['Purchase Price'].min())"
      ],
      "metadata": {
        "colab": {
          "base_uri": "https://localhost:8080/"
        },
        "id": "jpJDUB3-_cRN",
        "outputId": "5bd6cea4-8960-4a0f-b54e-ffbbecd0be46"
      },
      "execution_count": 11,
      "outputs": [
        {
          "output_type": "stream",
          "name": "stdout",
          "text": [
            "Highest purchase price is :  99.99\n",
            "Lowest purchase price is :  0.0\n"
          ]
        }
      ]
    },
    {
      "cell_type": "markdown",
      "source": [
        "7. Average purchase price"
      ],
      "metadata": {
        "id": "sAE2Nt26_4dk"
      }
    },
    {
      "cell_type": "code",
      "source": [
        "print(\"Average  purchase price is : \",df['Purchase Price'].mean())"
      ],
      "metadata": {
        "colab": {
          "base_uri": "https://localhost:8080/"
        },
        "id": "wDhoX54o_gNr",
        "outputId": "4bcf5d23-3b64-40bc-d45f-44356fcd63cd"
      },
      "execution_count": 12,
      "outputs": [
        {
          "output_type": "stream",
          "name": "stdout",
          "text": [
            "Average  purchase price is :  50.347302\n"
          ]
        }
      ]
    },
    {
      "cell_type": "markdown",
      "source": [
        "8. How many people have french `fr` as thier language"
      ],
      "metadata": {
        "id": "s5OMP1UQAFHr"
      }
    },
    {
      "cell_type": "code",
      "source": [
        "print(\"Total number of people have french as their language is \" , (df['Language'] == \"fr\").sum())"
      ],
      "metadata": {
        "colab": {
          "base_uri": "https://localhost:8080/"
        },
        "id": "5ndN6U4QAD3s",
        "outputId": "3c43a123-3172-4f71-b6f2-5a6682cc93e4"
      },
      "execution_count": 13,
      "outputs": [
        {
          "output_type": "stream",
          "name": "stdout",
          "text": [
            "Total number of people have french as their language is  1097\n"
          ]
        }
      ]
    },
    {
      "cell_type": "code",
      "source": [
        "import seaborn as sns\n",
        "sns.histplot(df[\"Language\"])"
      ],
      "metadata": {
        "colab": {
          "base_uri": "https://localhost:8080/",
          "height": 468
        },
        "id": "InBFVbM9Ah-v",
        "outputId": "acbe9e58-fd6c-4ae5-a6ba-2235b705d5d6"
      },
      "execution_count": 14,
      "outputs": [
        {
          "output_type": "execute_result",
          "data": {
            "text/plain": [
              "<Axes: xlabel='Language', ylabel='Count'>"
            ]
          },
          "metadata": {},
          "execution_count": 14
        },
        {
          "output_type": "display_data",
          "data": {
            "text/plain": [
              "<Figure size 640x480 with 1 Axes>"
            ],
            "image/png": "[encoded data removed]"
          },
          "metadata": {}
        }
      ]
    },
    {
      "cell_type": "code",
      "source": [
        "import matplotlib.pyplot as plt"
      ],
      "metadata": {
        "id": "oytES5r5CHqS"
      },
      "execution_count": 15,
      "outputs": []
    },
    {
      "cell_type": "code",
      "source": [
        "value_counts = df['Language'].value_counts()\n",
        "# Create pie chart\n",
        "plt.pie(value_counts, labels=value_counts.index, autopct='%1.1f%%')\n",
        "\n",
        "# Show chart\n",
        "plt.show()"
      ],
      "metadata": {
        "colab": {
          "base_uri": "https://localhost:8080/",
          "height": 406
        },
        "id": "-khR6lf9CnIh",
        "outputId": "c569aa9b-ba4b-44ee-f384-d154e265ec36"
      },
      "execution_count": 16,
      "outputs": [
        {
          "output_type": "display_data",
          "data": {
            "text/plain": [
              "<Figure size 640x480 with 1 Axes>"
            ],
            "image/png": "[encoded data removed]"
          },
          "metadata": {}
        }
      ]
    },
    {
      "cell_type": "markdown",
      "source": [
        "`Findings`\n",
        "Total number of people have french as their language is  1097 which is 11 percentage"
      ],
      "metadata": {
        "id": "qJylAuaHEDcF"
      }
    },
    {
      "cell_type": "markdown",
      "source": [
        "9. Job Title contains engineer"
      ],
      "metadata": {
        "id": "HLZqT6F0EmKu"
      }
    },
    {
      "cell_type": "code",
      "source": [
        "len(df[df['Job'].str.contains('engineer' , case = False)])"
      ],
      "metadata": {
        "colab": {
          "base_uri": "https://localhost:8080/"
        },
        "id": "KGJMJrHUCwxL",
        "outputId": "e7f6cf54-12c5-479c-d3e0-f6cfcf891636"
      },
      "execution_count": 17,
      "outputs": [
        {
          "output_type": "execute_result",
          "data": {
            "text/plain": [
              "984"
            ]
          },
          "metadata": {},
          "execution_count": 17
        }
      ]
    },
    {
      "cell_type": "markdown",
      "source": [
        "Find the email of the person with the following IP Address : 132.207.160.22"
      ],
      "metadata": {
        "id": "Q5w-m4P2c6bt"
      }
    },
    {
      "cell_type": "code",
      "source": [
        "df.query('`IP Address` == \"132.207.160.22\"')['Email']\n"
      ],
      "metadata": {
        "colab": {
          "base_uri": "https://localhost:8080/"
        },
        "id": "ibGALxzfE2vk",
        "outputId": "f9e8e96b-77c2-43ad-a01e-dc126df19eb9"
      },
      "execution_count": 18,
      "outputs": [
        {
          "output_type": "execute_result",
          "data": {
            "text/plain": [
              "2    amymiller@morales-harrison.com\n",
              "Name: Email, dtype: object"
            ]
          },
          "metadata": {},
          "execution_count": 18
        }
      ]
    },
    {
      "cell_type": "markdown",
      "source": [
        "11. how many peoplw have mastercar as thier credit card provider and made purchase above 50"
      ],
      "metadata": {
        "id": "8aWuZSj5eoyC"
      }
    },
    {
      "cell_type": "code",
      "source": [
        "len(df.query('`CC Provider` == \"Mastercard\" and `Purchase Price` > 50'))\n",
        "\n"
      ],
      "metadata": {
        "colab": {
          "base_uri": "https://localhost:8080/"
        },
        "id": "OhpuGC8idp45",
        "outputId": "c1fc18b7-1964-46e2-c0ea-1293a9b25879"
      },
      "execution_count": 19,
      "outputs": [
        {
          "output_type": "execute_result",
          "data": {
            "text/plain": [
              "405"
            ]
          },
          "metadata": {},
          "execution_count": 19
        }
      ]
    },
    {
      "cell_type": "markdown",
      "source": [
        "12. find the email of the person with having following credit card number : 4664825258997302."
      ],
      "metadata": {
        "id": "ingsiuAehk3O"
      }
    },
    {
      "cell_type": "code",
      "source": [
        "df.query('`Credit Card` ==  4664825258997302')['Email']\n"
      ],
      "metadata": {
        "colab": {
          "base_uri": "https://localhost:8080/"
        },
        "id": "wUzqaZqdfXl2",
        "outputId": "51deacd3-6736-471c-f493-600fd1692d34"
      },
      "execution_count": 20,
      "outputs": [
        {
          "output_type": "execute_result",
          "data": {
            "text/plain": [
              "9992    bberry@wright.net\n",
              "Name: Email, dtype: object"
            ]
          },
          "metadata": {},
          "execution_count": 20
        }
      ]
    },
    {
      "cell_type": "markdown",
      "source": [
        "13 .how many person purchase during A.M and how many person purchase during P.M"
      ],
      "metadata": {
        "id": "G_6a_1jOiOo0"
      }
    },
    {
      "cell_type": "code",
      "source": [
        "print(\"Total number of perdon purchase during A.M are : \")\n",
        "len(df.query('`AM or PM` ==  \"AM\"'))\n",
        "print(\"Total number of perdon purchase during P.M are : \")\n",
        "len(df.query('`AM or PM` ==  \"PM\"'))"
      ],
      "metadata": {
        "colab": {
          "base_uri": "https://localhost:8080/"
        },
        "id": "wrRms7UEiJGH",
        "outputId": "10496dc5-dc74-47eb-c026-5beaef34116d"
      },
      "execution_count": 21,
      "outputs": [
        {
          "output_type": "stream",
          "name": "stdout",
          "text": [
            "Total number of perdon purchase during A.M are : \n",
            "Total number of perdon purchase during P.M are : \n"
          ]
        },
        {
          "output_type": "execute_result",
          "data": {
            "text/plain": [
              "5068"
            ]
          },
          "metadata": {},
          "execution_count": 21
        }
      ]
    },
    {
      "cell_type": "code",
      "source": [
        "am_count = len(df.query('`AM or PM` == \"AM\"'))\n",
        "pm_count = len(df.query('`AM or PM` == \"PM\"'))\n",
        "print(f\"Total number of purchases during AM: {am_count}\")\n",
        "print(f\"Total number of purchases during PM: {pm_count}\")\n"
      ],
      "metadata": {
        "colab": {
          "base_uri": "https://localhost:8080/"
        },
        "id": "N810OvsyjB9h",
        "outputId": "7f2f5dac-3cef-41f0-c10f-d9f2f55f7bf4"
      },
      "execution_count": 22,
      "outputs": [
        {
          "output_type": "stream",
          "name": "stdout",
          "text": [
            "Total number of purchases during AM: 4932\n",
            "Total number of purchases during PM: 5068\n"
          ]
        }
      ]
    },
    {
      "cell_type": "code",
      "source": [
        "df['AM or PM'].value_counts()"
      ],
      "metadata": {
        "colab": {
          "base_uri": "https://localhost:8080/"
        },
        "id": "vvLn2ytJjUY4",
        "outputId": "d0d8135a-53c1-48e6-f3b0-fb30ec769148"
      },
      "execution_count": 23,
      "outputs": [
        {
          "output_type": "execute_result",
          "data": {
            "text/plain": [
              "PM    5068\n",
              "AM    4932\n",
              "Name: AM or PM, dtype: int64"
            ]
          },
          "metadata": {},
          "execution_count": 23
        }
      ]
    },
    {
      "cell_type": "markdown",
      "source": [
        "find how many credic card expire in 2020."
      ],
      "metadata": {
        "id": "OcDQw8ifmfMy"
      }
    },
    {
      "cell_type": "code",
      "source": [
        "def fun():\n",
        "    count = 0\n",
        "    for i in df['CC Exp Date']:\n",
        "        if i.split('/')[1] =='20':\n",
        "            count +=1\n",
        "        \n",
        "    print(count)\n",
        "fun()"
      ],
      "metadata": {
        "colab": {
          "base_uri": "https://localhost:8080/"
        },
        "id": "js2vglEamfpC",
        "outputId": "2d3a68fb-48a2-41d5-8582-76f826e7c6d2"
      },
      "execution_count": 33,
      "outputs": [
        {
          "output_type": "stream",
          "name": "stdout",
          "text": [
            "988\n"
          ]
        }
      ]
    },
    {
      "cell_type": "markdown",
      "source": [
        "15.find the top 5 email provider."
      ],
      "metadata": {
        "id": "lhweZfp0o4Qf"
      }
    },
    {
      "cell_type": "code",
      "source": [
        "df['Email'].value_counts()"
      ],
      "metadata": {
        "colab": {
          "base_uri": "https://localhost:8080/"
        },
        "id": "lcBEk29BnFxN",
        "outputId": "283de123-8c22-436d-aa28-b17f082fc9cb"
      },
      "execution_count": 35,
      "outputs": [
        {
          "output_type": "execute_result",
          "data": {
            "text/plain": [
              "leekathy@yahoo.com           2\n",
              "joshua41@hotmail.com         2\n",
              "christopher29@gmail.com      2\n",
              "ethomas@hotmail.com          2\n",
              "brownjohn@hotmail.com        2\n",
              "                            ..\n",
              "jamesbarnett@gomez.org       1\n",
              "hernandezrobert@frank.com    1\n",
              "lindseywilliams@pratt.com    1\n",
              "ann28@hotmail.com            1\n",
              "rachelford@vaughn.com        1\n",
              "Name: Email, Length: 9954, dtype: int64"
            ]
          },
          "metadata": {},
          "execution_count": 35
        }
      ]
    },
    {
      "cell_type": "code",
      "source": [
        "df['Email'].apply(lambda x:x.split(\"@\")[1]).value_counts().head(5)"
      ],
      "metadata": {
        "colab": {
          "base_uri": "https://localhost:8080/"
        },
        "id": "SaE2LnIGpKKJ",
        "outputId": "04738f87-9d7e-4ff9-9f9a-e0db3ac4b0a6"
      },
      "execution_count": 44,
      "outputs": [
        {
          "output_type": "execute_result",
          "data": {
            "text/plain": [
              "hotmail.com     1638\n",
              "yahoo.com       1616\n",
              "gmail.com       1605\n",
              "smith.com         42\n",
              "williams.com      37\n",
              "Name: Email, dtype: int64"
            ]
          },
          "metadata": {},
          "execution_count": 44
        }
      ]
    },
    {
      "cell_type": "markdown",
      "source": [
        "![download.jfif](data:image/jpeg;base64,/9j/4AAQSkZJRgABAQAAAQABAAD/2wCEAAoHCBcWFBgWFRYWGBgYGhkaHRwZGR8aGR0aGhgdGh8cGBwcITAnHCArHxkdJj0nKy8xNTU1HSQ7QDszPy40NTEBDAwMEA8QERIRGDQdGB0xPzExMTExNDExND8xMTExPzQxMTExMTE0NDQ/MTQxMTExMTExMTExMTExMTExMTExMf/AABEIAJwBQwMBIgACEQEDEQH/xAAcAAEAAgMBAQEAAAAAAAAAAAAABgcBBAUIAwL/xABBEAACAQIDBQYDBgIJBAMAAAABAgADEQQSIQUGMUFRBxMiMmFxgYKRFEJSkqGxI3IVM1NiY3ODwtGjssHwJDST/8QAFQEBAQAAAAAAAAAAAAAAAAAAAAH/xAAWEQEBAQAAAAAAAAAAAAAAAAAAARH/2gAMAwEAAhEDEQA/ALfiIgIiICIiAiIgIiICIiAiIgIiICIiAiIgIiICIiAiIgIiICIiAiIgIiICIiAiIgIiICIiAiIgIiICIiAiIgIiICIiAicvbG8GHwz00rOEaqwVRxOumZgPKt7DMdLkTqQEREBERAREQEREBERAREQEREBERAREQEREBERAREQEREBERAREQERECFbxdouHwtc0MlSoyaMUsFQkXykk3JsRwGnvNIdqlC1+6b4uP/CmRzffs8xC1K2JoN36PUeoyAEVEzuWIUXOcC54WNgNDI5uXsnC4mt3GIqVaTuf4bKVCseaMGQ2bprrw0NrlTyv2uUx5cMW/wBS37pNR+2A/dwg+Nb/AISdBuyHDcsRiR/+Z/2SC797tUcA9OnTqvUd1LsHCjKt7L5eZOb8sDnUN5sSmKOKWq3eMxZgWJRgTfIy8ClvDbkOFjYyXN2vYnlhqA92dv8AyJEt093Xx2I7lGCAKXdyuYKBoPCCLkkgcRz6SX4vsnamju+NphEVnYmgwsqi5P8AWdBA1K3avjT5Uwy/I7fu85GN7QNoVOOJZAeVNET6MFzfrI1RQuyooJZ2VVHMsxAA9ySJbmE7IaQt3uJqt1FNFT4XYvArPZVJ8RiEVi9R3JuWYs7eE2F2NySdB7z0vTBAAJuQBc9TbUzi7v7p4XB60KYz2sXc53t0zHyj0FhO5CEREBERAREQE5Wxd4cPimqLQqBjSbKwsR1AZb+ZSQbMNDacLtQ26cPgyiG1TEE01txCWu7enh8N+rCQHsfpuceSt8i0Wz9LErkFuuYaexgXhET8VagVSzEKqgkkmwAAuSTyFoGMRXSmjM7KiKCzMxCqoHEknQCVttLtFq16ww+y6Odjf+I6ngOLKpsFUX8zkDhprItvnvVV2jXXD4cN3OcKiDjVe9g7+l9QDwGp14SfbOATZOy2p0yDicT4HqDRj4SXK9FVbgerDmYVx9idpeM+0U6dXuqyNUVCUTKzZnCgoykDiQR4dR73lzmUH2W7L77aCMR4KCtVPS4GVB+Zgfkl+QhErvtU3sqYYU8Ph3yVHBd3W2ZaYNlC34FiG16Keunz7Md9K2JdsNiDndULrUsASqlVZXA0v4gQR636kLIiIgIiICIiAiIgIiICIiAiIgIiICV7v9uCMRmxOFULiB4mUHKKpGtwfu1OjaX0v1FhRAhHZ9vf9pptQxJyYmgpz5xlLIuhcg8GXgw5HXnpUW8O02xuMqVRc949kHRB4UHp4QCfUmWF2vbKpU1TFoxp13fuzk07xSjXLW4EKCL8wbG+lolutu93po3vnxDMi8slPXvH9+7RwD/iIYVZPZZsMUMKapHjxBz3592uifA6v88/HattPJhDSB1qglv5EKix93dBbmA3QycU6YVQqiwUAADgABYAfCUn2rbSz4goDoDl46ZaQIBA5XqVKoP+WvSEfHsn2N32N71h4MMuf0LtdUHw8Te6iXnKp2TtVNk7LpnKGxOKvVVDpowGVn5hVTLpzJI6kQatvdjmq96cVWD34BrUx6d35LehB9bwr0fMMbC50HrONs7bY+wJjMRamDRWo/QXW5sOOvIcdQJTG+23sTiWzViadInwUL2Cjj41++4BGYnyk5RY3AIv9GBFwQR1BuJ+p562RtDFbKxFMuGRHVKj0ibhqTkg3QeV7AkcCCBfS4noKlUVlDKQysLgg3BB5gjjA/bMALk2A5mfmnUVgGVgwPAqQQfYjjIF2u7c7nCrh0PixJIbqKS2z/mJVfYtILuBt18G5dnP2co7unI2BVCg5O1SyjqA5OguAvmJ5z3m3qxOLfPUZ6aHVKaMVRVuQDp5zcHxHmDa3CT3s12/WGBxT1mZ0w9u7Zzdr5CTTzHUi+W1/wAVukKi/antTvsaQDdKV6a/KbOfcuGX5BJ52VbJGHwXfvZWxBzktYWprogJPAWu2v45UbotbFZaj2TPldz+BPO4tzYKzAc2YDnJNtXG19qd4yn7Ps/DL94HIoVfCGA/rKhGWyDRbr1uwXdQrK65lZXU81YMPqNJWvbDt1kprhENs9mqkc0Gqp8SLn0yj704PYxiXGMemt+7eizuv3Q6ugVvfxEeoPpNPtSzfbDm43f9xl/6YpwjvdjewQS+MceUmnSv1sC7D4EKD/NNDtX2nnrlQdEvST5cr1j8Xakn+m8n+7NVMLsilUNstPD981uZKmo31YmUlvBUd8RkvmdbU9ODVSxZyB61Xf8ASFWp2ObLyYR65HiruQNNclO6D6vnP0lhTS2Ns8YfD0qC8KaIl+pVQCfcm5+M+W8m0fs2Er1xxSm7L6vayD4sQIRQu/W0vtGPxDg3UP3a/wAtPwfqQx+aWF2M7Jy0KmJYa1WyIf7iHxfV7/lEp7X1J/Un/meiUddm7LUsL/Z6K3HDNUsBb5nb9YV09q7Zw+GUNiKyUweGZtT/ACqNT8BPlsreHC4kkYevTdgLlQbOB1ytY29bSnN193q21sRVr4iqwUEZ3ABYsdRTpg6KANeBABGhvP3vfuwNl1qL0arlHzZXbKKlN0y+IMoAIsw0tYgMDe4sRekTk7rbW+1YSlXNgzrZwOAdCVcD0zKfhKz3z3jdtou1Oq6U8ClvA7Kr1bgBWynUGo6IQfuo8C4onD3M2o+JwVGvVUK7qb2Fg2ViucDkGAv8ZVe/e+Fc49/s1epTSh/DXK3gZ1Jzsy+VvFdfED5YF4RORurj6lfB0a1ZAlR0DMBoDqcrAcsy2a3LNadeAiIgIiICIiAiIgIiYYgangOPtApXtc2ga2OTDLr3Sqo/zKpBN/lCfUyZ7h7PXvHqAeCiiYanca+RGdvfKKSn1ptKhrbQ7/GtiGOlSqzk9EJJ+oT9hL/3UwZpYSkrDK7Kajj/ABKpNRx8GYj4Qrp4isERnbyorMfZRc/oJ5sxuKWtiQ1Y+C4zkcSoJdwPVmL29WEvrfiqU2diyOPcVF/MpX/dKB2Fsp8ViKdBPM7WJ45VGrOfQAE+9hzgiS4anUxCYjaldR4bph0+73moXLf7lFczerKTxBvG93tknFYmlhxfxuAx5hB4na/UKG+NpZPaeEw2FoYakAqIjZRzBulMH1JRqtzzzHrOd2S4ZKS4rH1iFSkuQMeWgdyOptkAA625wN7ta24KbYfCIBlTLWZORCnLSQjmt1ZiPRZHOzjY7YzGipVu6UAHYtrme5KKfdszn+U9ZHt5NsNi8TUxDjLnPhX8KKLKvvYa+pMtzcZKWz9lDEVyE7wd8xtqcwtTQDiTlC2HUmBA+0nEd/tV6any9zQB4jMbE/RqhB9jJT2Ld7kxIzFsOrKqA8M+pcoOQKlCR1I9ZXe1dsfaMVXxRUJmDsFAHh8Ippe3FhdWJ6gmWJtLaH9F7Ho0EOXE16eluKlxmqP8oYKPXL0gQjtA2v8AacfVYHwIe6S34aZIJHu+Y/SZ3a2O2OxBUkrhqfjqNwyU1XKq3/GUXKDy8bdbxqnTJIVQSSQqqOJJNgB6k2EuTHbH/o/Yr0Vt39fIjsOb12WmQD0VCVHtfmYFTbYxorV3qKuVCbIijRUUZURR6IF063lo7wYf+jtjUaBtneohe3OpZqze4DIq+1pFtxthCrtNFIulG1c6aWAU0wfcsh+Bn17Ut5Ria4o0yDSw5YZhwaodGIPRbZQed29IEOwFFHqItV+7S/iaxYhRqcqjzMbWA6kX0ki2ztl8YaeCwVF0w6aU6K6u7fjq20vc31Nhckk8uK+E7lsM9Zc1OoqVSuozUxVZWUEG9yqHUfiE9E7F2ThqCA4alTRXAOZBqwIuCzcW06mBxtwd0xgaJzlWr1LF2HBQL5UU8wLnXmSfSb+8W6uGxoHf0zmXRXQ5XA6X5j0IInciEV5vlTXZ2y0w6O7qaqKucgtlDmqU0AGWyZeHAyutwMGa20sOG8QVzUa/+Gpe/wCcL9ZMu27Ef/Vp/wCa/wARkUfuZx+xujfHu34MO9vdqlMfteFXdKz7YtuotFcGpu7sruAfKinMt/VmANuin0nf3132pYJSilXxLDwoNQn96pbyj04n2uRQ+MxT1XerUYu7kszHUkn/ANsByAAHCBIdx9j97jaCsLrdHPsGdtfQrSb6ibG+G92JrtXpM4OHqtdUyjwolS6FWAvdgisbkjxfSVdm+BIeq63vTo5F00JIyLr1Bo1D/q+srzZmEXEYrDUmNkcYWmSOIBpoGt63v8YFu9kCqNnAi12q1S3uCFF/lCyPdt2K8WFpDiBVc+lyqr9bP9Jq7ubXfYuIq4XFq5ou2dXQX4AL3ij7ylQoZRqpXgZFd9dtjGYypWXyWCU7gg5FvYkHUXYs1v70Cw9zdspgdirWqmxZ63dr952LtlUD3UknkLmVnsmg+KqphgTnxNcM7jieJLfKHqP9JtbcatUw1CqyFMKgXD4dW4tZSz1PUsUuzcLkAXsZJexrZwfE1a7DSjTCqTwDVCbn4KjfmgWLvXtVcBgWZAFKoKVFeWcjKmnRQMx9FMpTd3Yf2jEYWibk1mLvfUiihNyf5sr6+qzpdpO8v2zEZaZJoULqhHldz5n9jlsvopI4yU9leBD4nEYgarRp08Kh9Aq5j7nIp+c9YFoqoAAAsBoAOAA5CZiIQiIgIiICIiAiIgJyt6sSaeBxTrxShVI9wjW/WdWam1cEtehVosbLVpuhPQOpW49rwPNWx8PnxFGnyepTQ/yu4U/oTPUE86ndzHYbEJ/8aqz03V1KIzoxRwwIdQRlNudjrwE9CYWqXRWZGQsoJRrZlJFyrZSRccNDC1zt7MC1fA4mkgu70nCjqwF1HxIAlcdilFTWxTMv8REpqLixVWZ84sdQcyLf2lvTVo7PppUeqiKtSoFDsBZmC3tm62vxhFbdtOAe1CuoJpqGRyOCksGQt0B8Qv1sOch27dLEY5E2fRIWirmpVZdR4mvnc8DYABU5kX9V9BsLix1Bn5pUVUWRVUcbKABfrpCvPfaBu79jxTIoIouoakTzAUB1vzYNcn0Zes6LVMVtqutNF7uhSsoAuadJQLZnOmZyNAOPIADMZd+MwVOquWrTSovHK6h1v7MJ+sNh0RQiIqKOCooVR7AaQPNu8mx2wuJqYd8xCnwk6F6baqw5G40JGmYMOUlmytkV9sVMRiqvhRabpRUaJ3gUhES/FUJzMebEeoFv7R2XRrqFr0qdVRqA6B7H0uNJsYegiIqoioiiyqoCqB0AGggUt2TbBNXFtWqKQuF+6wIIrNcBWB4FQGJB4HLLC7SMM74IvTUs1GrSrFRxK02Baw52Fz8JK4hHnXYG2cQDVpYVS1fErSp5k1cJTQpZPw3BF3J0A5cRId5+z9sNgKTopqVUZjXKAmysotlHNEK2+Yn2uLD4OmhYoiIW1YogUn3IGs+8Lqkd5sAKmx9n4lBfuk7pyPwsSl/zpb5pNOzTeFKmHTDlgGVbICdbKPEmpuSvmH9xlGpVpKtobHpVcM+GKqtN1K2UBQt9QygaAhvF7ied9sbNr4DEFKhZHQ3R1JUMFPhem369RqIHpiJXHZ3tvaeKZTVCHDKPFUdCrsbaCmVIDG9iTltx5yx4RUnbbROfCv8Ady1Vv63Rv2/aVxgsdUpMWpVHpsVKkoxUlTYkXHK4H0nonend6njqBo1CVscysvmRwCLi/HQkEcwZT+3t2MLgHy4jEtiKlrihSQUzbkatQs2RT6DMeUK0dzd16mPr2JYUlN6tQ6nrlUni7foDc8geTtWsrYio1NQE7xgirwyI2VAPlVf1kio7341aOakiUcKM1NUpoFp5nVhZXa7u41ckHipJtIxsvANWrU6FPRqjqinpc2zeyi7ewgXz2dYHu8Erf2hzA9UUBFPxCZ/nMrDffdKtg8Q1airmgX7xHQX7ps2cK1h4cp4E6WA5y88Lh1poiILKiqijoqiw/QT6wjz/ALT3vxm0UXDd3SqG4P8ABpFqhN+NyzZPUqF+mknW4/Z4lJe9xtNKlVrZabWZKY468mc/QcBzMsVRbhpMwId2lbuPi8Iooi9Si+dUFhmXKVZV5BrEEe1ucqHY2DxzFsLQWuveECotmRdP7UkeFQCb34jkeE9HxeBSe/m7a4HBYWkpzM1R2qPa2apkUC3RQLgDpc8SZNOyGgF2crc3q1WPyt3Y/RJ2t8t3Fx2HNItkdWDo9rhXAI1HNSCQff0mnuDsDE4Kg1GvUpOuYsioGOXMSWu7AXuTe1tNdTfQJVERAREQEREBERAREQEREBERAREQEREBERAREQEREBERAT51qKvYMisBqMyhrHqLz6RAwBMxECB9o++pwijD0CPtDrmLce7Q3Aa3AubGw5WueQMQ3I3K+0A4zGsVw+rjOxDVbal3Ym4T1vdvbjqdpGDNLajPXVnpVTTcAG2emqqropOgPhI9MwPOa29m/NbGKKSqKGHFv4aG5a3DO1hcC2igAe+litbfPeJcVWVaK5MPRBSigGRcvN8o8t7Cw5ADneSvsd2Bmdsa48KXp0r82PnYew8N+pbpIrupuhVxrqBenT0ZntwQ81vzI8vXjqATL/wGCSjTWlTUKiKFUDkB+5536wNiIiEIiICIiAiIgIiICIiAiIgIiICIiAiIgIiICIiAiIgIiICIiAiIgIiICIiAiIgc/bWxaOKp93iEDrxHJla1syMNVPtIrhuzLDowIdiAb+JEZ9DfQsCo9wt/WTqIGvgcElJQlNcqjXiSSTxZmOrMeZJJM2IiAiIgIiICIiAiIgIiICIiAiIgIiICIiAiIgIiICIiAiIgIiICIiAiIgIiICIiAiIgIiICIiAiIgIiICIiAiIgIiICIiAiIgfHZetGmTqTTQknUk5RqTzm5aamyf6il/lp/wBgm5AxaLTMQMWi0zEDFotMxAxaLTMQMWi0zEDFotMxA+VVgoLHgASdL6DXgNTOdT21SLEEka+E5WswFNahI00sH4cfrOmy3BB4TUbZlEixpJbXTKOeUf7V+ggag29R1zZ1AJALKQCc7rZdNT/DY26D3n1bbFIfiOqjyMPNU7u+o1AbmOU+52fS/s05nyjiSWP63+p6z9HBUzxRPyj8Qb/uAPwEDSr7eoqpYEkKaea6soVXZQGYldBZsw620m1Wx6IbHNeymwRifGcqg2HEkHTjoZj+j6QtamnP7o+7a37Cft8BTPFFPAagcAbj6GB8MNtei7BUYktwOVgp83BiLHyN+U9J9amMAKgKzZlZgRYDwgEL4iLEg+2mpE+lHCoLEIgI4WUC3m4dPO35jGJwdOp50VtCPEL6NoR7Wgc8bcQhiqOSqByABcjicpvZrAqTa+jr1int+ixyqc13yAixU6DxXB0XMQoJtdiLaEGbj7PpHjTQ8tVB0+PsJ9K2Cpk3KIT6qD0/4H0gc3+nkFwVdWF8wIACkMVszcBorP6Kpbha+xs7ai1rZVZQyllLAC+UhWFgbixIGvG+k+y7PpDhTThbyjg17j21P1M+1OgqszBQGa1yBqbcLwPvaLTMQMWi0zEDFotMxAxaLTMQMWi0zEDFotMxAxaLTMQMWiZiB//Z)"
      ],
      "metadata": {
        "id": "72fw4carrH2S"
      }
    },
    {
      "cell_type": "markdown",
      "source": [
        "🙏"
      ],
      "metadata": {
        "id": "v1U_CcTnrWUV"
      }
    },
    {
      "cell_type": "code",
      "source": [],
      "metadata": {
        "id": "yFyXCfLVqbFo"
      },
      "execution_count": null,
      "outputs": []
    }
  ]
}